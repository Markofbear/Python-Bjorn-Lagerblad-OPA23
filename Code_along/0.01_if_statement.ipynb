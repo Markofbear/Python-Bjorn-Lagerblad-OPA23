{
 "cells": [
  {
   "cell_type": "code",
   "execution_count": null,
   "metadata": {},
   "outputs": [],
   "source": [
    "Ask the user to input a number and check if this number is positive, negative or zero and print it out."
   ]
  },
  {
   "cell_type": "code",
   "execution_count": 2,
   "metadata": {},
   "outputs": [
    {
     "name": "stdout",
     "output_type": "stream",
     "text": [
      "NUMBAH POSITIVE\n"
     ]
    }
   ],
   "source": [
    "number = float(input(\"NUMBAH:\"))\n",
    "\n",
    "if number > 0: \n",
    "    print(\"NUMBAH POSITIVE\")\n",
    "elif number < 0:\n",
    "    print(\"NUMBAH NOT POSITIVE\")\n",
    "else:\n",
    "    print(\"NUMBAH 0\") \n"
   ]
  },
  {
   "cell_type": "markdown",
   "metadata": {},
   "source": [
    "Ask the user to input two numbers and check which one is the smallest and print it out."
   ]
  },
  {
   "cell_type": "code",
   "execution_count": 18,
   "metadata": {},
   "outputs": [
    {
     "name": "stdout",
     "output_type": "stream",
     "text": [
      "THEY SAME\n"
     ]
    }
   ],
   "source": [
    "number1 = float(input(\"NUMBER 1:\"))\n",
    "number2 = float(input(\"NUMBER 2:\"))\n",
    "\n",
    "if number1 > number2:\n",
    "    print(f\"{number1} is bigger\") \n",
    "elif number2 > number1:\n",
    "    print(f\"{number2} is bigger\")\n",
    "else:\n",
    "    print(\"THEY SAME\")\n",
    "\n",
    "    "
   ]
  }
 ],
 "metadata": {
  "kernelspec": {
   "display_name": "venv",
   "language": "python",
   "name": "python3"
  },
  "language_info": {
   "codemirror_mode": {
    "name": "ipython",
    "version": 3
   },
   "file_extension": ".py",
   "mimetype": "text/x-python",
   "name": "python",
   "nbconvert_exporter": "python",
   "pygments_lexer": "ipython3",
   "version": "3.11.7"
  }
 },
 "nbformat": 4,
 "nbformat_minor": 2
}
