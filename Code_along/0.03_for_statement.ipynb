{
 "cells": [
  {
   "cell_type": "markdown",
   "metadata": {},
   "source": [
    "<div style=\"max-width:66ch;\">\n",
    "\n",
    "## 0. Count numbers (*)\n",
    "\n",
    "Use a **for** statement to count from: \n",
    "\n",
    "&nbsp; a) &nbsp; -10 to 10 with one increment (*)\n",
    "\n",
    "&nbsp; b) &nbsp; -10 to 10 with two increment (*)\n",
    "\n",
    "---\n",
    "\n"
   ]
  },
  {
   "cell_type": "code",
   "execution_count": null,
   "metadata": {},
   "outputs": [],
   "source": [
    "\"\"\"\n",
    "Repetition på while:\n",
    "\n",
    "a_summa = 0\n",
    "i = 1\n",
    "\n",
    "while i <= 100:\n",
    "    a_summa += i\n",
    "    i += 1\n",
    "\n",
    "print(\"a) sum:\", a_summa) \"\"\"\n",
    "\n",
    "print(\"a) -10 till 10 med 1:\")\n",
    "for i in range(-10, 11):\n",
    "    print(i)\n",
    "\n",
    "print(\"b) -10 till 10 med 2\")\n",
    "for i in range(-10, 11, 2):\n",
    "    print(i)\n"
   ]
  },
  {
   "cell_type": "markdown",
   "metadata": {},
   "source": [
    "## 1. Arithmetic sum (*)\n",
    "Use a **for** statement to compute the following sums: \n",
    "\n",
    "&nbsp; a) &nbsp; $\\text{sum} = 1 + 2 + \\ldots + 99+ 100$ (*)\n",
    "\n",
    "&nbsp; b) &nbsp; $\\text{sum} = 1 + 3 + 5 + \\ldots + 97 + 99$ (*)\n",
    "\n",
    "---\n"
   ]
  },
  {
   "cell_type": "code",
   "execution_count": 5,
   "metadata": {},
   "outputs": [
    {
     "name": "stdout",
     "output_type": "stream",
     "text": [
      "a) Summan är: 5050\n",
      "b) Summan är: 2500\n"
     ]
    }
   ],
   "source": [
    "#glöm inte if stasen från tidigare uppgift REPETERA\n",
    "\n",
    "summa_a= 0\n",
    "\n",
    "#101 eftersom sluttalet är 100\n",
    "for i in range(1, 101): \n",
    "    summa_a += i\n",
    "\n",
    "\n",
    "print(\"a) Summan är:\", summa_a)\n",
    "\n",
    "summa_b = 0\n",
    "\n",
    "# luring för att lägga till 2\n",
    "for i in range(1, 100, 2):\n",
    "    summa_b += i\n",
    "\n",
    "print(\"b) Summan är:\", summa_b)"
   ]
  },
  {
   "cell_type": "markdown",
   "metadata": {},
   "source": [
    "## 2. Multiplication table (*)\n",
    "Use **for** statement(s) to:\n",
    "\n",
    "&nbsp; a) &nbsp; print out the 6th multiplication table from 0 to 10 (*)\n",
    "\n",
    "&nbsp; b) &nbsp; let the user input the **table**, **start** and **end** of the table. (*)\n",
    "\n",
    "&nbsp; c) &nbsp; print out a full multiplication table from 0 to 10. (**)\n",
    "\n",
    "---\n"
   ]
  },
  {
   "cell_type": "code",
   "execution_count": null,
   "metadata": {},
   "outputs": [],
   "source": [
    "print(\"a) Multiplikation för 6, 0 till 10:\")\n",
    "\n",
    "#repetion range är fortfarande 11 för avslut på 10\n",
    "for i in range(11):\n",
    "\n",
    "    #f är $ i C# \n",
    "\n",
    "    #6*i = +1 varje gång\n",
    "    print(f\"6 * {i} = {6 * i}\")\n",
    "\n",
    "table = int(input(\"Table: \"))\n",
    "start = int(input(\"Start: \"))\n",
    "end = int(input(\"End: \"))\n",
    "\n"
   ]
  },
  {
   "cell_type": "markdown",
   "metadata": {},
   "source": [
    "## 3. Faculty (*)\n",
    "\n",
    "Use a **for** statement to compute $n!$. \n",
    "\n",
    "$n! = 1\\cdot2\\cdot3\\cdot\\ldots\\cdot(n-1)\\cdot n $\n",
    "\n",
    "Let the user input $n$. \n",
    "\n",
    "--- \n"
   ]
  },
  {
   "cell_type": "code",
   "execution_count": null,
   "metadata": {},
   "outputs": [],
   "source": [
    "n = int(input(\"Enter a number: \")) # math how does it compute?\n",
    "\n",
    "nmbr = 1 \n",
    "\n",
    "for i in range(1, n + 1):\n",
    "    nmbr *= i\n",
    "\n",
    "print(f\"{n} is {nmbr}\")"
   ]
  },
  {
   "cell_type": "markdown",
   "metadata": {},
   "source": [
    "## 4. Pin code cracking (*)\n",
    "\n",
    "Start by creating a random four-digit number. Use **for** statement to do a brute force approach to figure out a correct guess.\n",
    "\n",
    "---\n"
   ]
  },
  {
   "cell_type": "code",
   "execution_count": 14,
   "metadata": {},
   "outputs": [
    {
     "name": "stdout",
     "output_type": "stream",
     "text": [
      "Pass: 1092\n",
      "Correct guess: 1092\n"
     ]
    }
   ],
   "source": [
    "import random # säger alltså till python att det är en import på en random siffra\n",
    "\n",
    "# Generate a random four-digit number\n",
    "lock = str(random.randint(0000, 9999))\n",
    "\n",
    "print(\"Pass:\", lock)\n",
    "\n",
    "# gissar mellan siffroran tills det hittar rätt\n",
    "for guess in range(0000, 10000):\n",
    "    if str(guess) == lock:\n",
    "        print(\"Correct guess:\", guess)\n",
    "        break\n"
   ]
  },
  {
   "cell_type": "markdown",
   "metadata": {},
   "source": [
    "## XXX 5. Rice on chessboard (*)\n",
    "\n",
    "In first square of the chessboard there is one grain of rice, in the second square there is two grains, in the third square there is four grains and so on. How many grains are there in the whole chessboard when all squares are filled using this pattern?\n",
    "\n",
    "<img style=\"display:inline-block; text-align:left;\" src=\"https://github.com/kokchun/assets/blob/main/python/chessboard.png?raw=true\" width=200>\n",
    "\n",
    "---\n",
    "\n",
    "</div>"
   ]
  },
  {
   "cell_type": "code",
   "execution_count": null,
   "metadata": {},
   "outputs": [],
   "source": [
    "#mattematisk ekvation som jag behöver hitta"
   ]
  }
 ],
 "metadata": {
  "kernelspec": {
   "display_name": "venv",
   "language": "python",
   "name": "python3"
  },
  "language_info": {
   "codemirror_mode": {
    "name": "ipython",
    "version": 3
   },
   "file_extension": ".py",
   "mimetype": "text/x-python",
   "name": "python",
   "nbconvert_exporter": "python",
   "pygments_lexer": "ipython3",
   "version": "3.11.7"
  }
 },
 "nbformat": 4,
 "nbformat_minor": 2
}
