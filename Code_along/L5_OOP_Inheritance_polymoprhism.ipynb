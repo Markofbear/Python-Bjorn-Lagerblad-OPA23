{
 "cells": [
  {
   "cell_type": "markdown",
   "metadata": {},
   "source": [
    "## Code alongs - OOP Polymoprhism and inheritance"
   ]
  },
  {
   "cell_type": "code",
   "execution_count": 1,
   "metadata": {},
   "outputs": [
    {
     "data": {
      "text/plain": [
       "OldCoinStash(owner='Ragnar')"
      ]
     },
     "execution_count": 1,
     "metadata": {},
     "output_type": "execute_result"
    }
   ],
   "source": [
    "from helper_modules.oldcoins import OldCoinsStash\n",
    "\n",
    "OldCoinsStash(\"Ragnar\")"
   ]
  },
  {
   "cell_type": "code",
   "execution_count": 5,
   "metadata": {},
   "outputs": [
    {
     "name": "stdout",
     "output_type": "stream",
     "text": [
      "Person Kokchun says hi\n",
      "Age must be a number\n"
     ]
    }
   ],
   "source": [
    "from numbers import Number\n",
    "\n",
    "class Person: \n",
    "    \"\"\"\"Base class generic methods shared by all subclasses\"\"\"\n",
    "    def __init__(self, name: str, age: int) -> None:\n",
    "        self.age = age\n",
    "        self.name = name\n",
    "    @property\n",
    "    def age(self) -> int:\n",
    "        return self.age\n",
    "\n",
    "    @age.setter\n",
    "    def age(self,value: Number) -> None:\n",
    "        if not isinstance(value, Number):\n",
    "            raise TypeError(\"Age must be a number\")\n",
    "\n",
    "        # validate that age is valid age\n",
    "        #VALIDATION CODE GOES HERE\n",
    "\n",
    "        self._age = value\n",
    "\n",
    "    # property for name with validation code in setter\n",
    "\n",
    "    def say_hi(self) -> None:\n",
    "        print(f\"Person {self.name} says hi\")\n",
    "\n",
    "p1 = Person(\"Kokchun\", 32) \n",
    "p1.say_hi()\n",
    "\n",
    "try:\n",
    "    p2 = Person(\"Gorde Bord\", \"trettriofem\")\n",
    "except TypeError as err:\n",
    "    print(err)"
   ]
  },
  {
   "cell_type": "code",
   "execution_count": 6,
   "metadata": {},
   "outputs": [
    {
     "name": "stdout",
     "output_type": "stream",
     "text": [
      "Student Bella talks Python\n",
      "Age must be a number\n"
     ]
    }
   ],
   "source": [
    "class Student(Person):\n",
    "    \"\"\"A student is a Person that knows a language\"\"\"\n",
    "    def __init__(self, name: str, age: int, language: str) -> None:\n",
    "        super().__init__(name, age) # uses parent class dunder init\n",
    "        \n",
    "        self.language = language\n",
    "\n",
    "    # overrides say_hi() \n",
    "    def say_hi(self) -> None:\n",
    "        print(f\"Student {self.name} talks {self.language}\")\n",
    "\n",
    "\n",
    "s1 = Student(\"Bella\", 2, \"Python\")\n",
    "s1.say_hi()\n",
    "\n",
    "# validation code for age is taken from parents age property\n",
    "try:\n",
    "    s2 = Student(\"Hanna\", \"twenty-two\", \"C#\")\n",
    "except TypeError as err:\n",
    "    print(err)"
   ]
  },
  {
   "cell_type": "code",
   "execution_count": 9,
   "metadata": {},
   "outputs": [
    {
     "name": "stdout",
     "output_type": "stream",
     "text": [
      "Person Bjorn Ironsight says hi\n"
     ]
    }
   ],
   "source": [
    "class Viking(Person):\n",
    "    \"\"\"Viking is a person, Viking has an OldCoinStash\"\"\"\n",
    "    def __init__(self, name: str, age: int) -> None:\n",
    "        super().__init__(name, age)\n",
    "\n",
    "        # composition - \"has a\" relation while inheritance \"is a\" relation\n",
    "        self.stash = OldCoinsStash(name)\n",
    "\n",
    "\n",
    "v1 = Viking(\"Bjorn Ironsight\", 36)\n",
    "v1.say_hi()"
   ]
  },
  {
   "cell_type": "code",
   "execution_count": 10,
   "metadata": {},
   "outputs": [
    {
     "name": "stdout",
     "output_type": "stream",
     "text": [
      "Person Kokchun says hi\n",
      "Student Bella talks Python\n",
      "Person Bjorn Ironsight says hi\n"
     ]
    }
   ],
   "source": [
    "people = (p1,s1,v1)\n",
    "\n",
    "for person in people: \n",
    "    #does different things for different types\n",
    "    person.say_hi()"
   ]
  },
  {
   "cell_type": "markdown",
   "metadata": {},
   "source": [
    "[10:27 AM] Kokchun  Giang\n",
    "## Operator overloading\n",
    " \n",
    "<div style=\"max-width:66ch;\">\n",
    " \n",
    "---\n",
    "## Operator overloading\n",
    " \n",
    "Ability to define and use custom behavior of operators for your objects. This is achieved by implementing dunder or special methods that correspond to that operator.\n",
    " \n",
    "- it gives additional functionality to an operator\n",
    "- e.g. + is overloaded for strings, int, float etc.\n",
    "- Read more: [operator overloading](https://www.geeksforgeeks.org/operator-overloading-in-python/)\n",
    " \n",
    "<table style=\"display:inline-block; text-align:left;\">\n",
    "  <tr style=\"background-color: #174A7E; color: white;\">\n",
    "    <th>Operator</th>\n",
    "    <th>Dunder Method</th>\n",
    "  </tr>\n",
    "  <tr>\n",
    "    <td style=\"text-align: center;\">+</td>\n",
    "    <td style=\"text-align: center;\">__add__(self, other)</td>\n",
    "  </tr>\n",
    "  <tr>\n",
    "    <td style=\"text-align: center;\">-</td>\n",
    "    <td style=\"text-align: center;\">__sub__(self, other)</td>\n",
    "  </tr>\n",
    "  <tr>\n",
    "    <td style=\"text-align: center;\">*</td>\n",
    "    <td style=\"text-align: center;\">__mul__(self, other)</td>\n",
    "  </tr>\n",
    "  <tr>\n",
    "    <td style=\"text-align: center;\">/</td>\n",
    "    <td style=\"text-align: center;\">__div__(self, other)</td>\n",
    "  </tr>\n",
    "  <tr>\n",
    "    <td style=\"text-align: center;\">//</td>\n",
    "    <td style=\"text-align: center;\">__floordiv__(self, other)</td>\n",
    "  </tr>\n",
    "  <tr>\n",
    "    <td style=\"text-align: center;\">%</td>\n",
    "    <td style=\"text-align: center;\">__mod__(self, other)</td>\n",
    "  </tr>\n",
    "  <tr>\n",
    "    <td style=\"text-align: center;\">**</td>\n",
    "    <td style=\"text-align: center;\">__pow__(self, other)</td>\n",
    "  </tr>\n",
    "  <tr>\n",
    "    <td style=\"text-align: center;\"><</td>\n",
    "    <td style=\"text-align: center;\">__lt__(self, other)</td>\n",
    "  </tr>\n",
    "  <tr>\n",
    "    <td style=\"text-align: center;\"><=</td>\n",
    "    <td style=\"text-align: center;\">__le__(self, other)</td>\n",
    "  </tr>\n",
    "  <tr>\n",
    "    <td style=\"text-align: center;\">></td>\n",
    "    <td style=\"text-align: center;\">__gt__(self, other)</td>\n",
    "  </tr>\n",
    "  <tr>\n",
    "    <td style=\"text-align: center;\">>=</td>\n",
    "    <td style=\"text-align: center;\">__ge__(self, other)</td>\n",
    "  </tr>\n",
    "  <tr>\n",
    "    <td style=\"text-align: center;\">==</td>\n",
    "    <td style=\"text-align: center;\">__eq__(self, other)</td>\n",
    "  </tr>\n",
    "</table>\n",
    " \n",
    " \n",
    "- Note that there are more operators that can be overloaded than those specified in this list\n",
    " \n",
    "</div>\n",
    "Operator Overloading in Python - GeeksforGeeks\n",
    "A Computer Science portal for geeks. It contains well written, well thought and well explained computer science and programming articles, quizzes and practice/competitive programming/company interv..."
   ]
  },
  {
   "cell_type": "code",
   "execution_count": 17,
   "metadata": {},
   "outputs": [
    {
     "name": "stdout",
     "output_type": "stream",
     "text": [
      "(1, 2, 3)\n"
     ]
    },
    {
     "data": {
      "text/plain": [
       "(1, 2, 3)"
      ]
     },
     "execution_count": 17,
     "metadata": {},
     "output_type": "execute_result"
    }
   ],
   "source": [
    "class Vector:\n",
    "    \"\"\"A class to represent a Euclidean vector with magnitude and direction\"\"\"\n",
    "\n",
    "    #numbers in a variadic parameter\n",
    "    def __init__(self, *numbers: float) -> None:\n",
    "        for number in numbers:\n",
    "            if not isinstance(number, Number):\n",
    "             raise TypeError(f\"{number} is not a valid number in a vector\")\n",
    "        \n",
    "        if len(numbers) <= 0:\n",
    "            raise ValueError(\"Vector cant be empty\")\n",
    "        \n",
    "        self._numbers = numbers\n",
    "        print(self._numbers)\n",
    "\n",
    "    @property\n",
    "    def numbers(self) -> tuple:\n",
    "       return self._numbers\n",
    "\n",
    "\n",
    "v1 = Vector(1,2,3)    \n",
    "v1.numbers"
   ]
  }
 ],
 "metadata": {
  "kernelspec": {
   "display_name": "venv",
   "language": "python",
   "name": "python3"
  },
  "language_info": {
   "codemirror_mode": {
    "name": "ipython",
    "version": 3
   },
   "file_extension": ".py",
   "mimetype": "text/x-python",
   "name": "python",
   "nbconvert_exporter": "python",
   "pygments_lexer": "ipython3",
   "version": "3.11.7"
  }
 },
 "nbformat": 4,
 "nbformat_minor": 2
}
