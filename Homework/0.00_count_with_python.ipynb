{
 "cells": [
  {
   "cell_type": "code",
   "execution_count": null,
   "metadata": {},
   "outputs": [],
   "source": [
    "0. Pythagorean theorem (*)\n",
    "\n",
    "  a)   A right angled triangle has the catheti: a = 3 and b = 4 length units. Compute the hypothenuse of the triangle. (*)\n",
    "\n",
    "  b)   A right angled triangle has hypothenuse c = 7.0 and a cathetus a = 5.0 length units. Compute the other cathetus and round to one decimal. (*)\n"
   ]
  },
  {
   "cell_type": "code",
   "execution_count": 9,
   "metadata": {},
   "outputs": [
    {
     "name": "stdout",
     "output_type": "stream",
     "text": [
      "The length of the hypotenuse is: 5.0\n"
     ]
    }
   ],
   "source": [
    "import math\n",
    "\n",
    "# Given catheti\n",
    "a = 3\n",
    "b = 4\n",
    "\n",
    "# Calculate the length of the hypotenuse using the Pythagorean theorem\n",
    "c = math.sqrt(a**2 + b**2)\n",
    "\n",
    "print(\"The length of the hypotenuse is:\", c)"
   ]
  },
  {
   "cell_type": "markdown",
   "metadata": {},
   "source": [
    "b)   A right angled triangle has hypothenuse c = 7.0 and a cathetus a = 5.0 length units. Compute the other cathetus and round to one decimal. (*)"
   ]
  },
  {
   "cell_type": "code",
   "execution_count": 20,
   "metadata": {},
   "outputs": [
    {
     "name": "stdout",
     "output_type": "stream",
     "text": [
      "One decimal: 4.9\n"
     ]
    }
   ],
   "source": [
    "import math\n",
    "\n",
    "a = 5.0\n",
    "c = 7.0\n",
    "\n",
    "b = math.sqrt(a**2 - b**2)\n",
    "b_rounded = round(b, 1)\n",
    "print(f\"One decimal: {b_rounded}\" )\n"
   ]
  },
  {
   "cell_type": "markdown",
   "metadata": {},
   "source": [
    "A machine learning algorithm has been trained to predict whether or not it would rain the next day. Out of 365 predictions, it got 300 correct, compute the accuracy of this model."
   ]
  },
  {
   "cell_type": "code",
   "execution_count": 3,
   "metadata": {},
   "outputs": [
    {
     "name": "stdout",
     "output_type": "stream",
     "text": [
      "Accurancy in percentage: 82.1917808219178\n"
     ]
    }
   ],
   "source": [
    "predictions_total = 365\n",
    "accurate = 300\n",
    "\n",
    "accuracy = (accurate/predictions_total) * 100\n",
    "\n",
    "print(f\"Accurancy in percentage: {accuracy:.2f}\")"
   ]
  },
  {
   "cell_type": "markdown",
   "metadata": {},
   "source": [
    "3. Classification accuracy (*)\n",
    "\n",
    "A machine learning model has been trained to detect fire. Here is the result of its predictions:\n",
    "True Positive (TP)\n",
    "\n",
    "    Reality: fire\n",
    "    Predicted: fire\n",
    "    Number of TP: 2\n",
    "\n",
    "\tFalse Positive (FP)\n",
    "\n",
    "    Reality: no fire\n",
    "    Predicted: fire\n",
    "    Number of FP: 2\n",
    "\n",
    "False Negative (FN)\n",
    "\n",
    "    Reality: fire\n",
    "    Predicted: no fire\n",
    "    Number of FN: 11\n",
    "\n",
    "\tTrue Negative (TN)\n",
    "\n",
    "    Reality: no fire\n",
    "    Predicted: no fire\n",
    "    Number of TN: 985\n",
    "\n",
    "    \n"
   ]
  },
  {
   "cell_type": "code",
   "execution_count": 28,
   "metadata": {},
   "outputs": [
    {
     "name": "stdout",
     "output_type": "stream",
     "text": [
      "0.987\n"
     ]
    }
   ],
   "source": [
    "tp = 2\n",
    "fp = 2\n",
    "fn = 11\n",
    "tn = 985\n",
    "\n",
    "acc =  (tp+tn)/(tp+tn+fp+fn)\n",
    "\n",
    "print(f\"{acc}\")\n",
    "\n"
   ]
  },
  {
   "cell_type": "markdown",
   "metadata": {},
   "source": [
    "User\n",
    "Compute the slope and the constant term of this line using the points A: 4.4 and B: 0.1 in python ."
   ]
  },
  {
   "cell_type": "code",
   "execution_count": 29,
   "metadata": {},
   "outputs": [
    {
     "name": "stdout",
     "output_type": "stream",
     "text": [
      "Slope of the line: 0.75\n",
      "Constant term of the line: 1.0\n"
     ]
    }
   ],
   "source": [
    "# Coordinates of point A\n",
    "x1 = 4\n",
    "y1 = 4\n",
    "\n",
    "# Coordinates of point B\n",
    "x2 = 0\n",
    "y2 = 1\n",
    "\n",
    "# Calculate the slope\n",
    "slope = (y2 - y1) / (x2 - x1)\n",
    "\n",
    "# Using point A and the slope to find the constant term\n",
    "constant = y1 - slope * x1\n",
    "\n",
    "print(\"Slope of the line:\", slope)\n",
    "print(\"Constant term of the line:\", constant)\n"
   ]
  },
  {
   "cell_type": "markdown",
   "metadata": {},
   "source": [
    "5. Euclidean distance (*)"
   ]
  },
  {
   "cell_type": "code",
   "execution_count": 31,
   "metadata": {},
   "outputs": [
    {
     "ename": "SyntaxError",
     "evalue": "invalid syntax (319632279.py, line 12)",
     "output_type": "error",
     "traceback": [
      "\u001b[1;36m  Cell \u001b[1;32mIn[31], line 12\u001b[1;36m\u001b[0m\n\u001b[1;33m    print(\"The distance between the points p1 and p2 is:\", distance:.f2)\u001b[0m\n\u001b[1;37m                                                                   ^\u001b[0m\n\u001b[1;31mSyntaxError\u001b[0m\u001b[1;31m:\u001b[0m invalid syntax\n"
     ]
    }
   ],
   "source": [
    "import math\n",
    "\n",
    "# Coordinates of point p1\n",
    "x1, y1 = 3, 5\n",
    "\n",
    "# Coordinates of point p2\n",
    "x2, y2 = -2, 4\n",
    "\n",
    "# Calculate the distance using the distance formula\n",
    "distance = math.sqrt((x2 - x1)**2 + (y2 - y1)**2)\n",
    "\n",
    "print(\"The distance between the points p1 and p2 is:\", distance:.2f)"
   ]
  }
 ],
 "metadata": {
  "kernelspec": {
   "display_name": "venv",
   "language": "python",
   "name": "python3"
  },
  "language_info": {
   "codemirror_mode": {
    "name": "ipython",
    "version": 3
   },
   "file_extension": ".py",
   "mimetype": "text/x-python",
   "name": "python",
   "nbconvert_exporter": "python",
   "pygments_lexer": "ipython3",
   "version": "3.11.7"
  }
 },
 "nbformat": 4,
 "nbformat_minor": 2
}
