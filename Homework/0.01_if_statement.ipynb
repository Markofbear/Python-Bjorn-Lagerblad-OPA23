{
 "cells": [
  {
   "cell_type": "code",
   "execution_count": null,
   "metadata": {},
   "outputs": [],
   "source": [
    "Ask the user to input a number and check if this number is positive, negative or zero and print it out."
   ]
  },
  {
   "cell_type": "code",
   "execution_count": 2,
   "metadata": {},
   "outputs": [
    {
     "name": "stdout",
     "output_type": "stream",
     "text": [
      "NUMBAH POSITIVE\n"
     ]
    }
   ],
   "source": [
    "number = float(input(\"NUMBAH:\"))\n",
    "\n",
    "if number > 0: \n",
    "    print(\"NUMBAH POSITIVE\")\n",
    "elif number < 0:\n",
    "    print(\"NUMBAH NOT POSITIVE\")\n",
    "else:\n",
    "    print(\"NUMBAH 0\") \n"
   ]
  },
  {
   "cell_type": "markdown",
   "metadata": {},
   "source": [
    "Ask the user to input two numbers and check which one is the smallest and print it out."
   ]
  },
  {
   "cell_type": "code",
   "execution_count": 18,
   "metadata": {},
   "outputs": [
    {
     "name": "stdout",
     "output_type": "stream",
     "text": [
      "THEY SAME\n"
     ]
    }
   ],
   "source": [
    "number1 = float(input(\"NUMBER 1:\"))\n",
    "number2 = float(input(\"NUMBER 2:\"))\n",
    "\n",
    "if number1 > number2:\n",
    "    print(f\"{number1} is bigger\") \n",
    "elif number2 > number1:\n",
    "    print(f\"{number2} is bigger\")\n",
    "else:\n",
    "    print(\"THEY SAME\")\n",
    "\n",
    "    "
   ]
  },
  {
   "cell_type": "markdown",
   "metadata": {},
   "source": [
    "## 2. Right angle (*)\n",
    "\n",
    "Ask the user to input three angles and check if the triangle has a right angle. Your code should make sure that all three angles are valid and make up a triangle.\n",
    "\n",
    "<img src=\"https://github.com/kokchun/assets/blob/main/python/triangle_angles.png?raw=true\" width=\"200\"/>"
   ]
  },
  {
   "cell_type": "code",
   "execution_count": 1,
   "metadata": {},
   "outputs": [
    {
     "name": "stdout",
     "output_type": "stream",
     "text": [
      "These angels do not become a triangle\n"
     ]
    }
   ],
   "source": [
    "number1 = float(input(\"Enter the first angle in degrees: \"))\n",
    "number2 = float(input(\"Enter the second angle in degrees: \"))\n",
    "number3 = float(input(\"Enter the third angle in degrees: \"))\n",
    "\n",
    "num_all = number1 + number2 + number3\n",
    "\n",
    "if num_all != 180:\n",
    "    print(\"These angels do not become a triangle\")\n",
    "else:\n",
    "    if number1 == 90 or number2 == 90 or number == 90:\n",
    "        print(\"These angels become a triangle\")\n",
    "    else:\n",
    "        print(\"Triangle does not have the right angel!\")"
   ]
  },
  {
   "cell_type": "markdown",
   "metadata": {},
   "source": [
    "## 3. Medicine (*)\n",
    "\n",
    "The information in the following table is stated in a medicine package. Also it is stated that for children weight is more important than age.\n",
    "\n",
    "<table style=\"display: inline-block; text-align:left;\">\n",
    "<thead>\n",
    "    <tr style=\"background-color: #174A7E; color: white;\">\n",
    "        <th></th>\n",
    "        <th>Age</th>\n",
    "        <th>Number of pills</th>\n",
    "    </tr>\n",
    "</thead>\n",
    "\n",
    "<tbody>\n",
    "  <tr>\n",
    "    <td>Adults & adolescent <br>over 40 kg</td>\n",
    "    <td>over 12 years</td>\n",
    "    <td>1-2</td>\n",
    "  </tr>\n",
    "\n",
    "  <tr>\n",
    "    <td>Children 26-40 kg</td>\n",
    "    <td>7-12 years</td>\n",
    "    <td>1/2-1</td>\n",
    "  </tr>\n",
    "\n",
    "  <tr>\n",
    "    <td>Children 15-25 kg</td>\n",
    "    <td>3-7 years</td>\n",
    "    <td>1/2</td>\n",
    "  </tr>\n",
    "</tbody>\n",
    "</table>\n",
    "\n",
    "Let the user input an **age** and a **weight**, the program should recommend the number of pills for the user.\n"
   ]
  },
  {
   "cell_type": "code",
   "execution_count": 2,
   "metadata": {},
   "outputs": [
    {
     "name": "stdout",
     "output_type": "stream",
     "text": [
      "Recommended number of pills: No recommendation available for the given age and weight.\n"
     ]
    }
   ],
   "source": [
    "def recommended_pills(age, weight):\n",
    "    if weight > 40:\n",
    "        if age >12:\n",
    "            return \"1-2 pills!\"     \n",
    "    elif 26 <= weight <= 40:\n",
    "        if  7 <= age <= 12:\n",
    "            return \"1/2-1pill\"\n",
    "    elif 15 <= weight <= 25:\n",
    "        if 3 <= age <= 7:\n",
    "            return \"1/2 pill\"\n",
    "    return \"No recommendation available for the given age and weight.\"\n",
    "\n",
    "age = int(input(\"Enter the age in years: \"))\n",
    "weight = float(input(\"Enter the weight in kg: \"))\n",
    "\n",
    "recommendation = recommended_pills(age, weight)\n",
    "\n",
    "print(\"Recommended number of pills:\", recommendation)\n"
   ]
  },
  {
   "cell_type": "markdown",
   "metadata": {},
   "source": [
    "## 4. Divisible (*)\n",
    "Let the user input a number. Check if the number is\n",
    "<ol type=\"a\">\n",
    "  <li>even or odd</li>\n",
    "  <li>is divisible by 5</li>\n",
    "  <li>is divisble by 5 and odd</li>\n",
    "</ol> "
   ]
  },
  {
   "cell_type": "code",
   "execution_count": 4,
   "metadata": {},
   "outputs": [
    {
     "ename": "ValueError",
     "evalue": "invalid literal for int() with base 10: ''",
     "output_type": "error",
     "traceback": [
      "\u001b[1;31m---------------------------------------------------------------------------\u001b[0m",
      "\u001b[1;31mValueError\u001b[0m                                Traceback (most recent call last)",
      "Cell \u001b[1;32mIn[4], line 1\u001b[0m\n\u001b[1;32m----> 1\u001b[0m number \u001b[38;5;241m=\u001b[39m \u001b[38;5;28;43mint\u001b[39;49m\u001b[43m(\u001b[49m\u001b[38;5;28;43minput\u001b[39;49m\u001b[43m(\u001b[49m\u001b[38;5;124;43m\"\u001b[39;49m\u001b[38;5;124;43mEnter a number: \u001b[39;49m\u001b[38;5;124;43m\"\u001b[39;49m\u001b[43m)\u001b[49m\u001b[43m)\u001b[49m\n\u001b[0;32m      3\u001b[0m \u001b[38;5;66;03m# delat med två och ser om något blir över\u001b[39;00m\n\u001b[0;32m      4\u001b[0m \u001b[38;5;28;01mif\u001b[39;00m number \u001b[38;5;241m%\u001b[39m \u001b[38;5;241m2\u001b[39m \u001b[38;5;241m==\u001b[39m \u001b[38;5;241m0\u001b[39m:\n",
      "\u001b[1;31mValueError\u001b[0m: invalid literal for int() with base 10: ''"
     ]
    }
   ],
   "source": [
    "number = int(input(\"Enter a number: \"))\n",
    "\n",
    "# delat med två och ser om något blir över (% och inte / i detta fallet cause... reasons)\n",
    "if number % 2 == 0:\n",
    "    print(\"a) The number is even.\")\n",
    "else:\n",
    "    print(\"a) The number is odd.\")\n",
    "\n",
    "# delat med 5 och kollar om något blir över\n",
    "if number % 5 == 0:\n",
    "    print(\"b) The number is divisible by 5.\")\n",
    "else:\n",
    "    print(\"b) The number is not divisible by 5.\")\n",
    "\n",
    "# dela med fem OCH två för att se om det blir udda eller jämt!\n",
    "if number % 5 == 0 and number % 2 != 0:\n",
    "    print(\"c) The number is divisible by 5 and odd.\")\n",
    "else:\n",
    "    print(\"c) The number is not divisible by 5 and odd.\")\n"
   ]
  },
  {
   "cell_type": "markdown",
   "metadata": {},
   "source": [
    "## 5. Luggage size (*)\n",
    "\n",
    "The maximum allowed luggage size for boarding an airplane is: \n",
    "- weight: 8kg\n",
    "- dimensions: 55x40x23cm (length x width x height) \n",
    "\n",
    "Let the user input weight, length, width and height of the luggage. The program should check if the luggage is allowed or not.\n",
    "\n",
    "---\n",
    "\n",
    "</div>"
   ]
  },
  {
   "cell_type": "code",
   "execution_count": 8,
   "metadata": {},
   "outputs": [
    {
     "name": "stdout",
     "output_type": "stream",
     "text": [
      "Helt ok dimensioner\n"
     ]
    }
   ],
   "source": [
    "# Info för max kg och dimension\n",
    "\n",
    "max_kg = 8\n",
    "max_length = 8\n",
    "max_width = 40\n",
    "max_height = 23\n",
    "\n",
    "weight = float(input(\"Skriv in viketen på väskan\"))\n",
    "length = float(input(\"Skriv in längden på väskan\"))\n",
    "width = float(input(\"Skriv in bredden på väskan\"))\n",
    "height = float(input(\"Skriv in höjden på väskan\"))\n",
    "\n",
    "if weight <= max_height and length <= max_length and width <= max_width and length <= max_length:\n",
    "        print(\"Helt ok dimensioner\")\n",
    "else:\n",
    "    print(\"Nein!\")\n",
    "\n"
   ]
  },
  {
   "cell_type": "markdown",
   "metadata": {},
   "source": [
    "<div style=\"max-width:66ch;\">\n",
    "\n",
    "## 0. Count numbers (*)\n",
    "\n",
    "Use a **while** statement to count from -10 to 10 with one increment. \n",
    "\n",
    "---"
   ]
  },
  {
   "cell_type": "code",
   "execution_count": null,
   "metadata": {},
   "outputs": [],
   "source": []
  },
  {
   "cell_type": "markdown",
   "metadata": {},
   "source": [
    "## 1. Arithmetic sum (*)\n",
    "Use a **while** statement to compute the following sums: \n",
    "\n",
    "&nbsp; a) &nbsp; $\\text{sum} = 1 + 2 + \\ldots + 99+ 100$\n",
    "\n",
    "&nbsp; b) &nbsp; $\\text{sum} = 1 + 3 + 5 + \\ldots + 97 + 99$\n",
    "\n",
    "\n"
   ]
  },
  {
   "cell_type": "code",
   "execution_count": null,
   "metadata": {},
   "outputs": [],
   "source": []
  },
  {
   "cell_type": "markdown",
   "metadata": {},
   "source": [
    "---\n",
    "## 2. Guess number game (*)\n",
    "&nbsp; a) &nbsp; Create a guessing number game following this flow chart: \n",
    "\n",
    "<img style=\"display:inline-block; text-align:left;\" src=\"https://github.com/kokchun/assets/blob/main/python/guessing_game.png?raw=true\" width=\"300\"/>\n",
    "\n",
    "\n",
    "&nbsp; b) &nbsp; Make an algorithm to automatically guess the correct number. Can you optimize to get as few guesses as possible? (**)\n",
    "\n",
    "\n",
    "--- \n"
   ]
  },
  {
   "cell_type": "code",
   "execution_count": null,
   "metadata": {},
   "outputs": [],
   "source": []
  },
  {
   "cell_type": "markdown",
   "metadata": {},
   "source": [
    "## 3. Multiplication game (*)\n",
    "&nbsp; a) &nbsp; Create a multiplication game following this flow chart: \n",
    "\n",
    "<img style=\"display:inline-block;\" src=\"https://github.com/kokchun/assets/blob/main/python/Multiplication_game.png?raw=true\" width=\"300\"/>\n",
    "\n",
    "&nbsp; b) &nbsp; Add a menu for choosing difficulty level of the game\n",
    "\n",
    "&nbsp; c) &nbsp; Feel free to extend this program with features of your choice.\n",
    "\n",
    "--- \n"
   ]
  },
  {
   "cell_type": "code",
   "execution_count": null,
   "metadata": {},
   "outputs": [],
   "source": []
  },
  {
   "cell_type": "markdown",
   "metadata": {},
   "source": [
    "## 4. Check convergence (**)\n",
    "Use a while statement to compute the following sums: \n",
    "\n",
    "&nbsp; a) &nbsp; $\\text{sum} = 1 + \\frac{1}{2} + \\frac{1}{4} + \\frac{1}{8} + \\dots + \\frac{1}{2^n}$\n",
    "\n",
    "&nbsp; b) &nbsp; $\\text{sum} = 1 - \\frac{1}{3} + \\frac{1}{5} - \\frac{1}{7} + \\dots + \\frac{(-1)^n}{2n+1}$\n",
    "\n",
    "Try different values on $n$ to see which value it converges to.\n",
    "\n",
    "---\n",
    "\n",
    "</div>"
   ]
  }
 ],
 "metadata": {
  "kernelspec": {
   "display_name": "venv",
   "language": "python",
   "name": "python3"
  },
  "language_info": {
   "codemirror_mode": {
    "name": "ipython",
    "version": 3
   },
   "file_extension": ".py",
   "mimetype": "text/x-python",
   "name": "python",
   "nbconvert_exporter": "python",
   "pygments_lexer": "ipython3",
   "version": "3.11.7"
  }
 },
 "nbformat": 4,
 "nbformat_minor": 2
}
