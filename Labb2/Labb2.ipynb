{
 "cells": [
  {
   "cell_type": "markdown",
   "metadata": {},
   "source": [
    "# Uppgift 0 - uppvärmning med riket"
   ]
  },
  {
   "cell_type": "markdown",
   "metadata": {},
   "source": [
    " a) Börja med att läsa in filen riket2023_åk9_np.xlsx och sheets för de olika ämnena."
   ]
  },
  {
   "cell_type": "code",
   "execution_count": 43,
   "metadata": {},
   "outputs": [
    {
     "data": {
      "text/html": [
       "<div>\n",
       "<style scoped>\n",
       "    .dataframe tbody tr th:only-of-type {\n",
       "        vertical-align: middle;\n",
       "    }\n",
       "\n",
       "    .dataframe tbody tr th {\n",
       "        vertical-align: top;\n",
       "    }\n",
       "\n",
       "    .dataframe thead th {\n",
       "        text-align: right;\n",
       "    }\n",
       "</style>\n",
       "<table border=\"1\" class=\"dataframe\">\n",
       "  <thead>\n",
       "    <tr style=\"text-align: right;\">\n",
       "      <th></th>\n",
       "      <th>Unnamed: 0</th>\n",
       "      <th>Unnamed: 1</th>\n",
       "      <th>Antal elever med provbetyg A-F</th>\n",
       "      <th>Unnamed: 3</th>\n",
       "      <th>Unnamed: 4</th>\n",
       "      <th>Andel (%) med provbetyg A-E</th>\n",
       "      <th>Unnamed: 6</th>\n",
       "      <th>Unnamed: 7</th>\n",
       "      <th>Genomsnittlig betygspoäng</th>\n",
       "      <th>Unnamed: 9</th>\n",
       "      <th>Unnamed: 10</th>\n",
       "    </tr>\n",
       "  </thead>\n",
       "  <tbody>\n",
       "    <tr>\n",
       "      <th>0</th>\n",
       "      <td>Riket</td>\n",
       "      <td>Typ av huvudman</td>\n",
       "      <td>Totalt</td>\n",
       "      <td>Flickor</td>\n",
       "      <td>Pojkar</td>\n",
       "      <td>Totalt</td>\n",
       "      <td>Flickor</td>\n",
       "      <td>Pojkar</td>\n",
       "      <td>Totalt</td>\n",
       "      <td>Flickor</td>\n",
       "      <td>Pojkar</td>\n",
       "    </tr>\n",
       "    <tr>\n",
       "      <th>1</th>\n",
       "      <td>Riket</td>\n",
       "      <td>Samtliga</td>\n",
       "      <td>106766</td>\n",
       "      <td>51548</td>\n",
       "      <td>55218</td>\n",
       "      <td>89.1</td>\n",
       "      <td>88.7</td>\n",
       "      <td>89.5</td>\n",
       "      <td>11.9</td>\n",
       "      <td>11.8</td>\n",
       "      <td>12</td>\n",
       "    </tr>\n",
       "    <tr>\n",
       "      <th>2</th>\n",
       "      <td>Riket</td>\n",
       "      <td>Kommunal</td>\n",
       "      <td>84163</td>\n",
       "      <td>40386</td>\n",
       "      <td>43777</td>\n",
       "      <td>88.1</td>\n",
       "      <td>87.7</td>\n",
       "      <td>88.5</td>\n",
       "      <td>11.6</td>\n",
       "      <td>11.5</td>\n",
       "      <td>11.7</td>\n",
       "    </tr>\n",
       "    <tr>\n",
       "      <th>3</th>\n",
       "      <td>Riket</td>\n",
       "      <td>Enskild</td>\n",
       "      <td>22553</td>\n",
       "      <td>11137</td>\n",
       "      <td>11416</td>\n",
       "      <td>92.9</td>\n",
       "      <td>92.2</td>\n",
       "      <td>93.5</td>\n",
       "      <td>13</td>\n",
       "      <td>12.8</td>\n",
       "      <td>13.1</td>\n",
       "    </tr>\n",
       "    <tr>\n",
       "      <th>4</th>\n",
       "      <td>Riket</td>\n",
       "      <td>Skolverket</td>\n",
       "      <td>50</td>\n",
       "      <td>25</td>\n",
       "      <td>25</td>\n",
       "      <td>~100</td>\n",
       "      <td>~100</td>\n",
       "      <td>~100</td>\n",
       "      <td>14.1</td>\n",
       "      <td>13.5</td>\n",
       "      <td>14.7</td>\n",
       "    </tr>\n",
       "  </tbody>\n",
       "</table>\n",
       "</div>"
      ],
      "text/plain": [
       "  Unnamed: 0       Unnamed: 1 Antal elever med provbetyg A-F Unnamed: 3  \\\n",
       "0      Riket  Typ av huvudman                         Totalt    Flickor   \n",
       "1      Riket         Samtliga                         106766      51548   \n",
       "2      Riket         Kommunal                          84163      40386   \n",
       "3      Riket          Enskild                          22553      11137   \n",
       "4      Riket       Skolverket                             50         25   \n",
       "\n",
       "  Unnamed: 4 Andel (%) med provbetyg A-E Unnamed: 6 Unnamed: 7  \\\n",
       "0     Pojkar                     Totalt    Flickor     Pojkar    \n",
       "1      55218                        89.1       88.7       89.5   \n",
       "2      43777                        88.1       87.7       88.5   \n",
       "3      11416                        92.9       92.2       93.5   \n",
       "4         25                        ~100       ~100       ~100   \n",
       "\n",
       "  Genomsnittlig betygspoäng Unnamed: 9 Unnamed: 10  \n",
       "0                  Totalt    Flickor      Pojkar    \n",
       "1                      11.9       11.8          12  \n",
       "2                      11.6       11.5        11.7  \n",
       "3                        13       12.8        13.1  \n",
       "4                      14.1       13.5        14.7  "
      ]
     },
     "execution_count": 43,
     "metadata": {},
     "output_type": "execute_result"
    }
   ],
   "source": [
    "import numpy as np\n",
    "import pandas as pd\n",
    "import matplotlib.pyplot as plt\n",
    "\n",
    "df_engelska= pd.read_excel(\"riket2023_åk9_np.xlsx\", sheet_name= \"Engelska\", skiprows= 7)\n",
    "df_matematik= pd.read_excel(\"riket2023_åk9_np.xlsx\", sheet_name= \"Matematik\", skiprows= 7)\n",
    "df_svenska= pd.read_excel(\"riket2023_åk9_np.xlsx\", sheet_name= \"Svenska\", skiprows= 7)\n",
    "df_svenska2= pd.read_excel(\"riket2023_åk9_np.xlsx\", sheet_name= \"Svenska som andraspråk\", skiprows= 7)\n",
    "df_rapport= pd.read_excel(\"riket2023_åk9_np.xlsx\", sheet_name= \"Rapportbeskrivning och def.\")\n",
    "\n",
    "df_matematik"
   ]
  },
  {
   "cell_type": "markdown",
   "metadata": {},
   "source": [
    " b) Ta reda på antalet som fått F i matematik totalt, pojkar respektive flickor.\n",
    "\n",
    " diskussion "
   ]
  },
  {
   "cell_type": "code",
   "execution_count": 18,
   "metadata": {},
   "outputs": [
    {
     "data": {
      "text/html": [
       "<div>\n",
       "<style scoped>\n",
       "    .dataframe tbody tr th:only-of-type {\n",
       "        vertical-align: middle;\n",
       "    }\n",
       "\n",
       "    .dataframe tbody tr th {\n",
       "        vertical-align: top;\n",
       "    }\n",
       "\n",
       "    .dataframe thead th {\n",
       "        text-align: right;\n",
       "    }\n",
       "</style>\n",
       "<table border=\"1\" class=\"dataframe\">\n",
       "  <thead>\n",
       "    <tr style=\"text-align: right;\">\n",
       "      <th></th>\n",
       "      <th>Huvudman</th>\n",
       "      <th>Totalt A-F</th>\n",
       "      <th>Flickor A-F</th>\n",
       "      <th>Pojkar A-F</th>\n",
       "      <th>Totalt i % A-E</th>\n",
       "      <th>Flickor i % A-E</th>\n",
       "      <th>Pojkar i % A-E</th>\n",
       "    </tr>\n",
       "  </thead>\n",
       "  <tbody>\n",
       "    <tr>\n",
       "      <th>0</th>\n",
       "      <td>Samtliga</td>\n",
       "      <td>106766</td>\n",
       "      <td>51548</td>\n",
       "      <td>55218</td>\n",
       "      <td>89.1</td>\n",
       "      <td>88.7</td>\n",
       "      <td>89.5</td>\n",
       "    </tr>\n",
       "    <tr>\n",
       "      <th>1</th>\n",
       "      <td>Kommunal</td>\n",
       "      <td>84163</td>\n",
       "      <td>40386</td>\n",
       "      <td>43777</td>\n",
       "      <td>88.1</td>\n",
       "      <td>87.7</td>\n",
       "      <td>88.5</td>\n",
       "    </tr>\n",
       "    <tr>\n",
       "      <th>2</th>\n",
       "      <td>Enskild</td>\n",
       "      <td>22553</td>\n",
       "      <td>11137</td>\n",
       "      <td>11416</td>\n",
       "      <td>92.9</td>\n",
       "      <td>92.2</td>\n",
       "      <td>93.5</td>\n",
       "    </tr>\n",
       "    <tr>\n",
       "      <th>3</th>\n",
       "      <td>Skolverket</td>\n",
       "      <td>50</td>\n",
       "      <td>25</td>\n",
       "      <td>25</td>\n",
       "      <td>~100</td>\n",
       "      <td>~100</td>\n",
       "      <td>~100</td>\n",
       "    </tr>\n",
       "  </tbody>\n",
       "</table>\n",
       "</div>"
      ],
      "text/plain": [
       "     Huvudman  Totalt A-F  Flickor A-F  Pojkar A-F Totalt i % A-E  \\\n",
       "0    Samtliga      106766        51548       55218           89.1   \n",
       "1    Kommunal       84163        40386       43777           88.1   \n",
       "2     Enskild       22553        11137       11416           92.9   \n",
       "3  Skolverket          50           25          25           ~100   \n",
       "\n",
       "  Flickor i % A-E Pojkar i % A-E  \n",
       "0            88.7           89.5  \n",
       "1            87.7           88.5  \n",
       "2            92.2           93.5  \n",
       "3            ~100           ~100  "
      ]
     },
     "execution_count": 18,
     "metadata": {},
     "output_type": "execute_result"
    }
   ],
   "source": [
    "import pandas as pd\n",
    "\n",
    "df_matematik = pd.read_excel(\"riket2023_åk9_np.xlsx\", sheet_name=\"Matematik\", skiprows=8)\n",
    "\n",
    "df_matematik = df_matematik.iloc[:, 1:-3]\n",
    "\n",
    "df_matematik.columns = [\"Huvudman\",\"Totalt A-F\",\"Flickor A-F\", \"Pojkar A-F\", \"Totalt i % A-E\", \"Flickor i % A-E\", \"Pojkar i % A-E\"]\n",
    "\n",
    "df_matematik\n",
    "\n"
   ]
  },
  {
   "cell_type": "markdown",
   "metadata": {},
   "source": [
    "Pojkar i % A-E X 2 VAR PROBLEMET"
   ]
  },
  {
   "cell_type": "code",
   "execution_count": 19,
   "metadata": {},
   "outputs": [
    {
     "name": "stdout",
     "output_type": "stream",
     "text": [
      "Antal flickor med betyg F för samtliga: 5824.92\n",
      "Antal pojkar med betyg F för samtliga: 5797.89\n"
     ]
    }
   ],
   "source": [
    "# Beräkna antalet flickor med betyg F för samtliga\n",
    "girls_f = round(df_matematik.loc[0, \"Flickor A-F\"] - df_matematik.loc[0, \"Flickor A-F\"] * (df_matematik.loc[0, \"Flickor i % A-E\"] / 100), 2)\n",
    "\n",
    "# Beräkna antalet pojkar med betyg F för samtliga\n",
    "boys_f = round(df_matematik.loc[0, \"Pojkar A-F\"] - df_matematik.loc[0, \"Pojkar A-F\"] * (df_matematik.loc[0, \"Pojkar i % A-E\"] / 100), 2)\n",
    "\n",
    "# Visa antalet flickor och pojkar med betyg F för samtliga\n",
    "print(\"Antal flickor med betyg F för samtliga:\", girls_f)\n",
    "print(\"Antal pojkar med betyg F för samtliga:\", boys_f)\n",
    "\n"
   ]
  },
  {
   "cell_type": "markdown",
   "metadata": {},
   "source": [
    "  c) Rita ett stapeldiagram på totala poängen för de olika ämnena."
   ]
  },
  {
   "cell_type": "code",
   "execution_count": 53,
   "metadata": {},
   "outputs": [
    {
     "data": {
      "image/png": "[encoded data removed]",
      "text/plain": [
       "<Figure size 1000x600 with 1 Axes>"
      ]
     },
     "metadata": {},
     "output_type": "display_data"
    }
   ],
   "source": [
    "import numpy as np\n",
    "import pandas as pd\n",
    "import matplotlib.pyplot as plt\n",
    "\n",
    "# Läs in data från varje sheet\n",
    "df_engelska = pd.read_excel(\"riket2023_åk9_np.xlsx\", sheet_name=\"Engelska\", skiprows=7)\n",
    "df_matematik = pd.read_excel(\"riket2023_åk9_np.xlsx\", sheet_name=\"Matematik\", skiprows=7)\n",
    "df_svenska = pd.read_excel(\"riket2023_åk9_np.xlsx\", sheet_name=\"Svenska\", skiprows=7)\n",
    "df_svenska2 = pd.read_excel(\"riket2023_åk9_np.xlsx\", sheet_name=\"Svenska som andraspråk\", skiprows=7)\n",
    "\n",
    "# Extrahera \"Totalt\" från varje sheet\n",
    "total_engelska = df_engelska.iloc[1, 2]  # Rad 1, kolumn 2\n",
    "total_matematik = df_matematik.iloc[1, 2]  \n",
    "total_svenska = df_svenska.iloc[1, 2]  \n",
    "total_svenska2 = df_svenska2.iloc[1, 2]  \n",
    "\n",
    "# Skapa ett stapeldiagram för \"Totalt\" från varje sheet\n",
    "labels = ['Engelska', 'Matematik', 'Svenska', 'Svenska som andraspråk']\n",
    "totals = [total_engelska, total_matematik, total_svenska, total_svenska2]\n",
    "\n",
    "plt.figure(figsize=(10, 6))\n",
    "bars = plt.bar(labels, totals, color='skyblue')\n",
    "plt.title('Antal elever med provbetyg A-F för varje ämne')\n",
    "plt.xlabel('Ämnen')\n",
    "plt.ylabel('Antal elever med provbetyg A-F')\n",
    "plt.xticks(rotation=45, ha='right')\n",
    "plt.tight_layout()\n",
    "\n",
    "# Lägg till textetiketter för varje stapel\n",
    "for bar in bars:\n",
    "    height = bar.get_height()\n",
    "    plt.text(bar.get_x() + bar.get_width() / 2, height, f'{height}', ha='center', va='bottom')\n",
    "\n",
    "plt.show()\n"
   ]
  },
  {
   "cell_type": "markdown",
   "metadata": {},
   "source": [
    "Rita fyra olika stapeldiagram i subplots på totala poängen för de olika ämnena för de olika huvudmännen."
   ]
  },
  {
   "cell_type": "code",
   "execution_count": 105,
   "metadata": {},
   "outputs": [
    {
     "data": {
      "image/png": "[encoded data removed]",
      "text/plain": [
       "<Figure size 1200x1000 with 4 Axes>"
      ]
     },
     "metadata": {},
     "output_type": "display_data"
    }
   ],
   "source": [
    "import pandas as pd\n",
    "import matplotlib.pyplot as plt\n",
    "\n",
    "# Läs in data från varje sheet och ange rätt header\n",
    "df_engelska = pd.read_excel(\"riket2023_åk9_np.xlsx\", sheet_name=\"Engelska\", header=8)\n",
    "df_matematik = pd.read_excel(\"riket2023_åk9_np.xlsx\", sheet_name=\"Matematik\", header=8)\n",
    "df_svenska = pd.read_excel(\"riket2023_åk9_np.xlsx\", sheet_name=\"Svenska\", header=8)\n",
    "df_svenska_som_andrasprak = pd.read_excel(\"riket2023_åk9_np.xlsx\", sheet_name=\"Svenska som andraspråk\", header=8)\n",
    "\n",
    "# Konvertera kolumnen \"Totalt\" till numerisk datatyp och hantera icke-numeriska värden\n",
    "df_engelska[\"Totalt\"] = pd.to_numeric(df_engelska[\"Totalt\"], errors='coerce')\n",
    "df_matematik[\"Totalt\"] = pd.to_numeric(df_matematik[\"Totalt\"], errors='coerce')\n",
    "df_svenska[\"Totalt\"] = pd.to_numeric(df_svenska[\"Totalt\"], errors='coerce')\n",
    "df_svenska_som_andrasprak[\"Totalt\"] = pd.to_numeric(df_svenska_som_andrasprak[\"Totalt\"], errors='coerce')\n",
    "\n",
    "# Beräkna totala poäng för varje ämne och huvudman\n",
    "total_engelska = df_engelska.groupby(\"Typ av huvudman\")[\"Totalt\"].sum()\n",
    "total_matematik = df_matematik.groupby(\"Typ av huvudman\")[\"Totalt\"].sum()\n",
    "total_svenska = df_svenska.groupby(\"Typ av huvudman\")[\"Totalt\"].sum()\n",
    "total_svenska_som_andrasprak = df_svenska_som_andrasprak.groupby(\"Typ av huvudman\")[\"Totalt\"].sum()\n",
    "\n",
    "# Skapa subplots och rita stapeldiagram för varje ämne och huvudman\n",
    "fig, axs = plt.subplots(2, 2, figsize=(12, 10))\n",
    "\n",
    "axs[0, 0].bar(total_engelska.index, total_engelska, color='skyblue')\n",
    "axs[0, 0].set_title('Engelska')\n",
    "axs[0, 0].set_ylabel('Total poäng')\n",
    "for i, v in enumerate(total_engelska):\n",
    "    axs[0, 0].text(i, v + 10, str(v), ha='center')\n",
    "\n",
    "axs[0, 1].bar(total_matematik.index, total_matematik, color='skyblue')\n",
    "axs[0, 1].set_title('Matematik')\n",
    "axs[0, 1].set_ylabel('Total poäng')\n",
    "for i, v in enumerate(total_matematik):\n",
    "    axs[0, 1].text(i, v + 10, str(v), ha='center')\n",
    "\n",
    "axs[1, 0].bar(total_svenska.index, total_svenska, color='skyblue')\n",
    "axs[1, 0].set_title('Svenska')\n",
    "axs[1, 0].set_ylabel('Total poäng')\n",
    "for i, v in enumerate(total_svenska):\n",
    "    axs[1, 0].text(i, v + 10, str(v), ha='center')\n",
    "\n",
    "axs[1, 1].bar(total_svenska_som_andrasprak.index, total_svenska_som_andrasprak, color='skyblue')\n",
    "axs[1, 1].set_title('Svenska som andraspråk')\n",
    "axs[1, 1].set_ylabel('Total poäng')\n",
    "for i, v in enumerate(total_svenska_som_andrasprak):\n",
    "    axs[1, 1].text(i, v + 10, str(v), ha='center')\n",
    "\n",
    "# Justera layout\n",
    "plt.tight_layout()\n",
    "\n",
    "# Visa diagrammet\n",
    "plt.show()\n"
   ]
  },
  {
   "cell_type": "markdown",
   "metadata": {},
   "source": [
    "a) Rita ett linjediagram för andel elever som saknar godkänt betyg i ett eller fler ämnen för läsår 18-23. Ta med totalt,\n",
    "flickor och pojkar i samma graf.\n"
   ]
  },
  {
   "cell_type": "code",
   "execution_count": null,
   "metadata": {},
   "outputs": [],
   "source": [
    "import pandas as pd\n",
    "\n",
    "df_1a = pd.read_excel(\"betyg_o_prov_riksnivå.xlsx\", sheet_name= \"Tabell 1A\")\n",
    "df_1b = pd.read_excel(\"betyg_o_prov_riksnivå.xlsx\", sheet_name= \"Tabell 1B\")\n",
    "\n",
    "\n",
    "df_1a\n",
    "\n"
   ]
  },
  {
   "cell_type": "code",
   "execution_count": 127,
   "metadata": {},
   "outputs": [
    {
     "data": {
      "application/vnd.plotly.v1+json": {
       "config": {
        "plotlyServerURL": "https://plot.ly"
       },
       "data": [
        {
         "hovertemplate": "Kön=Totalt (godkänt)<br>Unnamed: 0=%{x}<br>Andel elever (%)=%{y}<extra></extra>",
         "legendgroup": "Totalt (godkänt)",
         "line": {
          "color": "#636efa",
          "dash": "solid"
         },
         "marker": {
          "symbol": "circle"
         },
         "mode": "lines",
         "name": "Totalt (godkänt)",
         "orientation": "v",
         "showlegend": true,
         "type": "scatter",
         "x": [
          null,
          null,
          "2018/19",
          "2019/20",
          "2020/21",
          "2021/22"
         ],
         "xaxis": "x",
         "y": [
          null,
          "Totalt",
          110663,
          112728,
          114136,
          117935
         ],
         "yaxis": "y"
        },
        {
         "hovertemplate": "Kön=Flickor (godkänt)<br>Unnamed: 0=%{x}<br>Andel elever (%)=%{y}<extra></extra>",
         "legendgroup": "Flickor (godkänt)",
         "line": {
          "color": "#EF553B",
          "dash": "solid"
         },
         "marker": {
          "symbol": "circle"
         },
         "mode": "lines",
         "name": "Flickor (godkänt)",
         "orientation": "v",
         "showlegend": true,
         "type": "scatter",
         "x": [
          null,
          null,
          "2018/19",
          "2019/20",
          "2020/21",
          "2021/22"
         ],
         "xaxis": "x",
         "y": [
          null,
          "Flickor",
          53757,
          54711,
          55721,
          57312
         ],
         "yaxis": "y"
        },
        {
         "hovertemplate": "Kön=Pojkar (godkänt)<br>Unnamed: 0=%{x}<br>Andel elever (%)=%{y}<extra></extra>",
         "legendgroup": "Pojkar (godkänt)",
         "line": {
          "color": "#00cc96",
          "dash": "solid"
         },
         "marker": {
          "symbol": "circle"
         },
         "mode": "lines",
         "name": "Pojkar (godkänt)",
         "orientation": "v",
         "showlegend": true,
         "type": "scatter",
         "x": [
          null,
          null,
          "2018/19",
          "2019/20",
          "2020/21",
          "2021/22"
         ],
         "xaxis": "x",
         "y": [
          null,
          "Pojkar",
          56906,
          58017,
          58415,
          60623
         ],
         "yaxis": "y"
        }
       ],
       "layout": {
        "legend": {
         "title": {
          "text": "Kön"
         },
         "tracegroupgap": 0
        },
        "template": {
         "data": {
          "bar": [
           {
            "error_x": {
             "color": "#f2f5fa"
            },
            "error_y": {
             "color": "#f2f5fa"
            },
            "marker": {
             "line": {
              "color": "rgb(17,17,17)",
              "width": 0.5
             },
             "pattern": {
              "fillmode": "overlay",
              "size": 10,
              "solidity": 0.2
             }
            },
            "type": "bar"
           }
          ],
          "barpolar": [
           {
            "marker": {
             "line": {
              "color": "rgb(17,17,17)",
              "width": 0.5
             },
             "pattern": {
              "fillmode": "overlay",
              "size": 10,
              "solidity": 0.2
             }
            },
            "type": "barpolar"
           }
          ],
          "carpet": [
           {
            "aaxis": {
             "endlinecolor": "#A2B1C6",
             "gridcolor": "#506784",
             "linecolor": "#506784",
             "minorgridcolor": "#506784",
             "startlinecolor": "#A2B1C6"
            },
            "baxis": {
             "endlinecolor": "#A2B1C6",
             "gridcolor": "#506784",
             "linecolor": "#506784",
             "minorgridcolor": "#506784",
             "startlinecolor": "#A2B1C6"
            },
            "type": "carpet"
           }
          ],
          "choropleth": [
           {
            "colorbar": {
             "outlinewidth": 0,
             "ticks": ""
            },
            "type": "choropleth"
           }
          ],
          "contour": [
           {
            "colorbar": {
             "outlinewidth": 0,
             "ticks": ""
            },
            "colorscale": [
             [
              0,
              "#0d0887"
             ],
             [
              0.1111111111111111,
              "#46039f"
             ],
             [
              0.2222222222222222,
              "#7201a8"
             ],
             [
              0.3333333333333333,
              "#9c179e"
             ],
             [
              0.4444444444444444,
              "#bd3786"
             ],
             [
              0.5555555555555556,
              "#d8576b"
             ],
             [
              0.6666666666666666,
              "#ed7953"
             ],
             [
              0.7777777777777778,
              "#fb9f3a"
             ],
             [
              0.8888888888888888,
              "#fdca26"
             ],
             [
              1,
              "#f0f921"
             ]
            ],
            "type": "contour"
           }
          ],
          "contourcarpet": [
           {
            "colorbar": {
             "outlinewidth": 0,
             "ticks": ""
            },
            "type": "contourcarpet"
           }
          ],
          "heatmap": [
           {
            "colorbar": {
             "outlinewidth": 0,
             "ticks": ""
            },
            "colorscale": [
             [
              0,
              "#0d0887"
             ],
             [
              0.1111111111111111,
              "#46039f"
             ],
             [
              0.2222222222222222,
              "#7201a8"
             ],
             [
              0.3333333333333333,
              "#9c179e"
             ],
             [
              0.4444444444444444,
              "#bd3786"
             ],
             [
              0.5555555555555556,
              "#d8576b"
             ],
             [
              0.6666666666666666,
              "#ed7953"
             ],
             [
              0.7777777777777778,
              "#fb9f3a"
             ],
             [
              0.8888888888888888,
              "#fdca26"
             ],
             [
              1,
              "#f0f921"
             ]
            ],
            "type": "heatmap"
           }
          ],
          "heatmapgl": [
           {
            "colorbar": {
             "outlinewidth": 0,
             "ticks": ""
            },
            "colorscale": [
             [
              0,
              "#0d0887"
             ],
             [
              0.1111111111111111,
              "#46039f"
             ],
             [
              0.2222222222222222,
              "#7201a8"
             ],
             [
              0.3333333333333333,
              "#9c179e"
             ],
             [
              0.4444444444444444,
              "#bd3786"
             ],
             [
              0.5555555555555556,
              "#d8576b"
             ],
             [
              0.6666666666666666,
              "#ed7953"
             ],
             [
              0.7777777777777778,
              "#fb9f3a"
             ],
             [
              0.8888888888888888,
              "#fdca26"
             ],
             [
              1,
              "#f0f921"
             ]
            ],
            "type": "heatmapgl"
           }
          ],
          "histogram": [
           {
            "marker": {
             "pattern": {
              "fillmode": "overlay",
              "size": 10,
              "solidity": 0.2
             }
            },
            "type": "histogram"
           }
          ],
          "histogram2d": [
           {
            "colorbar": {
             "outlinewidth": 0,
             "ticks": ""
            },
            "colorscale": [
             [
              0,
              "#0d0887"
             ],
             [
              0.1111111111111111,
              "#46039f"
             ],
             [
              0.2222222222222222,
              "#7201a8"
             ],
             [
              0.3333333333333333,
              "#9c179e"
             ],
             [
              0.4444444444444444,
              "#bd3786"
             ],
             [
              0.5555555555555556,
              "#d8576b"
             ],
             [
              0.6666666666666666,
              "#ed7953"
             ],
             [
              0.7777777777777778,
              "#fb9f3a"
             ],
             [
              0.8888888888888888,
              "#fdca26"
             ],
             [
              1,
              "#f0f921"
             ]
            ],
            "type": "histogram2d"
           }
          ],
          "histogram2dcontour": [
           {
            "colorbar": {
             "outlinewidth": 0,
             "ticks": ""
            },
            "colorscale": [
             [
              0,
              "#0d0887"
             ],
             [
              0.1111111111111111,
              "#46039f"
             ],
             [
              0.2222222222222222,
              "#7201a8"
             ],
             [
              0.3333333333333333,
              "#9c179e"
             ],
             [
              0.4444444444444444,
              "#bd3786"
             ],
             [
              0.5555555555555556,
              "#d8576b"
             ],
             [
              0.6666666666666666,
              "#ed7953"
             ],
             [
              0.7777777777777778,
              "#fb9f3a"
             ],
             [
              0.8888888888888888,
              "#fdca26"
             ],
             [
              1,
              "#f0f921"
             ]
            ],
            "type": "histogram2dcontour"
           }
          ],
          "mesh3d": [
           {
            "colorbar": {
             "outlinewidth": 0,
             "ticks": ""
            },
            "type": "mesh3d"
           }
          ],
          "parcoords": [
           {
            "line": {
             "colorbar": {
              "outlinewidth": 0,
              "ticks": ""
             }
            },
            "type": "parcoords"
           }
          ],
          "pie": [
           {
            "automargin": true,
            "type": "pie"
           }
          ],
          "scatter": [
           {
            "marker": {
             "line": {
              "color": "#283442"
             }
            },
            "type": "scatter"
           }
          ],
          "scatter3d": [
           {
            "line": {
             "colorbar": {
              "outlinewidth": 0,
              "ticks": ""
             }
            },
            "marker": {
             "colorbar": {
              "outlinewidth": 0,
              "ticks": ""
             }
            },
            "type": "scatter3d"
           }
          ],
          "scattercarpet": [
           {
            "marker": {
             "colorbar": {
              "outlinewidth": 0,
              "ticks": ""
             }
            },
            "type": "scattercarpet"
           }
          ],
          "scattergeo": [
           {
            "marker": {
             "colorbar": {
              "outlinewidth": 0,
              "ticks": ""
             }
            },
            "type": "scattergeo"
           }
          ],
          "scattergl": [
           {
            "marker": {
             "line": {
              "color": "#283442"
             }
            },
            "type": "scattergl"
           }
          ],
          "scattermapbox": [
           {
            "marker": {
             "colorbar": {
              "outlinewidth": 0,
              "ticks": ""
             }
            },
            "type": "scattermapbox"
           }
          ],
          "scatterpolar": [
           {
            "marker": {
             "colorbar": {
              "outlinewidth": 0,
              "ticks": ""
             }
            },
            "type": "scatterpolar"
           }
          ],
          "scatterpolargl": [
           {
            "marker": {
             "colorbar": {
              "outlinewidth": 0,
              "ticks": ""
             }
            },
            "type": "scatterpolargl"
           }
          ],
          "scatterternary": [
           {
            "marker": {
             "colorbar": {
              "outlinewidth": 0,
              "ticks": ""
             }
            },
            "type": "scatterternary"
           }
          ],
          "surface": [
           {
            "colorbar": {
             "outlinewidth": 0,
             "ticks": ""
            },
            "colorscale": [
             [
              0,
              "#0d0887"
             ],
             [
              0.1111111111111111,
              "#46039f"
             ],
             [
              0.2222222222222222,
              "#7201a8"
             ],
             [
              0.3333333333333333,
              "#9c179e"
             ],
             [
              0.4444444444444444,
              "#bd3786"
             ],
             [
              0.5555555555555556,
              "#d8576b"
             ],
             [
              0.6666666666666666,
              "#ed7953"
             ],
             [
              0.7777777777777778,
              "#fb9f3a"
             ],
             [
              0.8888888888888888,
              "#fdca26"
             ],
             [
              1,
              "#f0f921"
             ]
            ],
            "type": "surface"
           }
          ],
          "table": [
           {
            "cells": {
             "fill": {
              "color": "#506784"
             },
             "line": {
              "color": "rgb(17,17,17)"
             }
            },
            "header": {
             "fill": {
              "color": "#2a3f5f"
             },
             "line": {
              "color": "rgb(17,17,17)"
             }
            },
            "type": "table"
           }
          ]
         },
         "layout": {
          "annotationdefaults": {
           "arrowcolor": "#f2f5fa",
           "arrowhead": 0,
           "arrowwidth": 1
          },
          "autotypenumbers": "strict",
          "coloraxis": {
           "colorbar": {
            "outlinewidth": 0,
            "ticks": ""
           }
          },
          "colorscale": {
           "diverging": [
            [
             0,
             "#8e0152"
            ],
            [
             0.1,
             "#c51b7d"
            ],
            [
             0.2,
             "#de77ae"
            ],
            [
             0.3,
             "#f1b6da"
            ],
            [
             0.4,
             "#fde0ef"
            ],
            [
             0.5,
             "#f7f7f7"
            ],
            [
             0.6,
             "#e6f5d0"
            ],
            [
             0.7,
             "#b8e186"
            ],
            [
             0.8,
             "#7fbc41"
            ],
            [
             0.9,
             "#4d9221"
            ],
            [
             1,
             "#276419"
            ]
           ],
           "sequential": [
            [
             0,
             "#0d0887"
            ],
            [
             0.1111111111111111,
             "#46039f"
            ],
            [
             0.2222222222222222,
             "#7201a8"
            ],
            [
             0.3333333333333333,
             "#9c179e"
            ],
            [
             0.4444444444444444,
             "#bd3786"
            ],
            [
             0.5555555555555556,
             "#d8576b"
            ],
            [
             0.6666666666666666,
             "#ed7953"
            ],
            [
             0.7777777777777778,
             "#fb9f3a"
            ],
            [
             0.8888888888888888,
             "#fdca26"
            ],
            [
             1,
             "#f0f921"
            ]
           ],
           "sequentialminus": [
            [
             0,
             "#0d0887"
            ],
            [
             0.1111111111111111,
             "#46039f"
            ],
            [
             0.2222222222222222,
             "#7201a8"
            ],
            [
             0.3333333333333333,
             "#9c179e"
            ],
            [
             0.4444444444444444,
             "#bd3786"
            ],
            [
             0.5555555555555556,
             "#d8576b"
            ],
            [
             0.6666666666666666,
             "#ed7953"
            ],
            [
             0.7777777777777778,
             "#fb9f3a"
            ],
            [
             0.8888888888888888,
             "#fdca26"
            ],
            [
             1,
             "#f0f921"
            ]
           ]
          },
          "colorway": [
           "#636efa",
           "#EF553B",
           "#00cc96",
           "#ab63fa",
           "#FFA15A",
           "#19d3f3",
           "#FF6692",
           "#B6E880",
           "#FF97FF",
           "#FECB52"
          ],
          "font": {
           "color": "#f2f5fa"
          },
          "geo": {
           "bgcolor": "rgb(17,17,17)",
           "lakecolor": "rgb(17,17,17)",
           "landcolor": "rgb(17,17,17)",
           "showlakes": true,
           "showland": true,
           "subunitcolor": "#506784"
          },
          "hoverlabel": {
           "align": "left"
          },
          "hovermode": "closest",
          "mapbox": {
           "style": "dark"
          },
          "paper_bgcolor": "rgb(17,17,17)",
          "plot_bgcolor": "rgb(17,17,17)",
          "polar": {
           "angularaxis": {
            "gridcolor": "#506784",
            "linecolor": "#506784",
            "ticks": ""
           },
           "bgcolor": "rgb(17,17,17)",
           "radialaxis": {
            "gridcolor": "#506784",
            "linecolor": "#506784",
            "ticks": ""
           }
          },
          "scene": {
           "xaxis": {
            "backgroundcolor": "rgb(17,17,17)",
            "gridcolor": "#506784",
            "gridwidth": 2,
            "linecolor": "#506784",
            "showbackground": true,
            "ticks": "",
            "zerolinecolor": "#C8D4E3"
           },
           "yaxis": {
            "backgroundcolor": "rgb(17,17,17)",
            "gridcolor": "#506784",
            "gridwidth": 2,
            "linecolor": "#506784",
            "showbackground": true,
            "ticks": "",
            "zerolinecolor": "#C8D4E3"
           },
           "zaxis": {
            "backgroundcolor": "rgb(17,17,17)",
            "gridcolor": "#506784",
            "gridwidth": 2,
            "linecolor": "#506784",
            "showbackground": true,
            "ticks": "",
            "zerolinecolor": "#C8D4E3"
           }
          },
          "shapedefaults": {
           "line": {
            "color": "#f2f5fa"
           }
          },
          "sliderdefaults": {
           "bgcolor": "#C8D4E3",
           "bordercolor": "rgb(17,17,17)",
           "borderwidth": 1,
           "tickwidth": 0
          },
          "ternary": {
           "aaxis": {
            "gridcolor": "#506784",
            "linecolor": "#506784",
            "ticks": ""
           },
           "baxis": {
            "gridcolor": "#506784",
            "linecolor": "#506784",
            "ticks": ""
           },
           "bgcolor": "rgb(17,17,17)",
           "caxis": {
            "gridcolor": "#506784",
            "linecolor": "#506784",
            "ticks": ""
           }
          },
          "title": {
           "x": 0.05
          },
          "updatemenudefaults": {
           "bgcolor": "#506784",
           "borderwidth": 0
          },
          "xaxis": {
           "automargin": true,
           "gridcolor": "#283442",
           "linecolor": "#506784",
           "ticks": "",
           "title": {
            "standoff": 15
           },
           "zerolinecolor": "#283442",
           "zerolinewidth": 2
          },
          "yaxis": {
           "automargin": true,
           "gridcolor": "#283442",
           "linecolor": "#506784",
           "ticks": "",
           "title": {
            "standoff": 15
           },
           "zerolinecolor": "#283442",
           "zerolinewidth": 2
          }
         }
        },
        "title": {
         "text": "Andel elever som saknar godkänt betyg i ett eller fler ämnen (2018-2023)"
        },
        "xaxis": {
         "anchor": "y",
         "domain": [
          0,
          1
         ],
         "title": {
          "text": "Unnamed: 0"
         }
        },
        "yaxis": {
         "anchor": "x",
         "domain": [
          0,
          1
         ],
         "title": {
          "text": "Andel elever (%)"
         }
        }
       }
      }
     },
     "metadata": {},
     "output_type": "display_data"
    }
   ],
   "source": [
    "import pandas as pd\n",
    "import plotly.express as px\n",
    "\n",
    "df = pd.read_excel(\"betyg_o_prov_riksnivå.xlsx\", sheet_name=\"Tabell 1A\", skiprows=7, nrows=6)\n",
    "\n",
    "data = df.iloc[:, 1:10]  # Välj kolumnerna med data\n",
    "data.columns = ['Totalt', 'Flickor', 'Pojkar', 'Totalt (slutbetyg)', 'Flickor (slutbetyg)', 'Pojkar (slutbetyg)', 'Totalt (godkänt)', 'Flickor (godkänt)', 'Pojkar (godkänt)']\n",
    "data.index = df['Unnamed: 0']  # Använd läsår som index\n",
    "\n",
    "fig = px.line(data, x=data.index, y=['Totalt (godkänt)', 'Flickor (godkänt)', 'Pojkar (godkänt)'],\n",
    "              title='Andel elever som saknar godkänt betyg i ett eller fler ämnen (2018-2023)',\n",
    "              labels={'index': 'Läsår', 'value': 'Andel elever (%)', 'variable': 'Kön'},\n",
    "              template='plotly_dark')\n",
    "\n",
    "fig.show()\n"
   ]
  },
  {
   "cell_type": "code",
   "execution_count": 128,
   "metadata": {},
   "outputs": [
    {
     "name": "stdout",
     "output_type": "stream",
     "text": [
      "                            Läsår\\nHuvudman\\nBakgrund Unnamed: 7 Unnamed: 8  \\\n",
      "5                                             2019/20     112728      54711   \n",
      "6                                             2020/21     114136      55721   \n",
      "7                                             2021/22     117935      57312   \n",
      "8                                             2022/23     118736      57781   \n",
      "9                                               därav        NaN        NaN   \n",
      "10                                             Kommun      94276      45588   \n",
      "11                                              därav        NaN        NaN   \n",
      "12                             Internationella skolor          .          .   \n",
      "13                                            Enskild      24460      12193   \n",
      "14                                              därav        NaN        NaN   \n",
      "15                                  Allmän inriktning      22815      11372   \n",
      "16                                      Konfessionell       1025        526   \n",
      "17                                            Waldorf        620        295   \n",
      "18                             Internationella skolor          .          .   \n",
      "19                         Elever med svensk bakgrund      86799      42274   \n",
      "20                       Elever med utländsk bakgrund      30999      15066   \n",
      "21                                              därav        NaN        NaN   \n",
      "22                                    Födda i Sverige      13709       6735   \n",
      "23                    Födda utomlands, inv. före 2014       6269       2993   \n",
      "24              Födda utomlands, inv. 2014 el. senare      11021       5338   \n",
      "25  Totalt exkl. nyinvandrade elever och okänd bak...     115254      56114   \n",
      "26                                Nyinvandrade elever       2544       1226   \n",
      "27                          Elever med okänd bakgrund        938        441   \n",
      "28                    Föräldrarnas högsta utbildning2        NaN        NaN   \n",
      "29                            Förgymnasial utbildning       6327       3091   \n",
      "30                               Gymnasial utbildning      35938      17488   \n",
      "31                          Eftergymnasial utbildning      73583      35871   \n",
      "32                                              därav        NaN        NaN   \n",
      "33                                    Kort utbildning      18384       9073   \n",
      "34                                    Lång utbildning      55199      26798   \n",
      "\n",
      "   Unnamed: 9  \n",
      "5       58017  \n",
      "6       58415  \n",
      "7       60623  \n",
      "8       60955  \n",
      "9         NaN  \n",
      "10      48688  \n",
      "11        NaN  \n",
      "12          .  \n",
      "13      12267  \n",
      "14        NaN  \n",
      "15      11443  \n",
      "16        499  \n",
      "17        325  \n",
      "18          .  \n",
      "19      44525  \n",
      "20      15933  \n",
      "21        NaN  \n",
      "22       6974  \n",
      "23       3276  \n",
      "24       5683  \n",
      "25      59140  \n",
      "26       1318  \n",
      "27        497  \n",
      "28        NaN  \n",
      "29       3236  \n",
      "30      18450  \n",
      "31      37712  \n",
      "32        NaN  \n",
      "33       9311  \n",
      "34      28401  \n"
     ]
    }
   ],
   "source": [
    "import pandas as pd\n",
    "\n",
    "# Läs in Excel-filen och hoppa över de första raderna som inte är relevanta för oss\n",
    "df = pd.read_excel(\"betyg_o_prov_riksnivå.xlsx\", sheet_name=\"Tabell 1A\", skiprows=5)\n",
    "\n",
    "# Extrahera den relevanta delen av datan\n",
    "andel_saknar_godkant = df.iloc[5:, [0, 7, 8, 9]]  # Välj raderna med andel elever som saknar godkänt betyg och de relevanta kolumnerna\n",
    "\n",
    "# Visa den extraherade datan\n",
    "print(andel_saknar_godkant)\n"
   ]
  },
  {
   "cell_type": "code",
   "execution_count": null,
   "metadata": {},
   "outputs": [],
   "source": [
    "import pandas as pd\n",
    "\n",
    "df_matematik = pd.read_excel(\"riket2023_åk9_np.xlsx\", sheet_name=\"Matematik\", skiprows=8)\n",
    "\n",
    "df_matematik = df_matematik.iloc[:, 1:-3]\n",
    "\n",
    "df_matematik.columns = [\"Huvudman\",\"Totalt A-F\",\"Flickor A-F\", \"Pojkar A-F\", \"Totalt i % A-E\", \"Flickor i % A-E\", \"Pojkar i % A-E\"]\n",
    "\n",
    "df_matematik"
   ]
  },
  {
   "cell_type": "code",
   "execution_count": 197,
   "metadata": {},
   "outputs": [
    {
     "data": {
      "text/html": [
       "<div>\n",
       "<style scoped>\n",
       "    .dataframe tbody tr th:only-of-type {\n",
       "        vertical-align: middle;\n",
       "    }\n",
       "\n",
       "    .dataframe tbody tr th {\n",
       "        vertical-align: top;\n",
       "    }\n",
       "\n",
       "    .dataframe thead th {\n",
       "        text-align: right;\n",
       "    }\n",
       "</style>\n",
       "<table border=\"1\" class=\"dataframe\">\n",
       "  <thead>\n",
       "    <tr style=\"text-align: right;\">\n",
       "      <th></th>\n",
       "      <th>Grundskolan – Betyg och Prov – Riksnivå</th>\n",
       "      <th>Unnamed: 1</th>\n",
       "      <th>Unnamed: 2</th>\n",
       "      <th>Unnamed: 3</th>\n",
       "      <th>Unnamed: 4</th>\n",
       "      <th>Unnamed: 5</th>\n",
       "      <th>Unnamed: 6</th>\n",
       "      <th>Unnamed: 7</th>\n",
       "      <th>Unnamed: 8</th>\n",
       "      <th>Unnamed: 9</th>\n",
       "    </tr>\n",
       "  </thead>\n",
       "  <tbody>\n",
       "    <tr>\n",
       "      <th>9</th>\n",
       "      <td>2018/19</td>\n",
       "      <td>112731</td>\n",
       "      <td>54667</td>\n",
       "      <td>58064</td>\n",
       "      <td>112280</td>\n",
       "      <td>54430</td>\n",
       "      <td>57850</td>\n",
       "      <td>110663</td>\n",
       "      <td>53757</td>\n",
       "      <td>56906</td>\n",
       "    </tr>\n",
       "    <tr>\n",
       "      <th>10</th>\n",
       "      <td>2019/20</td>\n",
       "      <td>115023</td>\n",
       "      <td>55670</td>\n",
       "      <td>59353</td>\n",
       "      <td>114444</td>\n",
       "      <td>55389</td>\n",
       "      <td>59055</td>\n",
       "      <td>112728</td>\n",
       "      <td>54711</td>\n",
       "      <td>58017</td>\n",
       "    </tr>\n",
       "    <tr>\n",
       "      <th>11</th>\n",
       "      <td>2020/21</td>\n",
       "      <td>116359</td>\n",
       "      <td>56715</td>\n",
       "      <td>59644</td>\n",
       "      <td>115710</td>\n",
       "      <td>56394</td>\n",
       "      <td>59316</td>\n",
       "      <td>114136</td>\n",
       "      <td>55721</td>\n",
       "      <td>58415</td>\n",
       "    </tr>\n",
       "    <tr>\n",
       "      <th>12</th>\n",
       "      <td>2021/22</td>\n",
       "      <td>120525</td>\n",
       "      <td>58513</td>\n",
       "      <td>62012</td>\n",
       "      <td>119891</td>\n",
       "      <td>58207</td>\n",
       "      <td>61684</td>\n",
       "      <td>117935</td>\n",
       "      <td>57312</td>\n",
       "      <td>60623</td>\n",
       "    </tr>\n",
       "    <tr>\n",
       "      <th>13</th>\n",
       "      <td>2022/23</td>\n",
       "      <td>121369</td>\n",
       "      <td>59043</td>\n",
       "      <td>62326</td>\n",
       "      <td>120742</td>\n",
       "      <td>58703</td>\n",
       "      <td>62039</td>\n",
       "      <td>118736</td>\n",
       "      <td>57781</td>\n",
       "      <td>60955</td>\n",
       "    </tr>\n",
       "  </tbody>\n",
       "</table>\n",
       "</div>"
      ],
      "text/plain": [
       "   Grundskolan – Betyg och Prov – Riksnivå Unnamed: 1 Unnamed: 2 Unnamed: 3  \\\n",
       "9                                  2018/19     112731      54667      58064   \n",
       "10                                 2019/20     115023      55670      59353   \n",
       "11                                 2020/21     116359      56715      59644   \n",
       "12                                 2021/22     120525      58513      62012   \n",
       "13                                 2022/23     121369      59043      62326   \n",
       "\n",
       "   Unnamed: 4 Unnamed: 5 Unnamed: 6 Unnamed: 7 Unnamed: 8 Unnamed: 9  \n",
       "9      112280      54430      57850     110663      53757      56906  \n",
       "10     114444      55389      59055     112728      54711      58017  \n",
       "11     115710      56394      59316     114136      55721      58415  \n",
       "12     119891      58207      61684     117935      57312      60623  \n",
       "13     120742      58703      62039     118736      57781      60955  "
      ]
     },
     "execution_count": 197,
     "metadata": {},
     "output_type": "execute_result"
    }
   ],
   "source": [
    "import pandas as pd\n",
    "\n",
    "# Läs in data från båda tabellerna\n",
    "df_1a = pd.read_excel(\"betyg_o_prov_riksnivå.xlsx\", sheet_name=\"Tabell 1A\")\n",
    "df_1b = pd.read_excel(\"betyg_o_prov_riksnivå.xlsx\", sheet_name=\"Tabell 1B\")\n",
    "\n",
    "data_1a = df_1a.iloc[9:14]\n",
    "data_1b = df_1b.iloc[7:12]\n",
    "\n",
    "a_columns = [\n",
    "    \"\"\n",
    "\n",
    "\n",
    "]\n",
    "\n",
    "\n",
    "\n",
    "\n",
    "b_columns = [\n",
    "    \"Läsår\",\n",
    "    \"Medelvärde 16 ämnen totalt\",\n",
    "    \"Flickor\",\n",
    "    \"Pojkar\",\n",
    "    \"Medelvärde 17 ämnen totalt\",\n",
    "    \"Flickor\",\n",
    "    \"Pojkar\",\n",
    "    \"% Som saknar godkänt\",\n",
    "    \"Flickor\",\n",
    "    \"Pojkar\"\n",
    "]\n",
    "\n",
    "data_1a.columns = a_columns\n",
    "data_1b.columns = b_columns\n",
    "\n",
    "\n",
    "data_1a\n"
   ]
  }
 ],
 "metadata": {
  "kernelspec": {
   "display_name": "venv",
   "language": "python",
   "name": "python3"
  },
  "language_info": {
   "codemirror_mode": {
    "name": "ipython",
    "version": 3
   },
   "file_extension": ".py",
   "mimetype": "text/x-python",
   "name": "python",
   "nbconvert_exporter": "python",
   "pygments_lexer": "ipython3",
   "version": "3.11.7"
  }
 },
 "nbformat": 4,
 "nbformat_minor": 2
}
