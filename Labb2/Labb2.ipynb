{
 "cells": [
  {
   "cell_type": "code",
   "execution_count": 1,
   "metadata": {},
   "outputs": [],
   "source": [
    "#grid, spines, axels camo, ticks not rotate, no y axel, padding, storytelling with data, white background,  (sandra progressionen)"
   ]
  },
  {
   "cell_type": "markdown",
   "metadata": {},
   "source": [
    "# Uppgift 0 - uppvärmning med riket"
   ]
  },
  {
   "cell_type": "markdown",
   "metadata": {},
   "source": [
    " a) Börja med att läsa in filen riket2023_åk9_np.xlsx och sheets för de olika ämnena."
   ]
  },
  {
   "cell_type": "code",
   "execution_count": 2,
   "metadata": {},
   "outputs": [
    {
     "data": {
      "text/html": [
       "<div>\n",
       "<style scoped>\n",
       "    .dataframe tbody tr th:only-of-type {\n",
       "        vertical-align: middle;\n",
       "    }\n",
       "\n",
       "    .dataframe tbody tr th {\n",
       "        vertical-align: top;\n",
       "    }\n",
       "\n",
       "    .dataframe thead th {\n",
       "        text-align: right;\n",
       "    }\n",
       "</style>\n",
       "<table border=\"1\" class=\"dataframe\">\n",
       "  <thead>\n",
       "    <tr style=\"text-align: right;\">\n",
       "      <th></th>\n",
       "      <th>Unnamed: 0</th>\n",
       "      <th>Unnamed: 1</th>\n",
       "      <th>Antal elever med provbetyg A-F</th>\n",
       "      <th>Unnamed: 3</th>\n",
       "      <th>Unnamed: 4</th>\n",
       "      <th>Andel (%) med provbetyg A-E</th>\n",
       "      <th>Unnamed: 6</th>\n",
       "      <th>Unnamed: 7</th>\n",
       "      <th>Genomsnittlig betygspoäng</th>\n",
       "      <th>Unnamed: 9</th>\n",
       "      <th>Unnamed: 10</th>\n",
       "    </tr>\n",
       "  </thead>\n",
       "  <tbody>\n",
       "    <tr>\n",
       "      <th>0</th>\n",
       "      <td>Riket</td>\n",
       "      <td>Typ av huvudman</td>\n",
       "      <td>Totalt</td>\n",
       "      <td>Flickor</td>\n",
       "      <td>Pojkar</td>\n",
       "      <td>Totalt</td>\n",
       "      <td>Flickor</td>\n",
       "      <td>Pojkar</td>\n",
       "      <td>Totalt</td>\n",
       "      <td>Flickor</td>\n",
       "      <td>Pojkar</td>\n",
       "    </tr>\n",
       "    <tr>\n",
       "      <th>1</th>\n",
       "      <td>Riket</td>\n",
       "      <td>Samtliga</td>\n",
       "      <td>106766</td>\n",
       "      <td>51548</td>\n",
       "      <td>55218</td>\n",
       "      <td>89.1</td>\n",
       "      <td>88.7</td>\n",
       "      <td>89.5</td>\n",
       "      <td>11.9</td>\n",
       "      <td>11.8</td>\n",
       "      <td>12</td>\n",
       "    </tr>\n",
       "    <tr>\n",
       "      <th>2</th>\n",
       "      <td>Riket</td>\n",
       "      <td>Kommunal</td>\n",
       "      <td>84163</td>\n",
       "      <td>40386</td>\n",
       "      <td>43777</td>\n",
       "      <td>88.1</td>\n",
       "      <td>87.7</td>\n",
       "      <td>88.5</td>\n",
       "      <td>11.6</td>\n",
       "      <td>11.5</td>\n",
       "      <td>11.7</td>\n",
       "    </tr>\n",
       "    <tr>\n",
       "      <th>3</th>\n",
       "      <td>Riket</td>\n",
       "      <td>Enskild</td>\n",
       "      <td>22553</td>\n",
       "      <td>11137</td>\n",
       "      <td>11416</td>\n",
       "      <td>92.9</td>\n",
       "      <td>92.2</td>\n",
       "      <td>93.5</td>\n",
       "      <td>13</td>\n",
       "      <td>12.8</td>\n",
       "      <td>13.1</td>\n",
       "    </tr>\n",
       "    <tr>\n",
       "      <th>4</th>\n",
       "      <td>Riket</td>\n",
       "      <td>Skolverket</td>\n",
       "      <td>50</td>\n",
       "      <td>25</td>\n",
       "      <td>25</td>\n",
       "      <td>~100</td>\n",
       "      <td>~100</td>\n",
       "      <td>~100</td>\n",
       "      <td>14.1</td>\n",
       "      <td>13.5</td>\n",
       "      <td>14.7</td>\n",
       "    </tr>\n",
       "  </tbody>\n",
       "</table>\n",
       "</div>"
      ],
      "text/plain": [
       "  Unnamed: 0       Unnamed: 1 Antal elever med provbetyg A-F Unnamed: 3  \\\n",
       "0      Riket  Typ av huvudman                         Totalt    Flickor   \n",
       "1      Riket         Samtliga                         106766      51548   \n",
       "2      Riket         Kommunal                          84163      40386   \n",
       "3      Riket          Enskild                          22553      11137   \n",
       "4      Riket       Skolverket                             50         25   \n",
       "\n",
       "  Unnamed: 4 Andel (%) med provbetyg A-E Unnamed: 6 Unnamed: 7  \\\n",
       "0     Pojkar                     Totalt    Flickor     Pojkar    \n",
       "1      55218                        89.1       88.7       89.5   \n",
       "2      43777                        88.1       87.7       88.5   \n",
       "3      11416                        92.9       92.2       93.5   \n",
       "4         25                        ~100       ~100       ~100   \n",
       "\n",
       "  Genomsnittlig betygspoäng Unnamed: 9 Unnamed: 10  \n",
       "0                  Totalt    Flickor      Pojkar    \n",
       "1                      11.9       11.8          12  \n",
       "2                      11.6       11.5        11.7  \n",
       "3                        13       12.8        13.1  \n",
       "4                      14.1       13.5        14.7  "
      ]
     },
     "execution_count": 2,
     "metadata": {},
     "output_type": "execute_result"
    }
   ],
   "source": [
    "import numpy as np\n",
    "import pandas as pd\n",
    "import matplotlib.pyplot as plt\n",
    "\n",
    "df_engelska = pd.read_excel(\"riket2023_åk9_np.xlsx\", sheet_name=\"Engelska\", skiprows=7)\n",
    "df_matematik = pd.read_excel(\n",
    "    \"riket2023_åk9_np.xlsx\", sheet_name=\"Matematik\", skiprows=7\n",
    ")\n",
    "df_svenska = pd.read_excel(\"riket2023_åk9_np.xlsx\", sheet_name=\"Svenska\", skiprows=7)\n",
    "df_svenska2 = pd.read_excel(\n",
    "    \"riket2023_åk9_np.xlsx\", sheet_name=\"Svenska som andraspråk\", skiprows=7\n",
    ")\n",
    "df_rapport = pd.read_excel(\n",
    "    \"riket2023_åk9_np.xlsx\", sheet_name=\"Rapportbeskrivning och def.\"\n",
    ")\n",
    "\n",
    "df_matematik"
   ]
  },
  {
   "cell_type": "markdown",
   "metadata": {},
   "source": [
    " b) Ta reda på antalet som fått F i matematik totalt, pojkar respektive flickor.\n",
    "\n",
    " diskussion "
   ]
  },
  {
   "cell_type": "code",
   "execution_count": 3,
   "metadata": {},
   "outputs": [
    {
     "data": {
      "text/html": [
       "<div>\n",
       "<style scoped>\n",
       "    .dataframe tbody tr th:only-of-type {\n",
       "        vertical-align: middle;\n",
       "    }\n",
       "\n",
       "    .dataframe tbody tr th {\n",
       "        vertical-align: top;\n",
       "    }\n",
       "\n",
       "    .dataframe thead th {\n",
       "        text-align: right;\n",
       "    }\n",
       "</style>\n",
       "<table border=\"1\" class=\"dataframe\">\n",
       "  <thead>\n",
       "    <tr style=\"text-align: right;\">\n",
       "      <th></th>\n",
       "      <th>Huvudman</th>\n",
       "      <th>Totalt A-F</th>\n",
       "      <th>Flickor A-F</th>\n",
       "      <th>Pojkar A-F</th>\n",
       "      <th>Totalt i % A-E</th>\n",
       "      <th>Flickor i % A-E</th>\n",
       "      <th>Pojkar i % A-E</th>\n",
       "    </tr>\n",
       "  </thead>\n",
       "  <tbody>\n",
       "    <tr>\n",
       "      <th>0</th>\n",
       "      <td>Samtliga</td>\n",
       "      <td>106766</td>\n",
       "      <td>51548</td>\n",
       "      <td>55218</td>\n",
       "      <td>89.1</td>\n",
       "      <td>88.7</td>\n",
       "      <td>89.5</td>\n",
       "    </tr>\n",
       "    <tr>\n",
       "      <th>1</th>\n",
       "      <td>Kommunal</td>\n",
       "      <td>84163</td>\n",
       "      <td>40386</td>\n",
       "      <td>43777</td>\n",
       "      <td>88.1</td>\n",
       "      <td>87.7</td>\n",
       "      <td>88.5</td>\n",
       "    </tr>\n",
       "    <tr>\n",
       "      <th>2</th>\n",
       "      <td>Enskild</td>\n",
       "      <td>22553</td>\n",
       "      <td>11137</td>\n",
       "      <td>11416</td>\n",
       "      <td>92.9</td>\n",
       "      <td>92.2</td>\n",
       "      <td>93.5</td>\n",
       "    </tr>\n",
       "    <tr>\n",
       "      <th>3</th>\n",
       "      <td>Skolverket</td>\n",
       "      <td>50</td>\n",
       "      <td>25</td>\n",
       "      <td>25</td>\n",
       "      <td>~100</td>\n",
       "      <td>~100</td>\n",
       "      <td>~100</td>\n",
       "    </tr>\n",
       "  </tbody>\n",
       "</table>\n",
       "</div>"
      ],
      "text/plain": [
       "     Huvudman  Totalt A-F  Flickor A-F  Pojkar A-F Totalt i % A-E  \\\n",
       "0    Samtliga      106766        51548       55218           89.1   \n",
       "1    Kommunal       84163        40386       43777           88.1   \n",
       "2     Enskild       22553        11137       11416           92.9   \n",
       "3  Skolverket          50           25          25           ~100   \n",
       "\n",
       "  Flickor i % A-E Pojkar i % A-E  \n",
       "0            88.7           89.5  \n",
       "1            87.7           88.5  \n",
       "2            92.2           93.5  \n",
       "3            ~100           ~100  "
      ]
     },
     "execution_count": 3,
     "metadata": {},
     "output_type": "execute_result"
    }
   ],
   "source": [
    "import pandas as pd\n",
    "\n",
    "df_matematik = pd.read_excel(\n",
    "    \"riket2023_åk9_np.xlsx\", sheet_name=\"Matematik\", skiprows=8\n",
    ")\n",
    "\n",
    "df_matematik = df_matematik.iloc[:, 1:-3]\n",
    "\n",
    "df_matematik.columns = [\n",
    "    \"Huvudman\",\n",
    "    \"Totalt A-F\",\n",
    "    \"Flickor A-F\",\n",
    "    \"Pojkar A-F\",\n",
    "    \"Totalt i % A-E\",\n",
    "    \"Flickor i % A-E\",\n",
    "    \"Pojkar i % A-E\",\n",
    "]\n",
    "\n",
    "df_matematik"
   ]
  },
  {
   "cell_type": "markdown",
   "metadata": {},
   "source": [
    "Pojkar i % A-E X 2 VAR PROBLEMET"
   ]
  },
  {
   "cell_type": "code",
   "execution_count": 4,
   "metadata": {},
   "outputs": [
    {
     "name": "stdout",
     "output_type": "stream",
     "text": [
      "Antal flickor med betyg F för samtliga: 5824.92\n",
      "Antal pojkar med betyg F för samtliga: 5797.89\n"
     ]
    }
   ],
   "source": [
    "import pandas as pd\n",
    "\n",
    "df_matematik = pd.read_excel(\n",
    "    \"riket2023_åk9_np.xlsx\", sheet_name=\"Matematik\", skiprows=8\n",
    ")\n",
    "\n",
    "df_matematik = df_matematik.iloc[:, 1:-3]\n",
    "\n",
    "df_matematik.columns = [\n",
    "    \"Huvudman\",\n",
    "    \"Totalt A-F\",\n",
    "    \"Flickor A-F\",\n",
    "    \"Pojkar A-F\",\n",
    "    \"Totalt i % A-E\",\n",
    "    \"Flickor i % A-E\",\n",
    "    \"Pojkar i % A-E\",\n",
    "]\n",
    "\n",
    "df_matematik[\"Flickor A-F\"] = pd.to_numeric(df_matematik[\"Flickor A-F\"], errors=\"coerce\")\n",
    "df_matematik[\"Pojkar A-F\"] = pd.to_numeric(df_matematik[\"Pojkar A-F\"], errors=\"coerce\")\n",
    "df_matematik[\"Flickor i % A-E\"] = pd.to_numeric(df_matematik[\"Flickor i % A-E\"], errors=\"coerce\")\n",
    "df_matematik[\"Pojkar i % A-E\"] = pd.to_numeric(df_matematik[\"Pojkar i % A-E\"], errors=\"coerce\")\n",
    "\n",
    "girls_f = round(\n",
    "    df_matematik.loc[0, \"Flickor A-F\"]\n",
    "    - df_matematik.loc[0, \"Flickor A-F\"]\n",
    "    * (df_matematik.loc[0, \"Flickor i % A-E\"] / 100),\n",
    "    2,\n",
    ")\n",
    "\n",
    "boys_f = round(\n",
    "    df_matematik.loc[0, \"Pojkar A-F\"]\n",
    "    - df_matematik.loc[0, \"Pojkar A-F\"] * (df_matematik.loc[0, \"Pojkar i % A-E\"] / 100),\n",
    "    2,\n",
    ")\n",
    "\n",
    "print(\"Antal flickor med betyg F för samtliga:\", girls_f)\n",
    "print(\"Antal pojkar med betyg F för samtliga:\", boys_f)\n"
   ]
  },
  {
   "cell_type": "markdown",
   "metadata": {},
   "source": [
    "  c) Rita ett stapeldiagram på totala poängen för de olika ämnena."
   ]
  },
  {
   "cell_type": "code",
   "execution_count": 5,
   "metadata": {},
   "outputs": [
    {
     "data": {
      "image/png": "[encoded data removed]",
      "text/plain": [
       "<Figure size 640x480 with 1 Axes>"
      ]
     },
     "metadata": {},
     "output_type": "display_data"
    }
   ],
   "source": [
    "import pandas as pd\n",
    "import matplotlib.pyplot as plt\n",
    "\n",
    "plt.style.use(\"dark_background\")\n",
    "\n",
    "file_path = \"riket2023_åk9_np.xlsx\"\n",
    "\n",
    "subjects = [\"Engelska\", \"Matematik\", \"Svenska\", \"Svenska som andraspråk\"]\n",
    "sheets = [\"Engelska\", \"Matematik\", \"Svenska\", \"Svenska som andraspråk\"]\n",
    "\n",
    "totalt = {}\n",
    "\n",
    "for sheet, subject in zip(sheets, subjects):\n",
    "    df = pd.read_excel(file_path, sheet_name=sheet, skiprows=8)\n",
    "    total_average_points = df.iloc[0, -3]\n",
    "    totalt[subject] = total_average_points\n",
    "\n",
    "bars = plt.bar(totalt.keys(), totalt.values(), color=\"red\", edgecolor=\"gray\", linewidth=2)\n",
    "\n",
    "plt.grid(False)\n",
    "\n",
    "plt.gca().spines[\"top\"].set_visible(False)\n",
    "plt.gca().spines[\"right\"].set_visible(False)\n",
    "plt.gca().spines[\"left\"].set_visible(False)\n",
    "plt.gca().spines[\"bottom\"].set_visible(False)\n",
    "\n",
    "plt.gca().patch.set_alpha(0.0)\n",
    "\n",
    "plt.xticks(rotation=0, color=\"lightgray\")\n",
    "\n",
    "plt.gca().axes.get_yaxis().set_visible(False)\n",
    "\n",
    "plt.tight_layout(pad=3)\n",
    "\n",
    "\n",
    "plt.title(\"Poäng\", color=\"lightgray\")\n",
    "\n",
    "for bar in bars:\n",
    "    height = bar.get_height()\n",
    "    plt.text(bar.get_x() + bar.get_width()/2, height, round(height, 1),\n",
    "             ha=\"center\", va=\"bottom\", color=\"lightgray\")\n",
    "\n",
    "plt.show()\n"
   ]
  },
  {
   "cell_type": "markdown",
   "metadata": {},
   "source": [
    " d) Rita fyra olika stapeldiagram i subplots på totala poängen för de olika ämnena för de olika huvudmännen."
   ]
  },
  {
   "cell_type": "code",
   "execution_count": 6,
   "metadata": {},
   "outputs": [
    {
     "data": {
      "image/png": "[encoded data removed]",
      "text/plain": [
       "<Figure size 1000x2000 with 4 Axes>"
      ]
     },
     "metadata": {},
     "output_type": "display_data"
    }
   ],
   "source": [
    "import pandas as pd\n",
    "import numpy as np\n",
    "import matplotlib.pyplot as plt\n",
    "\n",
    "pd.set_option(\"future.no_silent_downcasting\", True)\n",
    "\n",
    "file_path = \"riket2023_åk9_np.xlsx\"\n",
    "dfs = pd.read_excel(file_path, sheet_name=None, skiprows=8)\n",
    "\n",
    "new_column_names = [\n",
    "    \"Riket\",\n",
    "    \"Typ av huvudman\",\n",
    "    \"A-F Totalt\", \"A-F Flickor\", \"A-F Pojkar\",\n",
    "    \"% Totalt\", \"% Flickor\", \"% Pojkar\",\n",
    "    \"Genomsnittligt Totalt\", \"Genomsnittligt Flickor\", \"Genomsnittligt Pojkar\"\n",
    "]\n",
    "\n",
    "for df in dfs.values():\n",
    "    new_column_names_adjusted = new_column_names[:len(df.columns)]\n",
    "    df.columns = new_column_names_adjusted\n",
    "\n",
    "num_plots = len(dfs) - 1\n",
    "subjects = list(dfs.keys())\n",
    "subjects.remove(\"Rapportbeskrivning och def.\")\n",
    "\n",
    "fig, axs = plt.subplots(num_plots, 1, figsize=(10, 5*num_plots))\n",
    "fig.patch.set_facecolor(\"white\")  # Set background color of the figure\n",
    "\n",
    "for i, (sheet, df) in enumerate(dfs.items()):\n",
    "    if sheet == \"Rapportbeskrivning och def.\":\n",
    "        continue\n",
    "    ax = axs[i] if num_plots > 1 else axs\n",
    "    ax.set_title(sheet, color=\"black\", fontweight=\"bold\")\n",
    "    \n",
    "    typ_av_huvudman = df[\"Typ av huvudman\"]\n",
    "    \n",
    "    df.replace(\"..\", 0, inplace=True)\n",
    "    \n",
    "    totalt = pd.to_numeric(df[\"Genomsnittligt Totalt\"], errors=\"coerce\")\n",
    "    \n",
    "    bars = ax.bar(typ_av_huvudman, totalt, color=\"lightblue\", edgecolor=\"darkgray\", linewidth=2, alpha=0.7)  \n",
    "    \n",
    "    for bar, value in zip(bars, totalt):\n",
    "        if value == 0:\n",
    "            ax.text(bar.get_x() + bar.get_width()/2., 0.5, \"Ingen information\", ha=\"center\", va=\"center\", color=\"gray\")  \n",
    "        else:\n",
    "            ax.text(bar.get_x() + bar.get_width()/2., value, str(value), ha=\"center\", va=\"bottom\", color=\"black\")  \n",
    "    \n",
    "    if \"Skolverket\" not in typ_av_huvudman.values:\n",
    "        ax.text(len(typ_av_huvudman), 0.5, \"Ingen information\", ha=\"center\", va=\"center\", color=\"gray\")  \n",
    "    \n",
    "    ax.set_ylabel(\"Genomsnittligt totalt\", color=\"gray\")  \n",
    "    ax.set_xlabel(\"Typ av huvudman\", color=\"gray\")  \n",
    "    ax.set_facecolor(\"white\")  \n",
    "    ax.spines[\"top\"].set_color(\"gray\")  \n",
    "    ax.spines[\"bottom\"].set_color(\"gray\")  \n",
    "    ax.spines[\"left\"].set_color(\"gray\")  \n",
    "    ax.spines[\"right\"].set_color(\"gray\")  \n",
    "    ax.spines[\"top\"].set_visible(False)  \n",
    "    ax.spines[\"right\"].set_visible(False) \n",
    "    ax.xaxis.set_ticks_position(\"bottom\")  \n",
    "    \n",
    "    labels = ax.get_xticklabels()\n",
    "    for label in labels:\n",
    "        if label.get_text() in [\"Kommunal\", \"Statlig\"]:\n",
    "            label.set_rotation(0)\n",
    "        label.set_color(\"gray\")  \n",
    "\n",
    "    ax.tick_params(axis=\"both\", colors=\"gray\", labelsize=8)  \n",
    "plt.tight_layout()\n",
    "plt.show()\n"
   ]
  },
  {
   "cell_type": "code",
   "execution_count": 7,
   "metadata": {},
   "outputs": [
    {
     "name": "stdout",
     "output_type": "stream",
     "text": [
      "Index(['Riket', 'Typ av huvudman', 'A-F Totalt', 'A-F Flickor'], dtype='object')\n"
     ]
    }
   ],
   "source": [
    "print(df.columns)\n"
   ]
  },
  {
   "cell_type": "markdown",
   "metadata": {},
   "source": [
    "a) Rita ett linjediagram för andel elever som saknar godkänt betyg i ett eller fler ämnen för läsår 18-23. Ta med totalt,\n",
    "flickor och pojkar i samma graf.\n"
   ]
  },
  {
   "cell_type": "code",
   "execution_count": 8,
   "metadata": {},
   "outputs": [
    {
     "data": {
      "text/html": [
       "<div>\n",
       "<style scoped>\n",
       "    .dataframe tbody tr th:only-of-type {\n",
       "        vertical-align: middle;\n",
       "    }\n",
       "\n",
       "    .dataframe tbody tr th {\n",
       "        vertical-align: top;\n",
       "    }\n",
       "\n",
       "    .dataframe thead th {\n",
       "        text-align: right;\n",
       "    }\n",
       "</style>\n",
       "<table border=\"1\" class=\"dataframe\">\n",
       "  <thead>\n",
       "    <tr style=\"text-align: right;\">\n",
       "      <th></th>\n",
       "      <th>Läsår</th>\n",
       "      <th>Avslut åk 9 Totalt</th>\n",
       "      <th>Flickor avslut</th>\n",
       "      <th>Pojkar avslut</th>\n",
       "      <th>Elever med slutbetyg totalt</th>\n",
       "      <th>Flickor slutbetyg</th>\n",
       "      <th>Pojkar slutbetyg</th>\n",
       "      <th>Godkända slutbetyg totalt</th>\n",
       "      <th>Flickor godkända</th>\n",
       "      <th>Pojkar godkända</th>\n",
       "    </tr>\n",
       "  </thead>\n",
       "  <tbody>\n",
       "    <tr>\n",
       "      <th>9</th>\n",
       "      <td>2018/19</td>\n",
       "      <td>112731</td>\n",
       "      <td>54667</td>\n",
       "      <td>58064</td>\n",
       "      <td>112280</td>\n",
       "      <td>54430</td>\n",
       "      <td>57850</td>\n",
       "      <td>110663</td>\n",
       "      <td>53757</td>\n",
       "      <td>56906</td>\n",
       "    </tr>\n",
       "    <tr>\n",
       "      <th>10</th>\n",
       "      <td>2019/20</td>\n",
       "      <td>115023</td>\n",
       "      <td>55670</td>\n",
       "      <td>59353</td>\n",
       "      <td>114444</td>\n",
       "      <td>55389</td>\n",
       "      <td>59055</td>\n",
       "      <td>112728</td>\n",
       "      <td>54711</td>\n",
       "      <td>58017</td>\n",
       "    </tr>\n",
       "    <tr>\n",
       "      <th>11</th>\n",
       "      <td>2020/21</td>\n",
       "      <td>116359</td>\n",
       "      <td>56715</td>\n",
       "      <td>59644</td>\n",
       "      <td>115710</td>\n",
       "      <td>56394</td>\n",
       "      <td>59316</td>\n",
       "      <td>114136</td>\n",
       "      <td>55721</td>\n",
       "      <td>58415</td>\n",
       "    </tr>\n",
       "    <tr>\n",
       "      <th>12</th>\n",
       "      <td>2021/22</td>\n",
       "      <td>120525</td>\n",
       "      <td>58513</td>\n",
       "      <td>62012</td>\n",
       "      <td>119891</td>\n",
       "      <td>58207</td>\n",
       "      <td>61684</td>\n",
       "      <td>117935</td>\n",
       "      <td>57312</td>\n",
       "      <td>60623</td>\n",
       "    </tr>\n",
       "    <tr>\n",
       "      <th>13</th>\n",
       "      <td>2022/23</td>\n",
       "      <td>121369</td>\n",
       "      <td>59043</td>\n",
       "      <td>62326</td>\n",
       "      <td>120742</td>\n",
       "      <td>58703</td>\n",
       "      <td>62039</td>\n",
       "      <td>118736</td>\n",
       "      <td>57781</td>\n",
       "      <td>60955</td>\n",
       "    </tr>\n",
       "  </tbody>\n",
       "</table>\n",
       "</div>"
      ],
      "text/plain": [
       "      Läsår Avslut åk 9 Totalt Flickor avslut Pojkar avslut  \\\n",
       "9   2018/19             112731          54667         58064   \n",
       "10  2019/20             115023          55670         59353   \n",
       "11  2020/21             116359          56715         59644   \n",
       "12  2021/22             120525          58513         62012   \n",
       "13  2022/23             121369          59043         62326   \n",
       "\n",
       "   Elever med slutbetyg totalt Flickor slutbetyg Pojkar slutbetyg  \\\n",
       "9                       112280             54430            57850   \n",
       "10                      114444             55389            59055   \n",
       "11                      115710             56394            59316   \n",
       "12                      119891             58207            61684   \n",
       "13                      120742             58703            62039   \n",
       "\n",
       "   Godkända slutbetyg totalt Flickor godkända Pojkar godkända  \n",
       "9                     110663            53757           56906  \n",
       "10                    112728            54711           58017  \n",
       "11                    114136            55721           58415  \n",
       "12                    117935            57312           60623  \n",
       "13                    118736            57781           60955  "
      ]
     },
     "metadata": {},
     "output_type": "display_data"
    },
    {
     "data": {
      "text/html": [
       "<div>\n",
       "<style scoped>\n",
       "    .dataframe tbody tr th:only-of-type {\n",
       "        vertical-align: middle;\n",
       "    }\n",
       "\n",
       "    .dataframe tbody tr th {\n",
       "        vertical-align: top;\n",
       "    }\n",
       "\n",
       "    .dataframe thead th {\n",
       "        text-align: right;\n",
       "    }\n",
       "</style>\n",
       "<table border=\"1\" class=\"dataframe\">\n",
       "  <thead>\n",
       "    <tr style=\"text-align: right;\">\n",
       "      <th></th>\n",
       "      <th>Läsår</th>\n",
       "      <th>Medelvärde 16 ämnen totalt</th>\n",
       "      <th>Medelvärde 16 ämne flickor</th>\n",
       "      <th>Medelvärde 16 ämnen pojkar</th>\n",
       "      <th>Medelvärde 17 ämnen totalt</th>\n",
       "      <th>Medelvärde 17 flickor</th>\n",
       "      <th>Medelvärde 17 pojkar</th>\n",
       "      <th>% Som saknar godkänt</th>\n",
       "      <th>P Flickor</th>\n",
       "      <th>P Pojkar</th>\n",
       "    </tr>\n",
       "  </thead>\n",
       "  <tbody>\n",
       "    <tr>\n",
       "      <th>7</th>\n",
       "      <td>2018/19</td>\n",
       "      <td>221.7</td>\n",
       "      <td>234.3</td>\n",
       "      <td>209.8</td>\n",
       "      <td>229.8</td>\n",
       "      <td>243.3</td>\n",
       "      <td>217</td>\n",
       "      <td>24.5</td>\n",
       "      <td>21.7</td>\n",
       "      <td>27.2</td>\n",
       "    </tr>\n",
       "    <tr>\n",
       "      <th>8</th>\n",
       "      <td>2019/20</td>\n",
       "      <td>222.9</td>\n",
       "      <td>235.7</td>\n",
       "      <td>210.9</td>\n",
       "      <td>231.1</td>\n",
       "      <td>244.9</td>\n",
       "      <td>218.2</td>\n",
       "      <td>23.9</td>\n",
       "      <td>21.4</td>\n",
       "      <td>26.3</td>\n",
       "    </tr>\n",
       "    <tr>\n",
       "      <th>9</th>\n",
       "      <td>2020/21</td>\n",
       "      <td>223.9</td>\n",
       "      <td>235.4</td>\n",
       "      <td>212.9</td>\n",
       "      <td>232.1</td>\n",
       "      <td>244.4</td>\n",
       "      <td>220.3</td>\n",
       "      <td>23.9</td>\n",
       "      <td>21.9</td>\n",
       "      <td>25.9</td>\n",
       "    </tr>\n",
       "    <tr>\n",
       "      <th>10</th>\n",
       "      <td>2021/22</td>\n",
       "      <td>221.2</td>\n",
       "      <td>231.6</td>\n",
       "      <td>211.4</td>\n",
       "      <td>229.2</td>\n",
       "      <td>240.3</td>\n",
       "      <td>218.8</td>\n",
       "      <td>25.9</td>\n",
       "      <td>24.2</td>\n",
       "      <td>27.5</td>\n",
       "    </tr>\n",
       "    <tr>\n",
       "      <th>11</th>\n",
       "      <td>2022/23</td>\n",
       "      <td>220.6</td>\n",
       "      <td>229.7</td>\n",
       "      <td>211.9</td>\n",
       "      <td>228.5</td>\n",
       "      <td>238.2</td>\n",
       "      <td>219.3</td>\n",
       "      <td>26.8</td>\n",
       "      <td>25.5</td>\n",
       "      <td>28</td>\n",
       "    </tr>\n",
       "  </tbody>\n",
       "</table>\n",
       "</div>"
      ],
      "text/plain": [
       "      Läsår Medelvärde 16 ämnen totalt Medelvärde 16 ämne flickor  \\\n",
       "7   2018/19                      221.7                      234.3   \n",
       "8   2019/20                      222.9                      235.7   \n",
       "9   2020/21                      223.9                      235.4   \n",
       "10  2021/22                      221.2                      231.6   \n",
       "11  2022/23                      220.6                      229.7   \n",
       "\n",
       "   Medelvärde 16 ämnen pojkar Medelvärde 17 ämnen totalt  \\\n",
       "7                       209.8                      229.8   \n",
       "8                       210.9                      231.1   \n",
       "9                       212.9                      232.1   \n",
       "10                      211.4                      229.2   \n",
       "11                      211.9                      228.5   \n",
       "\n",
       "   Medelvärde 17 flickor Medelvärde 17 pojkar % Som saknar godkänt P Flickor  \\\n",
       "7                  243.3                  217                 24.5      21.7   \n",
       "8                  244.9                218.2                 23.9      21.4   \n",
       "9                  244.4                220.3                 23.9      21.9   \n",
       "10                 240.3                218.8                 25.9      24.2   \n",
       "11                 238.2                219.3                 26.8      25.5   \n",
       "\n",
       "   P Pojkar  \n",
       "7      27.2  \n",
       "8      26.3  \n",
       "9      25.9  \n",
       "10     27.5  \n",
       "11       28  "
      ]
     },
     "metadata": {},
     "output_type": "display_data"
    }
   ],
   "source": [
    "import pandas as pd\n",
    "\n",
    "df_1a = pd.read_excel(\"betyg_o_prov_riksnivå.xlsx\", sheet_name=\"Tabell 1A\")\n",
    "df_1b = pd.read_excel(\"betyg_o_prov_riksnivå.xlsx\", sheet_name=\"Tabell 1B\")\n",
    "\n",
    "data_1a = df_1a.iloc[9:14]\n",
    "data_1b = df_1b.iloc[7:12]\n",
    "\n",
    "a_columns = [\n",
    "    \"Läsår\",\n",
    "    \"Avslut åk 9 Totalt\",\n",
    "    \"Flickor avslut\",\n",
    "    \"Pojkar avslut\",\n",
    "    \"Elever med slutbetyg totalt\",\n",
    "    \"Flickor slutbetyg\",\n",
    "    \"Pojkar slutbetyg\",\n",
    "    \"Godkända slutbetyg totalt\",\n",
    "    \"Flickor godkända\",\n",
    "    \"Pojkar godkända\",\n",
    "]\n",
    "\n",
    "b_columns = [\n",
    "    \"Läsår\",\n",
    "    \"Medelvärde 16 ämnen totalt\",\n",
    "    \"Medelvärde 16 ämne flickor\",\n",
    "    \"Medelvärde 16 ämnen pojkar\",\n",
    "    \"Medelvärde 17 ämnen totalt\",\n",
    "    \"Medelvärde 17 flickor\",\n",
    "    \"Medelvärde 17 pojkar\",\n",
    "    \"% Som saknar godkänt\",\n",
    "    \"P Flickor\",\n",
    "    \"P Pojkar\",\n",
    "]\n",
    "\n",
    "data_1a.columns = a_columns\n",
    "data_1b.columns = b_columns\n",
    "\n",
    "display(data_1a)\n",
    "display(data_1b)"
   ]
  },
  {
   "cell_type": "markdown",
   "metadata": {},
   "source": [
    "---\n",
    "## OBS MATPLOT VERSION"
   ]
  },
  {
   "cell_type": "code",
   "execution_count": 35,
   "metadata": {},
   "outputs": [
    {
     "data": {
      "image/png": "[encoded data removed]",
      "text/plain": [
       "<Figure size 1000x600 with 1 Axes>"
      ]
     },
     "metadata": {},
     "output_type": "display_data"
    }
   ],
   "source": [
    "import pandas as pd\n",
    "import matplotlib.pyplot as plt\n",
    "\n",
    "df_1a = pd.read_excel(\"betyg_o_prov_riksnivå.xlsx\", sheet_name=\"Tabell 1A\")\n",
    "\n",
    "data_1a = df_1a.iloc[9:14].copy()\n",
    "\n",
    "a_columns = [\n",
    "    \"Läsår\",\n",
    "    \"Avslut åk 9 Totalt\",\n",
    "    \"Flickor avslut\",\n",
    "    \"Pojkar avslut\",\n",
    "    \"Elever med slutbetyg totalt\",\n",
    "    \"Flickor slutbetyg\",\n",
    "    \"Pojkar slutbetyg\",\n",
    "    \"Godkända slutbetyg totalt\",\n",
    "    \"Flickor godkända\",\n",
    "    \"Pojkar godkända\",\n",
    "]\n",
    "\n",
    "data_1a.columns = a_columns\n",
    "\n",
    "data_1a[\"Elever saknar godkänt betyg, totalt\"] = (\n",
    "    data_1a[\"Avslut åk 9 Totalt\"] - data_1a[\"Godkända slutbetyg totalt\"]\n",
    ")\n",
    "data_1a[\"Elever saknar godkänt betyg, flickor\"] = (\n",
    "    data_1a[\"Flickor avslut\"] - data_1a[\"Flickor godkända\"]\n",
    ")\n",
    "data_1a[\"Elever saknar godkänt betyg, pojkar\"] = (\n",
    "    data_1a[\"Pojkar avslut\"] - data_1a[\"Pojkar godkända\"]\n",
    ")\n",
    "\n",
    "plt.figure(figsize=(10, 6))\n",
    "plt.plot(data_1a[\"Läsår\"], data_1a[\"Elever saknar godkänt betyg, totalt\"], marker=\"d\", label=\"Totalt\", color=\"red\", linewidth=2, linestyle=\"--\")\n",
    "plt.plot(data_1a[\"Läsår\"], data_1a[\"Elever saknar godkänt betyg, flickor\"], marker=\"d\", label=\"Flickor\", color=\"#AA336A\", linewidth=2, linestyle=\"--\")\n",
    "plt.plot(data_1a[\"Läsår\"], data_1a[\"Elever saknar godkänt betyg, pojkar\"], marker=\"d\", label=\"Pojkar\", color=\"blue\", linewidth=2, linestyle=\"--\")\n",
    "\n",
    "for i, txt in enumerate(data_1a[\"Elever saknar godkänt betyg, totalt\"]):\n",
    "    plt.text(data_1a[\"Läsår\"].iloc[i], data_1a[\"Elever saknar godkänt betyg, totalt\"].iloc[i] + 100, txt, ha=\"center\", va=\"bottom\", color=\"gray\")\n",
    "\n",
    "for i, txt in enumerate(data_1a[\"Elever saknar godkänt betyg, pojkar\"]):\n",
    "    plt.text(data_1a[\"Läsår\"].iloc[i], data_1a[\"Elever saknar godkänt betyg, pojkar\"].iloc[i] + 55, txt, ha=\"center\", va=\"bottom\", color=\"gray\")\n",
    "\n",
    "plt.title(\"Antal elever som saknar godkänt betyg i ett eller flera ämnen\", color=\"black\", fontsize=14, fontweight=\"bold\", pad=20)\n",
    "plt.xticks(data_1a[\"Läsår\"], rotation=45, color=\"black\", fontsize=10)\n",
    "plt.yticks(color=\"black\", fontsize=10)\n",
    "\n",
    "# Set tick parameters\n",
    "plt.gca().tick_params(axis=\"both\", colors=\"black\", labelsize=8)\n",
    "\n",
    "plt.legend(facecolor=\"white\", edgecolor=\"black\", fontsize=10, loc=\"upper left\")\n",
    "legend = plt.gca().get_legend()\n",
    "frame = legend.get_frame()\n",
    "frame.set_facecolor(\"white\")\n",
    "frame.set_edgecolor(\"gray\")\n",
    "for text in legend.get_texts():\n",
    "    text.set_color(\"gray\")\n",
    "\n",
    "plt.ylim(0, 3000)  \n",
    "\n",
    "plt.gca().set_facecolor(\"white\")\n",
    "plt.gca().spines[\"bottom\"].set_color(\"black\")\n",
    "plt.gca().spines[\"top\"].set_color(\"gray\")\n",
    "plt.gca().spines[\"left\"].set_color(\"black\")\n",
    "plt.gca().spines[\"right\"].set_color(\"gray\")\n",
    "plt.gcf().set_facecolor(\"white\")\n",
    "\n",
    "plt.grid(True, which='both', linestyle=':', linewidth=0.5, color='gray')  \n",
    "\n",
    "plt.show()\n"
   ]
  },
  {
   "cell_type": "markdown",
   "metadata": {},
   "source": [
    "---\n",
    "## OBS PLOTLY VERSION"
   ]
  },
  {
   "cell_type": "code",
   "execution_count": 18,
   "metadata": {},
   "outputs": [
    {
     "data": {
      "application/vnd.plotly.v1+json": {
       "config": {
        "plotlyServerURL": "https://plot.ly"
       },
       "data": [
        {
         "line": {
          "color": "blue",
          "dash": "dash"
         },
         "marker": {
          "size": 10,
          "symbol": "diamond"
         },
         "mode": "lines+markers",
         "name": "% Tillsammans",
         "text": [
          "24.5%",
          "23.9%",
          "23.9%",
          "25.9%",
          "26.8%"
         ],
         "type": "scatter",
         "x": [
          "2018/19",
          "2019/20",
          "2020/21",
          "2021/22",
          "2022/23"
         ],
         "y": [
          24.5,
          23.9,
          23.9,
          25.9,
          26.8
         ]
        },
        {
         "line": {
          "color": "deeppink",
          "dash": "dash"
         },
         "marker": {
          "size": 10,
          "symbol": "diamond"
         },
         "mode": "lines+markers",
         "name": "% Flickor",
         "text": [
          "21.7%",
          "21.4%",
          "21.9%",
          "24.2%",
          "25.5%"
         ],
         "type": "scatter",
         "x": [
          "2018/19",
          "2019/20",
          "2020/21",
          "2021/22",
          "2022/23"
         ],
         "y": [
          21.7,
          21.4,
          21.9,
          24.2,
          25.5
         ]
        },
        {
         "line": {
          "color": "black",
          "dash": "dash"
         },
         "marker": {
          "size": 10,
          "symbol": "diamond"
         },
         "mode": "lines+markers",
         "name": "% Pojkar",
         "text": [
          "27.2%",
          "26.3%",
          "25.9%",
          "27.5%",
          "28%"
         ],
         "type": "scatter",
         "x": [
          "2018/19",
          "2019/20",
          "2020/21",
          "2021/22",
          "2022/23"
         ],
         "y": [
          27.2,
          26.3,
          25.9,
          27.5,
          28
         ]
        }
       ],
       "layout": {
        "annotations": [
         {
          "font": {
           "color": "black",
           "size": 10
          },
          "showarrow": false,
          "text": "24.5%",
          "x": "2018/19",
          "xshift": 5,
          "y": 24.5,
          "yshift": 20
         },
         {
          "font": {
           "color": "black",
           "size": 10
          },
          "showarrow": false,
          "text": "23.9%",
          "x": "2019/20",
          "xshift": 5,
          "y": 23.9,
          "yshift": 20
         },
         {
          "font": {
           "color": "black",
           "size": 10
          },
          "showarrow": false,
          "text": "23.9%",
          "x": "2020/21",
          "xshift": 5,
          "y": 23.9,
          "yshift": 20
         },
         {
          "font": {
           "color": "black",
           "size": 10
          },
          "showarrow": false,
          "text": "25.9%",
          "x": "2021/22",
          "xshift": 5,
          "y": 25.9,
          "yshift": 20
         },
         {
          "font": {
           "color": "black",
           "size": 10
          },
          "showarrow": false,
          "text": "26.8%",
          "x": "2022/23",
          "xshift": 5,
          "y": 26.8,
          "yshift": 20
         },
         {
          "font": {
           "color": "black",
           "size": 10
          },
          "showarrow": false,
          "text": "21.7%",
          "x": "2018/19",
          "xshift": 5,
          "y": 21.7,
          "yshift": 20
         },
         {
          "font": {
           "color": "black",
           "size": 10
          },
          "showarrow": false,
          "text": "21.4%",
          "x": "2019/20",
          "xshift": 5,
          "y": 21.4,
          "yshift": 20
         },
         {
          "font": {
           "color": "black",
           "size": 10
          },
          "showarrow": false,
          "text": "21.9%",
          "x": "2020/21",
          "xshift": 5,
          "y": 21.9,
          "yshift": 20
         },
         {
          "font": {
           "color": "black",
           "size": 10
          },
          "showarrow": false,
          "text": "24.2%",
          "x": "2021/22",
          "xshift": 5,
          "y": 24.2,
          "yshift": 20
         },
         {
          "font": {
           "color": "black",
           "size": 10
          },
          "showarrow": false,
          "text": "25.5%",
          "x": "2022/23",
          "xshift": 5,
          "y": 25.5,
          "yshift": 20
         },
         {
          "font": {
           "color": "black",
           "size": 10
          },
          "showarrow": false,
          "text": "27.2%",
          "x": "2018/19",
          "xshift": 5,
          "y": 27.2,
          "yshift": 20
         },
         {
          "font": {
           "color": "black",
           "size": 10
          },
          "showarrow": false,
          "text": "26.3%",
          "x": "2019/20",
          "xshift": 5,
          "y": 26.3,
          "yshift": 20
         },
         {
          "font": {
           "color": "black",
           "size": 10
          },
          "showarrow": false,
          "text": "25.9%",
          "x": "2020/21",
          "xshift": 5,
          "y": 25.9,
          "yshift": 20
         },
         {
          "font": {
           "color": "black",
           "size": 10
          },
          "showarrow": false,
          "text": "27.5%",
          "x": "2021/22",
          "xshift": 5,
          "y": 27.5,
          "yshift": 20
         },
         {
          "font": {
           "color": "black",
           "size": 10
          },
          "showarrow": false,
          "text": "28%",
          "x": "2022/23",
          "xshift": 5,
          "y": 28,
          "yshift": 20
         }
        ],
        "hoverlabel": {
         "bgcolor": "white",
         "font": {
          "color": "black"
         }
        },
        "legend": {
         "bgcolor": "white",
         "bordercolor": "black",
         "borderwidth": 1,
         "font": {
          "color": "black"
         }
        },
        "margin": {
         "b": 80,
         "l": 50,
         "r": 50,
         "t": 80
        },
        "paper_bgcolor": "white",
        "plot_bgcolor": "white",
        "template": {
         "data": {
          "bar": [
           {
            "error_x": {
             "color": "#2a3f5f"
            },
            "error_y": {
             "color": "#2a3f5f"
            },
            "marker": {
             "line": {
              "color": "#E5ECF6",
              "width": 0.5
             },
             "pattern": {
              "fillmode": "overlay",
              "size": 10,
              "solidity": 0.2
             }
            },
            "type": "bar"
           }
          ],
          "barpolar": [
           {
            "marker": {
             "line": {
              "color": "#E5ECF6",
              "width": 0.5
             },
             "pattern": {
              "fillmode": "overlay",
              "size": 10,
              "solidity": 0.2
             }
            },
            "type": "barpolar"
           }
          ],
          "carpet": [
           {
            "aaxis": {
             "endlinecolor": "#2a3f5f",
             "gridcolor": "white",
             "linecolor": "white",
             "minorgridcolor": "white",
             "startlinecolor": "#2a3f5f"
            },
            "baxis": {
             "endlinecolor": "#2a3f5f",
             "gridcolor": "white",
             "linecolor": "white",
             "minorgridcolor": "white",
             "startlinecolor": "#2a3f5f"
            },
            "type": "carpet"
           }
          ],
          "choropleth": [
           {
            "colorbar": {
             "outlinewidth": 0,
             "ticks": ""
            },
            "type": "choropleth"
           }
          ],
          "contour": [
           {
            "colorbar": {
             "outlinewidth": 0,
             "ticks": ""
            },
            "colorscale": [
             [
              0,
              "#0d0887"
             ],
             [
              0.1111111111111111,
              "#46039f"
             ],
             [
              0.2222222222222222,
              "#7201a8"
             ],
             [
              0.3333333333333333,
              "#9c179e"
             ],
             [
              0.4444444444444444,
              "#bd3786"
             ],
             [
              0.5555555555555556,
              "#d8576b"
             ],
             [
              0.6666666666666666,
              "#ed7953"
             ],
             [
              0.7777777777777778,
              "#fb9f3a"
             ],
             [
              0.8888888888888888,
              "#fdca26"
             ],
             [
              1,
              "#f0f921"
             ]
            ],
            "type": "contour"
           }
          ],
          "contourcarpet": [
           {
            "colorbar": {
             "outlinewidth": 0,
             "ticks": ""
            },
            "type": "contourcarpet"
           }
          ],
          "heatmap": [
           {
            "colorbar": {
             "outlinewidth": 0,
             "ticks": ""
            },
            "colorscale": [
             [
              0,
              "#0d0887"
             ],
             [
              0.1111111111111111,
              "#46039f"
             ],
             [
              0.2222222222222222,
              "#7201a8"
             ],
             [
              0.3333333333333333,
              "#9c179e"
             ],
             [
              0.4444444444444444,
              "#bd3786"
             ],
             [
              0.5555555555555556,
              "#d8576b"
             ],
             [
              0.6666666666666666,
              "#ed7953"
             ],
             [
              0.7777777777777778,
              "#fb9f3a"
             ],
             [
              0.8888888888888888,
              "#fdca26"
             ],
             [
              1,
              "#f0f921"
             ]
            ],
            "type": "heatmap"
           }
          ],
          "heatmapgl": [
           {
            "colorbar": {
             "outlinewidth": 0,
             "ticks": ""
            },
            "colorscale": [
             [
              0,
              "#0d0887"
             ],
             [
              0.1111111111111111,
              "#46039f"
             ],
             [
              0.2222222222222222,
              "#7201a8"
             ],
             [
              0.3333333333333333,
              "#9c179e"
             ],
             [
              0.4444444444444444,
              "#bd3786"
             ],
             [
              0.5555555555555556,
              "#d8576b"
             ],
             [
              0.6666666666666666,
              "#ed7953"
             ],
             [
              0.7777777777777778,
              "#fb9f3a"
             ],
             [
              0.8888888888888888,
              "#fdca26"
             ],
             [
              1,
              "#f0f921"
             ]
            ],
            "type": "heatmapgl"
           }
          ],
          "histogram": [
           {
            "marker": {
             "pattern": {
              "fillmode": "overlay",
              "size": 10,
              "solidity": 0.2
             }
            },
            "type": "histogram"
           }
          ],
          "histogram2d": [
           {
            "colorbar": {
             "outlinewidth": 0,
             "ticks": ""
            },
            "colorscale": [
             [
              0,
              "#0d0887"
             ],
             [
              0.1111111111111111,
              "#46039f"
             ],
             [
              0.2222222222222222,
              "#7201a8"
             ],
             [
              0.3333333333333333,
              "#9c179e"
             ],
             [
              0.4444444444444444,
              "#bd3786"
             ],
             [
              0.5555555555555556,
              "#d8576b"
             ],
             [
              0.6666666666666666,
              "#ed7953"
             ],
             [
              0.7777777777777778,
              "#fb9f3a"
             ],
             [
              0.8888888888888888,
              "#fdca26"
             ],
             [
              1,
              "#f0f921"
             ]
            ],
            "type": "histogram2d"
           }
          ],
          "histogram2dcontour": [
           {
            "colorbar": {
             "outlinewidth": 0,
             "ticks": ""
            },
            "colorscale": [
             [
              0,
              "#0d0887"
             ],
             [
              0.1111111111111111,
              "#46039f"
             ],
             [
              0.2222222222222222,
              "#7201a8"
             ],
             [
              0.3333333333333333,
              "#9c179e"
             ],
             [
              0.4444444444444444,
              "#bd3786"
             ],
             [
              0.5555555555555556,
              "#d8576b"
             ],
             [
              0.6666666666666666,
              "#ed7953"
             ],
             [
              0.7777777777777778,
              "#fb9f3a"
             ],
             [
              0.8888888888888888,
              "#fdca26"
             ],
             [
              1,
              "#f0f921"
             ]
            ],
            "type": "histogram2dcontour"
           }
          ],
          "mesh3d": [
           {
            "colorbar": {
             "outlinewidth": 0,
             "ticks": ""
            },
            "type": "mesh3d"
           }
          ],
          "parcoords": [
           {
            "line": {
             "colorbar": {
              "outlinewidth": 0,
              "ticks": ""
             }
            },
            "type": "parcoords"
           }
          ],
          "pie": [
           {
            "automargin": true,
            "type": "pie"
           }
          ],
          "scatter": [
           {
            "fillpattern": {
             "fillmode": "overlay",
             "size": 10,
             "solidity": 0.2
            },
            "type": "scatter"
           }
          ],
          "scatter3d": [
           {
            "line": {
             "colorbar": {
              "outlinewidth": 0,
              "ticks": ""
             }
            },
            "marker": {
             "colorbar": {
              "outlinewidth": 0,
              "ticks": ""
             }
            },
            "type": "scatter3d"
           }
          ],
          "scattercarpet": [
           {
            "marker": {
             "colorbar": {
              "outlinewidth": 0,
              "ticks": ""
             }
            },
            "type": "scattercarpet"
           }
          ],
          "scattergeo": [
           {
            "marker": {
             "colorbar": {
              "outlinewidth": 0,
              "ticks": ""
             }
            },
            "type": "scattergeo"
           }
          ],
          "scattergl": [
           {
            "marker": {
             "colorbar": {
              "outlinewidth": 0,
              "ticks": ""
             }
            },
            "type": "scattergl"
           }
          ],
          "scattermapbox": [
           {
            "marker": {
             "colorbar": {
              "outlinewidth": 0,
              "ticks": ""
             }
            },
            "type": "scattermapbox"
           }
          ],
          "scatterpolar": [
           {
            "marker": {
             "colorbar": {
              "outlinewidth": 0,
              "ticks": ""
             }
            },
            "type": "scatterpolar"
           }
          ],
          "scatterpolargl": [
           {
            "marker": {
             "colorbar": {
              "outlinewidth": 0,
              "ticks": ""
             }
            },
            "type": "scatterpolargl"
           }
          ],
          "scatterternary": [
           {
            "marker": {
             "colorbar": {
              "outlinewidth": 0,
              "ticks": ""
             }
            },
            "type": "scatterternary"
           }
          ],
          "surface": [
           {
            "colorbar": {
             "outlinewidth": 0,
             "ticks": ""
            },
            "colorscale": [
             [
              0,
              "#0d0887"
             ],
             [
              0.1111111111111111,
              "#46039f"
             ],
             [
              0.2222222222222222,
              "#7201a8"
             ],
             [
              0.3333333333333333,
              "#9c179e"
             ],
             [
              0.4444444444444444,
              "#bd3786"
             ],
             [
              0.5555555555555556,
              "#d8576b"
             ],
             [
              0.6666666666666666,
              "#ed7953"
             ],
             [
              0.7777777777777778,
              "#fb9f3a"
             ],
             [
              0.8888888888888888,
              "#fdca26"
             ],
             [
              1,
              "#f0f921"
             ]
            ],
            "type": "surface"
           }
          ],
          "table": [
           {
            "cells": {
             "fill": {
              "color": "#EBF0F8"
             },
             "line": {
              "color": "white"
             }
            },
            "header": {
             "fill": {
              "color": "#C8D4E3"
             },
             "line": {
              "color": "white"
             }
            },
            "type": "table"
           }
          ]
         },
         "layout": {
          "annotationdefaults": {
           "arrowcolor": "#2a3f5f",
           "arrowhead": 0,
           "arrowwidth": 1
          },
          "autotypenumbers": "strict",
          "coloraxis": {
           "colorbar": {
            "outlinewidth": 0,
            "ticks": ""
           }
          },
          "colorscale": {
           "diverging": [
            [
             0,
             "#8e0152"
            ],
            [
             0.1,
             "#c51b7d"
            ],
            [
             0.2,
             "#de77ae"
            ],
            [
             0.3,
             "#f1b6da"
            ],
            [
             0.4,
             "#fde0ef"
            ],
            [
             0.5,
             "#f7f7f7"
            ],
            [
             0.6,
             "#e6f5d0"
            ],
            [
             0.7,
             "#b8e186"
            ],
            [
             0.8,
             "#7fbc41"
            ],
            [
             0.9,
             "#4d9221"
            ],
            [
             1,
             "#276419"
            ]
           ],
           "sequential": [
            [
             0,
             "#0d0887"
            ],
            [
             0.1111111111111111,
             "#46039f"
            ],
            [
             0.2222222222222222,
             "#7201a8"
            ],
            [
             0.3333333333333333,
             "#9c179e"
            ],
            [
             0.4444444444444444,
             "#bd3786"
            ],
            [
             0.5555555555555556,
             "#d8576b"
            ],
            [
             0.6666666666666666,
             "#ed7953"
            ],
            [
             0.7777777777777778,
             "#fb9f3a"
            ],
            [
             0.8888888888888888,
             "#fdca26"
            ],
            [
             1,
             "#f0f921"
            ]
           ],
           "sequentialminus": [
            [
             0,
             "#0d0887"
            ],
            [
             0.1111111111111111,
             "#46039f"
            ],
            [
             0.2222222222222222,
             "#7201a8"
            ],
            [
             0.3333333333333333,
             "#9c179e"
            ],
            [
             0.4444444444444444,
             "#bd3786"
            ],
            [
             0.5555555555555556,
             "#d8576b"
            ],
            [
             0.6666666666666666,
             "#ed7953"
            ],
            [
             0.7777777777777778,
             "#fb9f3a"
            ],
            [
             0.8888888888888888,
             "#fdca26"
            ],
            [
             1,
             "#f0f921"
            ]
           ]
          },
          "colorway": [
           "#636efa",
           "#EF553B",
           "#00cc96",
           "#ab63fa",
           "#FFA15A",
           "#19d3f3",
           "#FF6692",
           "#B6E880",
           "#FF97FF",
           "#FECB52"
          ],
          "font": {
           "color": "#2a3f5f"
          },
          "geo": {
           "bgcolor": "white",
           "lakecolor": "white",
           "landcolor": "#E5ECF6",
           "showlakes": true,
           "showland": true,
           "subunitcolor": "white"
          },
          "hoverlabel": {
           "align": "left"
          },
          "hovermode": "closest",
          "mapbox": {
           "style": "light"
          },
          "paper_bgcolor": "white",
          "plot_bgcolor": "#E5ECF6",
          "polar": {
           "angularaxis": {
            "gridcolor": "white",
            "linecolor": "white",
            "ticks": ""
           },
           "bgcolor": "#E5ECF6",
           "radialaxis": {
            "gridcolor": "white",
            "linecolor": "white",
            "ticks": ""
           }
          },
          "scene": {
           "xaxis": {
            "backgroundcolor": "#E5ECF6",
            "gridcolor": "white",
            "gridwidth": 2,
            "linecolor": "white",
            "showbackground": true,
            "ticks": "",
            "zerolinecolor": "white"
           },
           "yaxis": {
            "backgroundcolor": "#E5ECF6",
            "gridcolor": "white",
            "gridwidth": 2,
            "linecolor": "white",
            "showbackground": true,
            "ticks": "",
            "zerolinecolor": "white"
           },
           "zaxis": {
            "backgroundcolor": "#E5ECF6",
            "gridcolor": "white",
            "gridwidth": 2,
            "linecolor": "white",
            "showbackground": true,
            "ticks": "",
            "zerolinecolor": "white"
           }
          },
          "shapedefaults": {
           "line": {
            "color": "#2a3f5f"
           }
          },
          "ternary": {
           "aaxis": {
            "gridcolor": "white",
            "linecolor": "white",
            "ticks": ""
           },
           "baxis": {
            "gridcolor": "white",
            "linecolor": "white",
            "ticks": ""
           },
           "bgcolor": "#E5ECF6",
           "caxis": {
            "gridcolor": "white",
            "linecolor": "white",
            "ticks": ""
           }
          },
          "title": {
           "x": 0.05
          },
          "xaxis": {
           "automargin": true,
           "gridcolor": "white",
           "linecolor": "white",
           "ticks": "",
           "title": {
            "standoff": 15
           },
           "zerolinecolor": "white",
           "zerolinewidth": 2
          },
          "yaxis": {
           "automargin": true,
           "gridcolor": "white",
           "linecolor": "white",
           "ticks": "",
           "title": {
            "standoff": 15
           },
           "zerolinecolor": "white",
           "zerolinewidth": 2
          }
         }
        },
        "title": {
         "font": {
          "color": "black"
         },
         "text": "<b>Andel (%) elever som saknar godkänt betyg i ett, flera eller alla ämnen</b>"
        },
        "width": 1200,
        "xaxis": {
         "dtick": 1,
         "gridcolor": "lightgray",
         "griddash": "dot",
         "gridwidth": 1,
         "linecolor": "black",
         "linewidth": 1,
         "showgrid": true,
         "showline": true,
         "tick0": 0,
         "tickmode": "linear"
        },
        "yaxis": {
         "dtick": 2,
         "gridcolor": "lightgray",
         "griddash": "dot",
         "gridwidth": 1,
         "linecolor": "black",
         "linewidth": 1,
         "range": [
          20,
          29
         ],
         "showgrid": true,
         "showline": true,
         "tickcolor": "black",
         "tickwidth": 1
        }
       }
      }
     },
     "metadata": {},
     "output_type": "display_data"
    }
   ],
   "source": [
    "import pandas as pd\n",
    "import plotly.graph_objects as go\n",
    "\n",
    "df_1b = pd.read_excel(\"betyg_o_prov_riksnivå.xlsx\", sheet_name=\"Tabell 1B\")\n",
    "data_1b = df_1b.iloc[7:12].copy()\n",
    "\n",
    "b_columns = [\n",
    "    \"Läsår\",\n",
    "    \"Medelvärde 16 ämnen totalt\",\n",
    "    \"Medelvärde 16 ämne flickor\",\n",
    "    \"Medelvärde 16 ämnen pojkar\",\n",
    "    \"Medelvärde 17 ämnen totalt\",\n",
    "    \"Medelvärde 17 flickor\",\n",
    "    \"Medelvärde 17 pojkar\",\n",
    "    \"% Som saknar godkänt\",\n",
    "    \"% Flickor\",\n",
    "    \"% Pojkar\",\n",
    "]\n",
    "\n",
    "data_1b.columns = b_columns\n",
    "\n",
    "fig = go.Figure()\n",
    "\n",
    "fig.add_trace(go.Scatter(x=data_1b[\"Läsår\"], y=data_1b[\"% Som saknar godkänt\"], mode=\"lines+markers\", name=\"% Tillsammans\", line=dict(color=\"blue\", dash=\"dash\"), marker=dict(symbol=\"diamond\", size=10), text=[f\"{p}%\" for p in data_1b[\"% Som saknar godkänt\"]]))\n",
    "fig.add_trace(go.Scatter(x=data_1b[\"Läsår\"], y=data_1b[\"% Flickor\"], mode=\"lines+markers\", name=\"% Flickor\", line=dict(color=\"deeppink\", dash=\"dash\"), marker=dict(symbol=\"diamond\", size=10), text=[f\"{p}%\" for p in data_1b[\"% Flickor\"]]))\n",
    "fig.add_trace(go.Scatter(x=data_1b[\"Läsår\"], y=data_1b[\"% Pojkar\"], mode=\"lines+markers\", name=\"% Pojkar\", line=dict(color=\"black\", dash=\"dash\"), marker=dict(symbol=\"diamond\", size=10), text=[f\"{p}%\" for p in data_1b[\"% Pojkar\"]]))\n",
    "\n",
    "for i, row in data_1b.iterrows():\n",
    "    fig.add_annotation(\n",
    "        x=row[\"Läsår\"],\n",
    "        y=row[\"% Som saknar godkänt\"],\n",
    "        text=f\"{row['% Som saknar godkänt']}%\",\n",
    "        showarrow=False,\n",
    "        font=dict(color=\"black\", size=10),\n",
    "        xshift=5,\n",
    "        yshift=20,\n",
    "    )\n",
    "\n",
    "for i, row in data_1b.iterrows():\n",
    "    fig.add_annotation(\n",
    "        x=row[\"Läsår\"],\n",
    "        y=row[\"% Flickor\"],\n",
    "        text=f\"{row['% Flickor']}%\",\n",
    "        showarrow=False,\n",
    "        font=dict(color=\"black\", size=10),\n",
    "        xshift=5,\n",
    "        yshift=20,\n",
    "    )\n",
    "\n",
    "for i, row in data_1b.iterrows():\n",
    "    fig.add_annotation(\n",
    "        x=row[\"Läsår\"],\n",
    "        y=row[\"% Pojkar\"],\n",
    "        text=f\"{row['% Pojkar']}%\",\n",
    "        showarrow=False,\n",
    "        font=dict(color=\"black\", size=10),\n",
    "        xshift=5,\n",
    "        yshift=20,\n",
    "    )\n",
    "\n",
    "fig.update_layout(\n",
    "    title=dict(\n",
    "        text=\"<b>Andel (%) elever som saknar godkänt betyg i ett, flera eller alla ämnen</b>\",\n",
    "        font=dict(color=\"black\")\n",
    "    ),\n",
    "    xaxis=dict(showgrid=True, showline=True, linewidth=1, linecolor=\"black\", tickmode=\"linear\", tick0=0, dtick=1, gridcolor=\"lightgray\", gridwidth=1, griddash='dot'),\n",
    "    yaxis=dict(showgrid=True, showline=True, linewidth=1, linecolor=\"black\", range=[20, 29], dtick=2, tickwidth=1, tickcolor=\"black\", gridcolor=\"lightgray\", gridwidth=1, griddash='dot'),\n",
    "    legend=dict(font=dict(color=\"black\"), bgcolor=\"white\", bordercolor=\"black\", borderwidth=1),\n",
    "    plot_bgcolor=\"white\",\n",
    "    paper_bgcolor=\"white\",\n",
    "    margin=dict(l=50, r=50, t=80, b=80), \n",
    "    width=1200,  \n",
    "    hoverlabel=dict(\n",
    "        font=dict(color='black'),\n",
    "        bgcolor='white'\n",
    "    )\n",
    ")\n",
    "\n",
    "fig.show()\n"
   ]
  },
  {
   "cell_type": "markdown",
   "metadata": {},
   "source": [
    "--- \n"
   ]
  },
  {
   "cell_type": "markdown",
   "metadata": {},
   "source": [
    "---\n",
    "b) Rita ett linjediagram för meritvärde för 16 ämnen för totalt, flickor och pojkar för läsår 18-23.\n",
    "\n",
    "# OBS MATPLOT VERSION"
   ]
  },
  {
   "cell_type": "code",
   "execution_count": 36,
   "metadata": {},
   "outputs": [
    {
     "data": {
      "image/png": "[encoded data removed]",
      "text/plain": [
       "<Figure size 1000x600 with 1 Axes>"
      ]
     },
     "metadata": {},
     "output_type": "display_data"
    }
   ],
   "source": [
    "import pandas as pd\n",
    "import matplotlib.pyplot as plt\n",
    "\n",
    "df_1b = pd.read_excel(\"betyg_o_prov_riksnivå.xlsx\", sheet_name=\"Tabell 1B\")\n",
    "\n",
    "data_1b = df_1b.iloc[7:13].copy()\n",
    "\n",
    "b_columns = [\n",
    "    \"Läsår\",\n",
    "    \"Medelvärde 16 ämnen totalt\",\n",
    "    \"Medelvärde 16 ämnen flickor\",\n",
    "    \"Medelvärde 16 ämnen pojkar\",\n",
    "    \"Medelvärde 17 ämnen totalt\",\n",
    "    \"Medelvärde 17 flickor\",\n",
    "    \"Medelvärde 17 pojkar\",\n",
    "    \"% Som saknar godkänt\",\n",
    "    \"P Flickor\",\n",
    "    \"P Pojkar\",\n",
    "]\n",
    "\n",
    "data_1b.columns = b_columns\n",
    "\n",
    "data_1b.dropna(inplace=True)\n",
    "\n",
    "years = data_1b[\"Läsår\"]\n",
    "Mean_T = data_1b[\"Medelvärde 16 ämnen totalt\"]\n",
    "Mean_F = data_1b[\"Medelvärde 16 ämnen flickor\"]\n",
    "Mean_P = data_1b[\"Medelvärde 16 ämnen pojkar\"]\n",
    "\n",
    "plt.figure(figsize=(10, 6))\n",
    "\n",
    "plt.plot(years, Mean_T, label=\"Totalt\", marker=\"d\", ms=8, ls=\"--\", color='red', linewidth=2)\n",
    "plt.plot(years, Mean_F, label=\"Flickor\", marker=\"d\", ls=\"--\", color='blue', linewidth=2)\n",
    "plt.plot(years, Mean_P, label=\"Pojkar\", marker=\"d\", ls=\"--\", color='green', linewidth=2)\n",
    "\n",
    "plt.title(\"Meritvärde för 16 ämnen åk 9 under åren 2018 - 2023\", color='lightgray')\n",
    "plt.xlabel(\"År\", color='lightgray')\n",
    "plt.ylabel(\"Antal elever\", color='lightgray')\n",
    "plt.grid(axis=\"x\", ls=\":\", linewidth=0.8)\n",
    "plt.legend()\n",
    "\n",
    "ax = plt.gca()\n",
    "ax.spines[\"top\"].set_visible(False)\n",
    "ax.spines[\"right\"].set_visible(False)\n",
    "\n",
    "text_total = [f'Totalt {year}: {round(val)}' for val, year in zip(Mean_T, years)]\n",
    "text_female = [f'Flickor {year}: {round(val)}' for val, year in zip(Mean_F, years)]\n",
    "text_male = [f'Pojkar {year}: {round(val)}' for val, year in zip(Mean_P, years)]\n",
    "\n",
    "plt.text(\n",
    "    0.0,\n",
    "    -0.35,\n",
    "    \"\\n\".join(text_total),\n",
    "    transform=ax.transAxes,\n",
    "    ha=\"left\",\n",
    "    va=\"bottom\",\n",
    "    color=\"lightgray\",\n",
    ")\n",
    "plt.text(\n",
    "    0.5,\n",
    "    -0.35,\n",
    "    \"\\n\".join(text_female),\n",
    "    transform=ax.transAxes,\n",
    "    ha=\"center\",\n",
    "    va=\"bottom\",\n",
    "    color=\"black\",\n",
    ")\n",
    "plt.text(\n",
    "    1.0,\n",
    "    -0.35,\n",
    "    \"\\n\".join(text_male),\n",
    "    transform=ax.transAxes,\n",
    "    ha=\"right\",\n",
    "    va=\"bottom\",\n",
    "    color=\"black\",\n",
    ")\n",
    "\n",
    "plt.show()\n"
   ]
  },
  {
   "cell_type": "markdown",
   "metadata": {},
   "source": [
    "--- \n",
    "---\n",
    "---\n",
    "---"
   ]
  },
  {
   "cell_type": "code",
   "execution_count": 28,
   "metadata": {},
   "outputs": [
    {
     "data": {
      "application/vnd.plotly.v1+json": {
       "config": {
        "plotlyServerURL": "https://plot.ly"
       },
       "data": [
        {
         "hoverinfo": "text+x+y",
         "line": {
          "dash": "dash"
         },
         "marker": {
          "color": "red",
          "size": 8
         },
         "mode": "lines+markers+text",
         "name": "Totalt",
         "text": [
          "Totalt 2018/19: 222",
          "Totalt 2019/20: 223",
          "Totalt 2020/21: 224",
          "Totalt 2021/22: 221",
          "Totalt 2022/23: 221"
         ],
         "textfont": {
          "color": "black"
         },
         "textposition": "top center",
         "type": "scatter",
         "x": [
          "2018/19",
          "2019/20",
          "2020/21",
          "2021/22",
          "2022/23"
         ],
         "y": [
          221.7,
          222.9,
          223.9,
          221.2,
          220.6
         ]
        },
        {
         "hoverinfo": "text+x+y",
         "line": {
          "dash": "dash"
         },
         "marker": {
          "color": "blue",
          "size": 8
         },
         "mode": "lines+markers+text",
         "name": "Flickor",
         "text": [
          "Flickor 2018/19: 234",
          "Flickor 2019/20: 236",
          "Flickor 2020/21: 235",
          "Flickor 2021/22: 232",
          "Flickor 2022/23: 230"
         ],
         "textfont": {
          "color": "black"
         },
         "textposition": "top center",
         "type": "scatter",
         "x": [
          "2018/19",
          "2019/20",
          "2020/21",
          "2021/22",
          "2022/23"
         ],
         "y": [
          234.3,
          235.7,
          235.4,
          231.6,
          229.7
         ]
        },
        {
         "hoverinfo": "text+x+y",
         "line": {
          "dash": "dash"
         },
         "marker": {
          "color": "green",
          "size": 8
         },
         "mode": "lines+markers+text",
         "name": "Pojkar",
         "text": [
          "Pojkar 2018/19: 210",
          "Pojkar 2019/20: 211",
          "Pojkar 2020/21: 213",
          "Pojkar 2021/22: 211",
          "Pojkar 2022/23: 212"
         ],
         "textfont": {
          "color": "black"
         },
         "textposition": "top center",
         "type": "scatter",
         "x": [
          "2018/19",
          "2019/20",
          "2020/21",
          "2021/22",
          "2022/23"
         ],
         "y": [
          209.8,
          210.9,
          212.9,
          211.4,
          211.9
         ]
        }
       ],
       "layout": {
        "font": {
         "color": "black"
        },
        "hoverlabel": {
         "font": {
          "color": "black"
         }
        },
        "legend": {
         "font": {
          "color": "black"
         }
        },
        "margin": {
         "b": 10,
         "l": 60,
         "r": 10,
         "t": 60
        },
        "paper_bgcolor": "white",
        "plot_bgcolor": "white",
        "template": {
         "data": {
          "bar": [
           {
            "error_x": {
             "color": "#2a3f5f"
            },
            "error_y": {
             "color": "#2a3f5f"
            },
            "marker": {
             "line": {
              "color": "#E5ECF6",
              "width": 0.5
             },
             "pattern": {
              "fillmode": "overlay",
              "size": 10,
              "solidity": 0.2
             }
            },
            "type": "bar"
           }
          ],
          "barpolar": [
           {
            "marker": {
             "line": {
              "color": "#E5ECF6",
              "width": 0.5
             },
             "pattern": {
              "fillmode": "overlay",
              "size": 10,
              "solidity": 0.2
             }
            },
            "type": "barpolar"
           }
          ],
          "carpet": [
           {
            "aaxis": {
             "endlinecolor": "#2a3f5f",
             "gridcolor": "white",
             "linecolor": "white",
             "minorgridcolor": "white",
             "startlinecolor": "#2a3f5f"
            },
            "baxis": {
             "endlinecolor": "#2a3f5f",
             "gridcolor": "white",
             "linecolor": "white",
             "minorgridcolor": "white",
             "startlinecolor": "#2a3f5f"
            },
            "type": "carpet"
           }
          ],
          "choropleth": [
           {
            "colorbar": {
             "outlinewidth": 0,
             "ticks": ""
            },
            "type": "choropleth"
           }
          ],
          "contour": [
           {
            "colorbar": {
             "outlinewidth": 0,
             "ticks": ""
            },
            "colorscale": [
             [
              0,
              "#0d0887"
             ],
             [
              0.1111111111111111,
              "#46039f"
             ],
             [
              0.2222222222222222,
              "#7201a8"
             ],
             [
              0.3333333333333333,
              "#9c179e"
             ],
             [
              0.4444444444444444,
              "#bd3786"
             ],
             [
              0.5555555555555556,
              "#d8576b"
             ],
             [
              0.6666666666666666,
              "#ed7953"
             ],
             [
              0.7777777777777778,
              "#fb9f3a"
             ],
             [
              0.8888888888888888,
              "#fdca26"
             ],
             [
              1,
              "#f0f921"
             ]
            ],
            "type": "contour"
           }
          ],
          "contourcarpet": [
           {
            "colorbar": {
             "outlinewidth": 0,
             "ticks": ""
            },
            "type": "contourcarpet"
           }
          ],
          "heatmap": [
           {
            "colorbar": {
             "outlinewidth": 0,
             "ticks": ""
            },
            "colorscale": [
             [
              0,
              "#0d0887"
             ],
             [
              0.1111111111111111,
              "#46039f"
             ],
             [
              0.2222222222222222,
              "#7201a8"
             ],
             [
              0.3333333333333333,
              "#9c179e"
             ],
             [
              0.4444444444444444,
              "#bd3786"
             ],
             [
              0.5555555555555556,
              "#d8576b"
             ],
             [
              0.6666666666666666,
              "#ed7953"
             ],
             [
              0.7777777777777778,
              "#fb9f3a"
             ],
             [
              0.8888888888888888,
              "#fdca26"
             ],
             [
              1,
              "#f0f921"
             ]
            ],
            "type": "heatmap"
           }
          ],
          "heatmapgl": [
           {
            "colorbar": {
             "outlinewidth": 0,
             "ticks": ""
            },
            "colorscale": [
             [
              0,
              "#0d0887"
             ],
             [
              0.1111111111111111,
              "#46039f"
             ],
             [
              0.2222222222222222,
              "#7201a8"
             ],
             [
              0.3333333333333333,
              "#9c179e"
             ],
             [
              0.4444444444444444,
              "#bd3786"
             ],
             [
              0.5555555555555556,
              "#d8576b"
             ],
             [
              0.6666666666666666,
              "#ed7953"
             ],
             [
              0.7777777777777778,
              "#fb9f3a"
             ],
             [
              0.8888888888888888,
              "#fdca26"
             ],
             [
              1,
              "#f0f921"
             ]
            ],
            "type": "heatmapgl"
           }
          ],
          "histogram": [
           {
            "marker": {
             "pattern": {
              "fillmode": "overlay",
              "size": 10,
              "solidity": 0.2
             }
            },
            "type": "histogram"
           }
          ],
          "histogram2d": [
           {
            "colorbar": {
             "outlinewidth": 0,
             "ticks": ""
            },
            "colorscale": [
             [
              0,
              "#0d0887"
             ],
             [
              0.1111111111111111,
              "#46039f"
             ],
             [
              0.2222222222222222,
              "#7201a8"
             ],
             [
              0.3333333333333333,
              "#9c179e"
             ],
             [
              0.4444444444444444,
              "#bd3786"
             ],
             [
              0.5555555555555556,
              "#d8576b"
             ],
             [
              0.6666666666666666,
              "#ed7953"
             ],
             [
              0.7777777777777778,
              "#fb9f3a"
             ],
             [
              0.8888888888888888,
              "#fdca26"
             ],
             [
              1,
              "#f0f921"
             ]
            ],
            "type": "histogram2d"
           }
          ],
          "histogram2dcontour": [
           {
            "colorbar": {
             "outlinewidth": 0,
             "ticks": ""
            },
            "colorscale": [
             [
              0,
              "#0d0887"
             ],
             [
              0.1111111111111111,
              "#46039f"
             ],
             [
              0.2222222222222222,
              "#7201a8"
             ],
             [
              0.3333333333333333,
              "#9c179e"
             ],
             [
              0.4444444444444444,
              "#bd3786"
             ],
             [
              0.5555555555555556,
              "#d8576b"
             ],
             [
              0.6666666666666666,
              "#ed7953"
             ],
             [
              0.7777777777777778,
              "#fb9f3a"
             ],
             [
              0.8888888888888888,
              "#fdca26"
             ],
             [
              1,
              "#f0f921"
             ]
            ],
            "type": "histogram2dcontour"
           }
          ],
          "mesh3d": [
           {
            "colorbar": {
             "outlinewidth": 0,
             "ticks": ""
            },
            "type": "mesh3d"
           }
          ],
          "parcoords": [
           {
            "line": {
             "colorbar": {
              "outlinewidth": 0,
              "ticks": ""
             }
            },
            "type": "parcoords"
           }
          ],
          "pie": [
           {
            "automargin": true,
            "type": "pie"
           }
          ],
          "scatter": [
           {
            "fillpattern": {
             "fillmode": "overlay",
             "size": 10,
             "solidity": 0.2
            },
            "type": "scatter"
           }
          ],
          "scatter3d": [
           {
            "line": {
             "colorbar": {
              "outlinewidth": 0,
              "ticks": ""
             }
            },
            "marker": {
             "colorbar": {
              "outlinewidth": 0,
              "ticks": ""
             }
            },
            "type": "scatter3d"
           }
          ],
          "scattercarpet": [
           {
            "marker": {
             "colorbar": {
              "outlinewidth": 0,
              "ticks": ""
             }
            },
            "type": "scattercarpet"
           }
          ],
          "scattergeo": [
           {
            "marker": {
             "colorbar": {
              "outlinewidth": 0,
              "ticks": ""
             }
            },
            "type": "scattergeo"
           }
          ],
          "scattergl": [
           {
            "marker": {
             "colorbar": {
              "outlinewidth": 0,
              "ticks": ""
             }
            },
            "type": "scattergl"
           }
          ],
          "scattermapbox": [
           {
            "marker": {
             "colorbar": {
              "outlinewidth": 0,
              "ticks": ""
             }
            },
            "type": "scattermapbox"
           }
          ],
          "scatterpolar": [
           {
            "marker": {
             "colorbar": {
              "outlinewidth": 0,
              "ticks": ""
             }
            },
            "type": "scatterpolar"
           }
          ],
          "scatterpolargl": [
           {
            "marker": {
             "colorbar": {
              "outlinewidth": 0,
              "ticks": ""
             }
            },
            "type": "scatterpolargl"
           }
          ],
          "scatterternary": [
           {
            "marker": {
             "colorbar": {
              "outlinewidth": 0,
              "ticks": ""
             }
            },
            "type": "scatterternary"
           }
          ],
          "surface": [
           {
            "colorbar": {
             "outlinewidth": 0,
             "ticks": ""
            },
            "colorscale": [
             [
              0,
              "#0d0887"
             ],
             [
              0.1111111111111111,
              "#46039f"
             ],
             [
              0.2222222222222222,
              "#7201a8"
             ],
             [
              0.3333333333333333,
              "#9c179e"
             ],
             [
              0.4444444444444444,
              "#bd3786"
             ],
             [
              0.5555555555555556,
              "#d8576b"
             ],
             [
              0.6666666666666666,
              "#ed7953"
             ],
             [
              0.7777777777777778,
              "#fb9f3a"
             ],
             [
              0.8888888888888888,
              "#fdca26"
             ],
             [
              1,
              "#f0f921"
             ]
            ],
            "type": "surface"
           }
          ],
          "table": [
           {
            "cells": {
             "fill": {
              "color": "#EBF0F8"
             },
             "line": {
              "color": "white"
             }
            },
            "header": {
             "fill": {
              "color": "#C8D4E3"
             },
             "line": {
              "color": "white"
             }
            },
            "type": "table"
           }
          ]
         },
         "layout": {
          "annotationdefaults": {
           "arrowcolor": "#2a3f5f",
           "arrowhead": 0,
           "arrowwidth": 1
          },
          "autotypenumbers": "strict",
          "coloraxis": {
           "colorbar": {
            "outlinewidth": 0,
            "ticks": ""
           }
          },
          "colorscale": {
           "diverging": [
            [
             0,
             "#8e0152"
            ],
            [
             0.1,
             "#c51b7d"
            ],
            [
             0.2,
             "#de77ae"
            ],
            [
             0.3,
             "#f1b6da"
            ],
            [
             0.4,
             "#fde0ef"
            ],
            [
             0.5,
             "#f7f7f7"
            ],
            [
             0.6,
             "#e6f5d0"
            ],
            [
             0.7,
             "#b8e186"
            ],
            [
             0.8,
             "#7fbc41"
            ],
            [
             0.9,
             "#4d9221"
            ],
            [
             1,
             "#276419"
            ]
           ],
           "sequential": [
            [
             0,
             "#0d0887"
            ],
            [
             0.1111111111111111,
             "#46039f"
            ],
            [
             0.2222222222222222,
             "#7201a8"
            ],
            [
             0.3333333333333333,
             "#9c179e"
            ],
            [
             0.4444444444444444,
             "#bd3786"
            ],
            [
             0.5555555555555556,
             "#d8576b"
            ],
            [
             0.6666666666666666,
             "#ed7953"
            ],
            [
             0.7777777777777778,
             "#fb9f3a"
            ],
            [
             0.8888888888888888,
             "#fdca26"
            ],
            [
             1,
             "#f0f921"
            ]
           ],
           "sequentialminus": [
            [
             0,
             "#0d0887"
            ],
            [
             0.1111111111111111,
             "#46039f"
            ],
            [
             0.2222222222222222,
             "#7201a8"
            ],
            [
             0.3333333333333333,
             "#9c179e"
            ],
            [
             0.4444444444444444,
             "#bd3786"
            ],
            [
             0.5555555555555556,
             "#d8576b"
            ],
            [
             0.6666666666666666,
             "#ed7953"
            ],
            [
             0.7777777777777778,
             "#fb9f3a"
            ],
            [
             0.8888888888888888,
             "#fdca26"
            ],
            [
             1,
             "#f0f921"
            ]
           ]
          },
          "colorway": [
           "#636efa",
           "#EF553B",
           "#00cc96",
           "#ab63fa",
           "#FFA15A",
           "#19d3f3",
           "#FF6692",
           "#B6E880",
           "#FF97FF",
           "#FECB52"
          ],
          "font": {
           "color": "#2a3f5f"
          },
          "geo": {
           "bgcolor": "white",
           "lakecolor": "white",
           "landcolor": "#E5ECF6",
           "showlakes": true,
           "showland": true,
           "subunitcolor": "white"
          },
          "hoverlabel": {
           "align": "left"
          },
          "hovermode": "closest",
          "mapbox": {
           "style": "light"
          },
          "paper_bgcolor": "white",
          "plot_bgcolor": "#E5ECF6",
          "polar": {
           "angularaxis": {
            "gridcolor": "white",
            "linecolor": "white",
            "ticks": ""
           },
           "bgcolor": "#E5ECF6",
           "radialaxis": {
            "gridcolor": "white",
            "linecolor": "white",
            "ticks": ""
           }
          },
          "scene": {
           "xaxis": {
            "backgroundcolor": "#E5ECF6",
            "gridcolor": "white",
            "gridwidth": 2,
            "linecolor": "white",
            "showbackground": true,
            "ticks": "",
            "zerolinecolor": "white"
           },
           "yaxis": {
            "backgroundcolor": "#E5ECF6",
            "gridcolor": "white",
            "gridwidth": 2,
            "linecolor": "white",
            "showbackground": true,
            "ticks": "",
            "zerolinecolor": "white"
           },
           "zaxis": {
            "backgroundcolor": "#E5ECF6",
            "gridcolor": "white",
            "gridwidth": 2,
            "linecolor": "white",
            "showbackground": true,
            "ticks": "",
            "zerolinecolor": "white"
           }
          },
          "shapedefaults": {
           "line": {
            "color": "#2a3f5f"
           }
          },
          "ternary": {
           "aaxis": {
            "gridcolor": "white",
            "linecolor": "white",
            "ticks": ""
           },
           "baxis": {
            "gridcolor": "white",
            "linecolor": "white",
            "ticks": ""
           },
           "bgcolor": "#E5ECF6",
           "caxis": {
            "gridcolor": "white",
            "linecolor": "white",
            "ticks": ""
           }
          },
          "title": {
           "x": 0.05
          },
          "xaxis": {
           "automargin": true,
           "gridcolor": "white",
           "linecolor": "white",
           "ticks": "",
           "title": {
            "standoff": 15
           },
           "zerolinecolor": "white",
           "zerolinewidth": 2
          },
          "yaxis": {
           "automargin": true,
           "gridcolor": "white",
           "linecolor": "white",
           "ticks": "",
           "title": {
            "standoff": 15
           },
           "zerolinecolor": "white",
           "zerolinewidth": 2
          }
         }
        },
        "title": {
         "text": "<b>Meritvärde för 16 ämnen åk 9 under åren 2018 - 2023</b>"
        },
        "width": 1200,
        "xaxis": {
         "anchor": "y",
         "color": "black",
         "domain": [
          0,
          1
         ],
         "gridcolor": "lightgray",
         "griddash": "dot",
         "gridwidth": 1,
         "linecolor": "black",
         "linewidth": 1,
         "showgrid": true,
         "tickfont": {
          "color": "black"
         },
         "title": {
          "text": "År"
         },
         "zeroline": false
        },
        "yaxis": {
         "anchor": "x",
         "color": "black",
         "domain": [
          0,
          1
         ],
         "gridcolor": "lightgray",
         "griddash": "dot",
         "gridwidth": 1,
         "linecolor": "black",
         "linewidth": 1,
         "showgrid": true,
         "tickfont": {
          "color": "black"
         },
         "title": {
          "text": "Antal elever"
         },
         "zeroline": false
        }
       }
      }
     },
     "metadata": {},
     "output_type": "display_data"
    }
   ],
   "source": [
    "import pandas as pd\n",
    "import plotly.graph_objects as go\n",
    "from plotly.subplots import make_subplots\n",
    "\n",
    "df_1b = pd.read_excel(\"betyg_o_prov_riksnivå.xlsx\", sheet_name=\"Tabell 1B\")\n",
    "data_1b = df_1b.iloc[7:13].copy()\n",
    "\n",
    "b_columns = [\n",
    "    \"Läsår\",\n",
    "    \"Medelvärde 16 ämnen totalt\",\n",
    "    \"Medelvärde 16 ämnen flickor\",\n",
    "    \"Medelvärde 16 ämnen pojkar\",\n",
    "    \"Medelvärde 17 ämnen totalt\",\n",
    "    \"Medelvärde 17 flickor\",\n",
    "    \"Medelvärde 17 pojkar\",\n",
    "    \"% Som saknar godkänt\",\n",
    "    \"P Flickor\",\n",
    "    \"P Pojkar\",\n",
    "]\n",
    "\n",
    "data_1b.columns = b_columns\n",
    "\n",
    "data_1b.dropna(inplace=True)\n",
    "\n",
    "years = data_1b[\"Läsår\"]\n",
    "Mean_T = data_1b[\"Medelvärde 16 ämnen totalt\"]\n",
    "Mean_F = data_1b[\"Medelvärde 16 ämnen flickor\"]\n",
    "Mean_P = data_1b[\"Medelvärde 16 ämnen pojkar\"]\n",
    "\n",
    "fig = make_subplots(rows=1, cols=1)\n",
    "\n",
    "fig.add_trace(\n",
    "    go.Scatter(\n",
    "        x=years,\n",
    "        y=Mean_T,\n",
    "        mode=\"lines+markers+text\",\n",
    "        name=\"Totalt\",\n",
    "        marker=dict(color=\"red\", size=8),\n",
    "        line=dict(dash=\"dash\"),\n",
    "        text=[f\"Totalt {year}: {round(val)}\" for val, year in zip(Mean_T, years)],\n",
    "        hoverinfo=\"text+x+y\",\n",
    "        textposition=\"top center\",\n",
    "        textfont=dict(color=\"black\")\n",
    "    )\n",
    ")\n",
    "\n",
    "fig.add_trace(\n",
    "    go.Scatter(\n",
    "        x=years,\n",
    "        y=Mean_F,\n",
    "        mode=\"lines+markers+text\",\n",
    "        name=\"Flickor\",\n",
    "        marker=dict(color=\"blue\", size=8),\n",
    "        line=dict(dash=\"dash\"),\n",
    "        text=[f\"Flickor {year}: {round(val)}\" for val, year in zip(Mean_F, years)],\n",
    "        hoverinfo=\"text+x+y\",\n",
    "        textposition=\"top center\",\n",
    "        textfont=dict(color=\"black\")\n",
    "    )\n",
    ")\n",
    "\n",
    "fig.add_trace(\n",
    "    go.Scatter(\n",
    "        x=years,\n",
    "        y=Mean_P,\n",
    "        mode=\"lines+markers+text\",\n",
    "        name=\"Pojkar\",\n",
    "        marker=dict(color=\"green\", size=8),\n",
    "        line=dict(dash=\"dash\"),\n",
    "        text=[f\"Pojkar {year}: {round(val)}\" for val, year in zip(Mean_P, years)],\n",
    "        hoverinfo=\"text+x+y\",\n",
    "        textposition=\"top center\",\n",
    "        textfont=dict(color=\"black\")\n",
    "    )\n",
    ")\n",
    "\n",
    "fig.update_xaxes(showgrid=True, gridcolor=\"lightgray\", gridwidth=1, zeroline=False, tickfont=dict(color=\"black\"), griddash=\"dot\")\n",
    "fig.update_yaxes(showgrid=True, gridcolor=\"lightgray\", gridwidth=1, zeroline=False, tickfont=dict(color=\"black\"), griddash=\"dot\")\n",
    "\n",
    "fig.update_layout(\n",
    "    title=\"<b>Meritvärde för 16 ämnen åk 9 under åren 2018 - 2023</b>\",\n",
    "    xaxis=dict(title=\"År\", color=\"black\", linecolor=\"black\", linewidth=1),\n",
    "    yaxis=dict(title=\"Antal elever\", color=\"black\", linecolor=\"black\", linewidth=1),\n",
    "    plot_bgcolor=\"white\",\n",
    "    paper_bgcolor=\"white\",\n",
    "    font=dict(color=\"black\"),\n",
    "    legend=dict(font=dict(color=\"black\")),\n",
    "    margin=dict(t=60, b=10, l=60, r=10),\n",
    "    width=1200,  \n",
    "\n",
    "    hoverlabel=dict(\n",
    "        font=dict(color=\"black\")\n",
    "    )\n",
    ")\n",
    "\n",
    "fig.show()\n"
   ]
  },
  {
   "cell_type": "markdown",
   "metadata": {},
   "source": [
    "c) Undersök nu andra variabler, och hur de påverkar meritvärde och andel med minst ett saknat betyg. Data finns för\n",
    "läsår 22/23. Exempel kan man undersöka föräldrarnas utbildningsbakgrund. Rita lämpliga grafer."
   ]
  },
  {
   "cell_type": "code",
   "execution_count": 13,
   "metadata": {},
   "outputs": [
    {
     "data": {
      "image/png": "[encoded data removed]",
      "text/plain": [
       "<Figure size 1000x600 with 1 Axes>"
      ]
     },
     "metadata": {},
     "output_type": "display_data"
    }
   ],
   "source": [
    "import pandas as pd\n",
    "import matplotlib.pyplot as plt\n",
    "\n",
    "plt.style.use(\"dark_background\")\n",
    "\n",
    "df_engelska = pd.read_excel(\"riket2023_åk9_np.xlsx\", sheet_name=\"Engelska\", skiprows=7)\n",
    "df_matematik = pd.read_excel(\"riket2023_åk9_np.xlsx\", sheet_name=\"Matematik\", skiprows=7)\n",
    "df_svenska = pd.read_excel(\"riket2023_åk9_np.xlsx\", sheet_name=\"Svenska\", skiprows=7)\n",
    "df_svenska_som_andrasprak = pd.read_excel(\n",
    "    \"riket2023_åk9_np.xlsx\", sheet_name=\"Svenska som andraspråk\", skiprows=7\n",
    ")\n",
    "\n",
    "total_engelska = df_engelska.iloc[1, 2]  \n",
    "total_matematik = df_matematik.iloc[1, 2]\n",
    "total_svenska = df_svenska.iloc[1, 2]\n",
    "total_svenska2 = df_svenska_som_andrasprak.iloc[1, 2]\n",
    "\n",
    "labels = [\"Engelska\", \"Matematik\", \"Svenska\", \"Svenska som andraspråk\"]\n",
    "totals = [total_engelska, total_matematik, total_svenska, total_svenska2]\n",
    "\n",
    "plt.figure(figsize=(10, 6))\n",
    "bars = plt.bar(labels, totals, color=\"red\", edgecolor=\"white\", linewidth=2)\n",
    "plt.title(\"Antal elever med provbetyg A-F för varje ämne\", color=\"lightgray\", fontname=\"Comic Sans MS\")\n",
    "plt.xlabel(\"Ämnen\", color=\"lightgray\")\n",
    "plt.ylabel(\"Antal elever med provbetyg A-F\", color=\"lightgray\")\n",
    "plt.xticks(rotation=90, ha=\"right\")\n",
    "plt.tight_layout()\n",
    "\n",
    "for bar in bars:\n",
    "    height = bar.get_height()\n",
    "    plt.text(\n",
    "        bar.get_x() + bar.get_width() / 2, height, f\"{height}\", ha=\"center\", va=\"bottom\", color=\"lightgray\",\n",
    "    )\n",
    "\n",
    "plt.show()\n"
   ]
  }
 ],
 "metadata": {
  "kernelspec": {
   "display_name": "venv",
   "language": "python",
   "name": "python3"
  },
  "language_info": {
   "codemirror_mode": {
    "name": "ipython",
    "version": 3
   },
   "file_extension": ".py",
   "mimetype": "text/x-python",
   "name": "python",
   "nbconvert_exporter": "python",
   "pygments_lexer": "ipython3",
   "version": "3.11.7"
  }
 },
 "nbformat": 4,
 "nbformat_minor": 2
}
