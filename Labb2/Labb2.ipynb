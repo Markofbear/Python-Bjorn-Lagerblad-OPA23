{
 "cells": [
  {
   "cell_type": "markdown",
   "metadata": {},
   "source": [
    "# Uppgift 0 - uppvärmning med riket"
   ]
  },
  {
   "cell_type": "markdown",
   "metadata": {},
   "source": [
    " a) Börja med att läsa in filen riket2023_åk9_np.xlsx och sheets för de olika ämnena. Ändra kolumnnamnen på\n",
    "respektive dataframe så du får något liknande som nedan."
   ]
  },
  {
   "cell_type": "code",
   "execution_count": 8,
   "metadata": {},
   "outputs": [
    {
     "name": "stdout",
     "output_type": "stream",
     "text": [
      "Sheets:\n",
      "Engelska\n",
      "Matematik\n",
      "Svenska\n",
      "Svenska som andraspråk\n",
      "Rapportbeskrivning och def.\n"
     ]
    }
   ],
   "source": [
    "import pandas as pd\n",
    "\n",
    "# VS har varit tjurig och vill inte ge relevant filepath, så måste göra en exakt sökning...\n",
    "file_path = r'C:\\Users\\lager\\OneDrive\\Documents\\Github\\Python 1\\Python-Bjorn-Lagerblad-OPA23\\Labb2\\riket2023_åk9_np.xlsx'\n",
    "\n",
    "xls = pd.ExcelFile(file_path)\n",
    "sheet_names = xls.sheet_names\n",
    "\n",
    "print(\"Sheets:\")\n",
    "for sheet_name in sheet_names:\n",
    "    print(sheet_name)\n"
   ]
  }
 ],
 "metadata": {
  "kernelspec": {
   "display_name": "venv",
   "language": "python",
   "name": "python3"
  },
  "language_info": {
   "codemirror_mode": {
    "name": "ipython",
    "version": 3
   },
   "file_extension": ".py",
   "mimetype": "text/x-python",
   "name": "python",
   "nbconvert_exporter": "python",
   "pygments_lexer": "ipython3",
   "version": "3.11.7"
  }
 },
 "nbformat": 4,
 "nbformat_minor": 2
}
