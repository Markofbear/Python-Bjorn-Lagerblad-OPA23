{
 "cells": [
  {
   "cell_type": "markdown",
   "metadata": {},
   "source": [
    "# Uppgift 0 - uppvärmning med riket"
   ]
  },
  {
   "cell_type": "markdown",
   "metadata": {},
   "source": [
    " a) Börja med att läsa in filen riket2023_åk9_np.xlsx och sheets för de olika ämnena."
   ]
  },
  {
   "cell_type": "code",
   "execution_count": 43,
   "metadata": {},
   "outputs": [
    {
     "data": {
      "text/html": [
       "<div>\n",
       "<style scoped>\n",
       "    .dataframe tbody tr th:only-of-type {\n",
       "        vertical-align: middle;\n",
       "    }\n",
       "\n",
       "    .dataframe tbody tr th {\n",
       "        vertical-align: top;\n",
       "    }\n",
       "\n",
       "    .dataframe thead th {\n",
       "        text-align: right;\n",
       "    }\n",
       "</style>\n",
       "<table border=\"1\" class=\"dataframe\">\n",
       "  <thead>\n",
       "    <tr style=\"text-align: right;\">\n",
       "      <th></th>\n",
       "      <th>Unnamed: 0</th>\n",
       "      <th>Unnamed: 1</th>\n",
       "      <th>Antal elever med provbetyg A-F</th>\n",
       "      <th>Unnamed: 3</th>\n",
       "      <th>Unnamed: 4</th>\n",
       "      <th>Andel (%) med provbetyg A-E</th>\n",
       "      <th>Unnamed: 6</th>\n",
       "      <th>Unnamed: 7</th>\n",
       "      <th>Genomsnittlig betygspoäng</th>\n",
       "      <th>Unnamed: 9</th>\n",
       "      <th>Unnamed: 10</th>\n",
       "    </tr>\n",
       "  </thead>\n",
       "  <tbody>\n",
       "    <tr>\n",
       "      <th>0</th>\n",
       "      <td>Riket</td>\n",
       "      <td>Typ av huvudman</td>\n",
       "      <td>Totalt</td>\n",
       "      <td>Flickor</td>\n",
       "      <td>Pojkar</td>\n",
       "      <td>Totalt</td>\n",
       "      <td>Flickor</td>\n",
       "      <td>Pojkar</td>\n",
       "      <td>Totalt</td>\n",
       "      <td>Flickor</td>\n",
       "      <td>Pojkar</td>\n",
       "    </tr>\n",
       "    <tr>\n",
       "      <th>1</th>\n",
       "      <td>Riket</td>\n",
       "      <td>Samtliga</td>\n",
       "      <td>106766</td>\n",
       "      <td>51548</td>\n",
       "      <td>55218</td>\n",
       "      <td>89.1</td>\n",
       "      <td>88.7</td>\n",
       "      <td>89.5</td>\n",
       "      <td>11.9</td>\n",
       "      <td>11.8</td>\n",
       "      <td>12</td>\n",
       "    </tr>\n",
       "    <tr>\n",
       "      <th>2</th>\n",
       "      <td>Riket</td>\n",
       "      <td>Kommunal</td>\n",
       "      <td>84163</td>\n",
       "      <td>40386</td>\n",
       "      <td>43777</td>\n",
       "      <td>88.1</td>\n",
       "      <td>87.7</td>\n",
       "      <td>88.5</td>\n",
       "      <td>11.6</td>\n",
       "      <td>11.5</td>\n",
       "      <td>11.7</td>\n",
       "    </tr>\n",
       "    <tr>\n",
       "      <th>3</th>\n",
       "      <td>Riket</td>\n",
       "      <td>Enskild</td>\n",
       "      <td>22553</td>\n",
       "      <td>11137</td>\n",
       "      <td>11416</td>\n",
       "      <td>92.9</td>\n",
       "      <td>92.2</td>\n",
       "      <td>93.5</td>\n",
       "      <td>13</td>\n",
       "      <td>12.8</td>\n",
       "      <td>13.1</td>\n",
       "    </tr>\n",
       "    <tr>\n",
       "      <th>4</th>\n",
       "      <td>Riket</td>\n",
       "      <td>Skolverket</td>\n",
       "      <td>50</td>\n",
       "      <td>25</td>\n",
       "      <td>25</td>\n",
       "      <td>~100</td>\n",
       "      <td>~100</td>\n",
       "      <td>~100</td>\n",
       "      <td>14.1</td>\n",
       "      <td>13.5</td>\n",
       "      <td>14.7</td>\n",
       "    </tr>\n",
       "  </tbody>\n",
       "</table>\n",
       "</div>"
      ],
      "text/plain": [
       "  Unnamed: 0       Unnamed: 1 Antal elever med provbetyg A-F Unnamed: 3  \\\n",
       "0      Riket  Typ av huvudman                         Totalt    Flickor   \n",
       "1      Riket         Samtliga                         106766      51548   \n",
       "2      Riket         Kommunal                          84163      40386   \n",
       "3      Riket          Enskild                          22553      11137   \n",
       "4      Riket       Skolverket                             50         25   \n",
       "\n",
       "  Unnamed: 4 Andel (%) med provbetyg A-E Unnamed: 6 Unnamed: 7  \\\n",
       "0     Pojkar                     Totalt    Flickor     Pojkar    \n",
       "1      55218                        89.1       88.7       89.5   \n",
       "2      43777                        88.1       87.7       88.5   \n",
       "3      11416                        92.9       92.2       93.5   \n",
       "4         25                        ~100       ~100       ~100   \n",
       "\n",
       "  Genomsnittlig betygspoäng Unnamed: 9 Unnamed: 10  \n",
       "0                  Totalt    Flickor      Pojkar    \n",
       "1                      11.9       11.8          12  \n",
       "2                      11.6       11.5        11.7  \n",
       "3                        13       12.8        13.1  \n",
       "4                      14.1       13.5        14.7  "
      ]
     },
     "execution_count": 43,
     "metadata": {},
     "output_type": "execute_result"
    }
   ],
   "source": [
    "import numpy as np\n",
    "import pandas as pd\n",
    "import matplotlib.pyplot as plt\n",
    "\n",
    "df_engelska= pd.read_excel(\"riket2023_åk9_np.xlsx\", sheet_name= \"Engelska\", skiprows= 7)\n",
    "df_matematik= pd.read_excel(\"riket2023_åk9_np.xlsx\", sheet_name= \"Matematik\", skiprows= 7)\n",
    "df_svenska= pd.read_excel(\"riket2023_åk9_np.xlsx\", sheet_name= \"Svenska\", skiprows= 7)\n",
    "df_svenska2= pd.read_excel(\"riket2023_åk9_np.xlsx\", sheet_name= \"Svenska som andraspråk\", skiprows= 7)\n",
    "df_rapport= pd.read_excel(\"riket2023_åk9_np.xlsx\", sheet_name= \"Rapportbeskrivning och def.\")\n",
    "\n",
    "df_matematik"
   ]
  },
  {
   "cell_type": "markdown",
   "metadata": {},
   "source": [
    " b) Ta reda på antalet som fått F i matematik totalt, pojkar respektive flickor.\n",
    "\n",
    " diskussion "
   ]
  },
  {
   "cell_type": "code",
   "execution_count": 18,
   "metadata": {},
   "outputs": [
    {
     "data": {
      "text/html": [
       "<div>\n",
       "<style scoped>\n",
       "    .dataframe tbody tr th:only-of-type {\n",
       "        vertical-align: middle;\n",
       "    }\n",
       "\n",
       "    .dataframe tbody tr th {\n",
       "        vertical-align: top;\n",
       "    }\n",
       "\n",
       "    .dataframe thead th {\n",
       "        text-align: right;\n",
       "    }\n",
       "</style>\n",
       "<table border=\"1\" class=\"dataframe\">\n",
       "  <thead>\n",
       "    <tr style=\"text-align: right;\">\n",
       "      <th></th>\n",
       "      <th>Huvudman</th>\n",
       "      <th>Totalt A-F</th>\n",
       "      <th>Flickor A-F</th>\n",
       "      <th>Pojkar A-F</th>\n",
       "      <th>Totalt i % A-E</th>\n",
       "      <th>Flickor i % A-E</th>\n",
       "      <th>Pojkar i % A-E</th>\n",
       "    </tr>\n",
       "  </thead>\n",
       "  <tbody>\n",
       "    <tr>\n",
       "      <th>0</th>\n",
       "      <td>Samtliga</td>\n",
       "      <td>106766</td>\n",
       "      <td>51548</td>\n",
       "      <td>55218</td>\n",
       "      <td>89.1</td>\n",
       "      <td>88.7</td>\n",
       "      <td>89.5</td>\n",
       "    </tr>\n",
       "    <tr>\n",
       "      <th>1</th>\n",
       "      <td>Kommunal</td>\n",
       "      <td>84163</td>\n",
       "      <td>40386</td>\n",
       "      <td>43777</td>\n",
       "      <td>88.1</td>\n",
       "      <td>87.7</td>\n",
       "      <td>88.5</td>\n",
       "    </tr>\n",
       "    <tr>\n",
       "      <th>2</th>\n",
       "      <td>Enskild</td>\n",
       "      <td>22553</td>\n",
       "      <td>11137</td>\n",
       "      <td>11416</td>\n",
       "      <td>92.9</td>\n",
       "      <td>92.2</td>\n",
       "      <td>93.5</td>\n",
       "    </tr>\n",
       "    <tr>\n",
       "      <th>3</th>\n",
       "      <td>Skolverket</td>\n",
       "      <td>50</td>\n",
       "      <td>25</td>\n",
       "      <td>25</td>\n",
       "      <td>~100</td>\n",
       "      <td>~100</td>\n",
       "      <td>~100</td>\n",
       "    </tr>\n",
       "  </tbody>\n",
       "</table>\n",
       "</div>"
      ],
      "text/plain": [
       "     Huvudman  Totalt A-F  Flickor A-F  Pojkar A-F Totalt i % A-E  \\\n",
       "0    Samtliga      106766        51548       55218           89.1   \n",
       "1    Kommunal       84163        40386       43777           88.1   \n",
       "2     Enskild       22553        11137       11416           92.9   \n",
       "3  Skolverket          50           25          25           ~100   \n",
       "\n",
       "  Flickor i % A-E Pojkar i % A-E  \n",
       "0            88.7           89.5  \n",
       "1            87.7           88.5  \n",
       "2            92.2           93.5  \n",
       "3            ~100           ~100  "
      ]
     },
     "execution_count": 18,
     "metadata": {},
     "output_type": "execute_result"
    }
   ],
   "source": [
    "import pandas as pd\n",
    "\n",
    "df_matematik = pd.read_excel(\"riket2023_åk9_np.xlsx\", sheet_name=\"Matematik\", skiprows=8)\n",
    "\n",
    "df_matematik = df_matematik.iloc[:, 1:-3]\n",
    "\n",
    "df_matematik.columns = [\"Huvudman\",\"Totalt A-F\",\"Flickor A-F\", \"Pojkar A-F\", \"Totalt i % A-E\", \"Flickor i % A-E\", \"Pojkar i % A-E\"]\n",
    "\n",
    "df_matematik\n",
    "\n"
   ]
  },
  {
   "cell_type": "markdown",
   "metadata": {},
   "source": [
    "Pojkar i % A-E X 2 VAR PROBLEMET"
   ]
  },
  {
   "cell_type": "code",
   "execution_count": 19,
   "metadata": {},
   "outputs": [
    {
     "name": "stdout",
     "output_type": "stream",
     "text": [
      "Antal flickor med betyg F för samtliga: 5824.92\n",
      "Antal pojkar med betyg F för samtliga: 5797.89\n"
     ]
    }
   ],
   "source": [
    "# Beräkna antalet flickor med betyg F för samtliga\n",
    "girls_f = round(df_matematik.loc[0, \"Flickor A-F\"] - df_matematik.loc[0, \"Flickor A-F\"] * (df_matematik.loc[0, \"Flickor i % A-E\"] / 100), 2)\n",
    "\n",
    "# Beräkna antalet pojkar med betyg F för samtliga\n",
    "boys_f = round(df_matematik.loc[0, \"Pojkar A-F\"] - df_matematik.loc[0, \"Pojkar A-F\"] * (df_matematik.loc[0, \"Pojkar i % A-E\"] / 100), 2)\n",
    "\n",
    "# Visa antalet flickor och pojkar med betyg F för samtliga\n",
    "print(\"Antal flickor med betyg F för samtliga:\", girls_f)\n",
    "print(\"Antal pojkar med betyg F för samtliga:\", boys_f)\n",
    "\n"
   ]
  },
  {
   "cell_type": "markdown",
   "metadata": {},
   "source": [
    "  c) Rita ett stapeldiagram på totala poängen för de olika ämnena."
   ]
  },
  {
   "cell_type": "code",
   "execution_count": 53,
   "metadata": {},
   "outputs": [
    {
     "data": {
      "image/png": "[encoded data removed]",
      "text/plain": [
       "<Figure size 1000x600 with 1 Axes>"
      ]
     },
     "metadata": {},
     "output_type": "display_data"
    }
   ],
   "source": [
    "import numpy as np\n",
    "import pandas as pd\n",
    "import matplotlib.pyplot as plt\n",
    "\n",
    "# Läs in data från varje sheet\n",
    "df_engelska = pd.read_excel(\"riket2023_åk9_np.xlsx\", sheet_name=\"Engelska\", skiprows=7)\n",
    "df_matematik = pd.read_excel(\"riket2023_åk9_np.xlsx\", sheet_name=\"Matematik\", skiprows=7)\n",
    "df_svenska = pd.read_excel(\"riket2023_åk9_np.xlsx\", sheet_name=\"Svenska\", skiprows=7)\n",
    "df_svenska2 = pd.read_excel(\"riket2023_åk9_np.xlsx\", sheet_name=\"Svenska som andraspråk\", skiprows=7)\n",
    "\n",
    "# Extrahera \"Totalt\" från varje sheet\n",
    "total_engelska = df_engelska.iloc[1, 2]  # Rad 1, kolumn 2\n",
    "total_matematik = df_matematik.iloc[1, 2]  \n",
    "total_svenska = df_svenska.iloc[1, 2]  \n",
    "total_svenska2 = df_svenska2.iloc[1, 2]  \n",
    "\n",
    "# Skapa ett stapeldiagram för \"Totalt\" från varje sheet\n",
    "labels = ['Engelska', 'Matematik', 'Svenska', 'Svenska som andraspråk']\n",
    "totals = [total_engelska, total_matematik, total_svenska, total_svenska2]\n",
    "\n",
    "plt.figure(figsize=(10, 6))\n",
    "bars = plt.bar(labels, totals, color='skyblue')\n",
    "plt.title('Antal elever med provbetyg A-F för varje ämne')\n",
    "plt.xlabel('Ämnen')\n",
    "plt.ylabel('Antal elever med provbetyg A-F')\n",
    "plt.xticks(rotation=45, ha='right')\n",
    "plt.tight_layout()\n",
    "\n",
    "# Lägg till textetiketter för varje stapel\n",
    "for bar in bars:\n",
    "    height = bar.get_height()\n",
    "    plt.text(bar.get_x() + bar.get_width() / 2, height, f'{height}', ha='center', va='bottom')\n",
    "\n",
    "plt.show()\n"
   ]
  }
 ],
 "metadata": {
  "kernelspec": {
   "display_name": "venv",
   "language": "python",
   "name": "python3"
  },
  "language_info": {
   "codemirror_mode": {
    "name": "ipython",
    "version": 3
   },
   "file_extension": ".py",
   "mimetype": "text/x-python",
   "name": "python",
   "nbconvert_exporter": "python",
   "pygments_lexer": "ipython3",
   "version": "3.11.7"
  }
 },
 "nbformat": 4,
 "nbformat_minor": 2
}
