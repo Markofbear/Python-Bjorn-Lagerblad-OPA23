{
 "cells": [
  {
   "cell_type": "markdown",
   "metadata": {},
   "source": [
    "<div style=\"max-width:66ch;\">\n",
    "\n",
    "# Exercise - pandas fundamentals\n",
    "\n",
    "---\n",
    "These are introductory exercises in Pandas with focus in **syntax, DataFrame, indexing, data selection** and **data cleaning**.\n",
    "\n",
    "<p class = \"alert alert-info\" role=\"alert\"><b>Note</b> that there are usually many ways to achieve same results using operations in pandas. Feel free to investigate several ways. </p>\n",
    "\n",
    "<p class = \"alert alert-info\" role=\"alert\"><b>Note</b> that in cases when you start to repeat code, try not to. Create functions to reuse code instead. </p>\n",
    "\n",
    "<p class = \"alert alert-info\" role=\"alert\"><b>Remember</b> to use <b>descriptive variable, function, index </b> and <b> column names</b> in order to get readable code </p>\n",
    "\n",
    "<p class = \"alert alert-info\" role=\"alert\"><b>Remember</b> to format your input questions in a pedagogical way to guide the user\n",
    "\n",
    "The number of stars (\\*), (\\*\\*), (\\*\\*\\*) denotes the difficulty level of the task\n",
    "\n",
    "---\n",
    "\n",
    "</div>"
   ]
  },
  {
   "cell_type": "markdown",
   "metadata": {},
   "source": [
    "<div style=\"max-width:66ch;\">\n",
    "\n",
    "## 0. Cities in Sweden - create dataset (*)\n",
    "\n",
    "Create this DataFrame from scratch: \n",
    "\n",
    "|    | Kommun    |   Population |\n",
    "|---:|:----------|-------------:|\n",
    "|  0 | Malmö     |       347949 |\n",
    "|  1 | Stockholm |       975551 |\n",
    "|  2 | Uppsala   |       233839 |\n",
    "|  3 | Göteborg  |       583056 |\n",
    "\n",
    "&nbsp; a) Use your DataFrame to print out all the cities. (*)\n",
    "\n",
    "&nbsp; b) Select only the row which contains Göteborg. Do this by using the name Göteborg. (*)\n",
    "\n",
    "&nbsp; c) Sort the cities by population from largest to smallest. (*)\n",
    "\n",
    "&nbsp; d) Filter out the three largest cities. (*)\n",
    "\n",
    "&nbsp; e) The whole population in Sweden 2020 is 10379295. Use this number to create a new column in your sorted DataFrame named: Population (%). This column should be filled with percentage of the Swedish population for each city. \n",
    "\n",
    "</div>\n",
    "\n",
    "\n"
   ]
  },
  {
   "cell_type": "code",
   "execution_count": 39,
   "metadata": {},
   "outputs": [
    {
     "name": "stdout",
     "output_type": "stream",
     "text": [
      "      Kommun  Population\n",
      "0      Malmö      347949\n",
      "1  Stockholm      975551\n",
      "2    Uppsala      233839\n",
      "3   Göteborg      583056\n"
     ]
    }
   ],
   "source": [
    "# a) Use your DataFrame to print out all the cities. (*)import pandas as pd\n",
    "\n",
    "cities = {\n",
    "\"Kommun\": [\"Malmö\",\"Stockholm\",\"Uppsala\",\"Göteborg\"],\n",
    "\"Population\":[347949,975551,233839,583056]\n",
    "}\n",
    "\n",
    "df = pd.DataFrame(cities)\n",
    "\n",
    "print(df)"
   ]
  },
  {
   "cell_type": "code",
   "execution_count": 40,
   "metadata": {},
   "outputs": [
    {
     "name": "stdout",
     "output_type": "stream",
     "text": [
      "     Kommun  Population\n",
      "3  Göteborg      583056\n"
     ]
    }
   ],
   "source": [
    "# b) Select only the row which contains Göteborg. Do this by using the name Göteborg. (*)\n",
    "\n",
    "gothenburg = df[df[\"Kommun\"] == \"Göteborg\"]\n",
    "\n",
    "print(gothenburg)"
   ]
  },
  {
   "cell_type": "code",
   "execution_count": 41,
   "metadata": {},
   "outputs": [
    {
     "name": "stdout",
     "output_type": "stream",
     "text": [
      "      Kommun  Population\n",
      "1  Stockholm      975551\n",
      "3   Göteborg      583056\n",
      "0      Malmö      347949\n",
      "2    Uppsala      233839\n"
     ]
    }
   ],
   "source": [
    "# c) Sort the cities by population from largest to smallest. (*)\n",
    "\n",
    "sorted = df.sort_values(by=\"Population\", ascending=False)\n",
    "\n",
    "print(sorted)"
   ]
  },
  {
   "cell_type": "code",
   "execution_count": 42,
   "metadata": {},
   "outputs": [
    {
     "name": "stdout",
     "output_type": "stream",
     "text": [
      "      Kommun  Population\n",
      "1  Stockholm      975551\n",
      "3   Göteborg      583056\n",
      "0      Malmö      347949\n"
     ]
    }
   ],
   "source": [
    "# d) Filter out the three largest cities. (*)\n",
    "\n",
    "sorted = df.sort_values(by=\"Population\", ascending=False)\n",
    "\n",
    "top_three = sorted.head(3)\n",
    "\n",
    "print(top_three)"
   ]
  },
  {
   "cell_type": "markdown",
   "metadata": {},
   "source": [
    "<div style=\"max-width:66ch;\">\n",
    "\n",
    "---\n",
    "\n",
    "\n",
    "## 1. Cities in Sweden - real dataset (*)\n",
    "\n",
    "\n",
    "Download the file komtopp50_2020.xlsx from the course github repo. The data is taken from SCB. \n",
    "\n",
    "&nbsp; a) Read in the tab \"Totalt\" into a DataFrame and start exploring the data with some simple explorations such as\n",
    "\n",
    "```python\n",
    "df.head()\n",
    "df.info()\n",
    "df.describe()\n",
    "```\n",
    "\n",
    "Feel free to do more explorations. (*)\n",
    "\n",
    "&nbsp; b) Clean your data so that the head looks like this: (*)\n",
    "\n",
    "\n",
    "|    |   Rang 2020 |   Rang 2019 | Kommun   |   Folkmängd 2020 |   Folkmängd 2019 |   Förändring |\n",
    "|---:|------------:|------------:|:---------|-----------------:|-----------------:|-------------:|\n",
    "|  0 |          83 |          84 | Ale      |            31868 |            31402 |     1.48398  |\n",
    "|  1 |          64 |          64 | Alingsås |            41602 |            41420 |     0.439401 |\n",
    "|  2 |         123 |         123 | Alvesta  |            20224 |            20134 |     0.447005 |\n",
    "|  3 |         255 |         255 | Aneby    |             6821 |             6848 |    -0.394276 |\n",
    "|  4 |         169 |         167 | Arboga   |            14039 |            14087 |    -0.34074  |\n",
    "\n",
    "&nbsp; c) Sort the cities by population from largest to smallest. (*)\n",
    "\n",
    "&nbsp; d) Filter out the five smallest cities. (*)\n",
    "\n",
    "&nbsp; e) Use the DataFrame to calculate Sweden's population in 2019 and 2020. (*)\n",
    "\n",
    "&nbsp; f) Plot a bar chart for the five largest cities and the five smallest cities. (*) \n",
    "\n",
    "\n",
    "</div>\n",
    "\n",
    "\n"
   ]
  },
  {
   "cell_type": "code",
   "execution_count": null,
   "metadata": {},
   "outputs": [],
   "source": [
    "# a) Read in the tab \"Totalt\"\n",
    "\n",
    "import pandas as pd\n",
    "\n",
    "# Fick använda en absolute filepath\n",
    "df = pd.read_excel(\"C:/Users/lager/OneDrive/Documents/Github/Python 1/Python-Bjorn-Lagerblad-OPA23/data/data_processing/komtopp50_2020.xlsx\", sheet_name=\"Totalt\")\n",
    "\n",
    "\n",
    "print(\"First few rows:\")\n",
    "print(df.head())\n",
    "\n",
    "print(\"\\nDataFrame info:\")\n",
    "print(df.info())\n",
    "\n",
    "print(\"\\nSummary statistics:\")\n",
    "print(df.describe())\n",
    "\n",
    "\n"
   ]
  },
  {
   "cell_type": "code",
   "execution_count": 52,
   "metadata": {},
   "outputs": [
    {
     "name": "stdout",
     "output_type": "stream",
     "text": [
      "Cleaned data head:\n",
      "  Rang 2020  Rang 2019    Kommun Folkmängd 2020  Folkmängd 2019 Förändring\n",
      "0        83       84.0       Ale          31868         31402.0   1.483982\n",
      "1        64       64.0  Alingsås          41602         41420.0   0.439401\n",
      "2       123      123.0   Alvesta          20224         20134.0   0.447005\n",
      "3       255      255.0     Aneby           6821          6848.0  -0.394276\n",
      "4       169      167.0    Arboga          14039         14087.0   -0.34074\n"
     ]
    }
   ],
   "source": [
    "# b) Clean your data.\n",
    "\n",
    "df = df.dropna()\n",
    "\n",
    "df = df.reset_index(drop=True)\n",
    "\n",
    "df['Kommun'] = df['Kommun'].str.strip()\n",
    "\n",
    "print(\"Cleaned data head:\")\n",
    "print(df.head())\n"
   ]
  },
  {
   "cell_type": "code",
   "execution_count": 54,
   "metadata": {},
   "outputs": [
    {
     "name": "stdout",
     "output_type": "stream",
     "text": [
      "Largest to smallest:\n",
      "    Rang 2020  Rang 2019     Kommun Folkmängd 2020  Folkmängd 2019 Förändring\n",
      "198         1        1.0  Stockholm         975551        974073.0   0.151734\n",
      "57          2        2.0   Göteborg         583056        579281.0    0.65167\n",
      "134         3        3.0      Malmö         347949        344166.0   1.099179\n",
      "241         4        4.0    Uppsala         233839        230767.0   1.331213\n",
      "124         5        5.0  Linköping         164616        163051.0   0.959822\n",
      "..        ...        ...        ...            ...             ...        ...\n",
      "271       286      286.0      Åsele           2805          2794.0   0.393701\n",
      "5         287      287.0   Arjeplog           2718          2785.0  -2.405745\n",
      "29        288      288.0    Dorotea           2498          2551.0  -2.077617\n",
      "194       289      289.0    Sorsele           2442          2489.0  -1.888309\n",
      "12        290      290.0   Bjurholm           2387          2408.0  -0.872093\n",
      "\n",
      "[290 rows x 6 columns]\n"
     ]
    }
   ],
   "source": [
    "# c) Sort the cities by population from largest to smallest.\n",
    "\n",
    "df_sorted = df.sort_values(by=\"Folkmängd 2020\", ascending=False)\n",
    "\n",
    "print(\"Largest to smallest:\")\n",
    "print(df_sorted)"
   ]
  },
  {
   "cell_type": "code",
   "execution_count": 60,
   "metadata": {},
   "outputs": [
    {
     "name": "stdout",
     "output_type": "stream",
     "text": [
      "  Rang 2020  Rang 2019    Kommun  Folkmängd 2020  Folkmängd 2019 Förändring\n",
      "0        83       84.0       Ale             NaN         31402.0   1.483982\n",
      "1        64       64.0  Alingsås             NaN         41420.0   0.439401\n",
      "2       123      123.0   Alvesta             NaN         20134.0   0.447005\n",
      "3       255      255.0     Aneby             NaN          6848.0  -0.394276\n",
      "4       169      167.0    Arboga             NaN         14087.0   -0.34074\n"
     ]
    }
   ],
   "source": [
    "# d) Filter out the five smallest cities. (*)\n",
    "\n",
    "df[\"Folkmängd 2020\"] = pd.to_numeric(df[\"Folkmängd 2020\"], errors=\"coerce\")\n",
    "\n",
    "smallest = df.nsmallest(5, \"Folkmängd 2020\")\n",
    "\n",
    "print(smallest)"
   ]
  },
  {
   "cell_type": "code",
   "execution_count": 2,
   "metadata": {},
   "outputs": [
    {
     "ename": "PermissionError",
     "evalue": "[Errno 13] Permission denied: 'C:\\\\Users\\\\lager\\\\OneDrive\\\\Documents\\\\Github\\\\Python 1\\\\Python-Bjorn-Lagerblad-OPA23\\\\data\\\\data_processing'",
     "output_type": "error",
     "traceback": [
      "\u001b[1;31m---------------------------------------------------------------------------\u001b[0m",
      "\u001b[1;31mPermissionError\u001b[0m                           Traceback (most recent call last)",
      "Cell \u001b[1;32mIn[2], line 5\u001b[0m\n\u001b[0;32m      3\u001b[0m \u001b[38;5;66;03m# Läs in Excel-filen\u001b[39;00m\n\u001b[0;32m      4\u001b[0m file_path \u001b[38;5;241m=\u001b[39m \u001b[38;5;124mr\u001b[39m\u001b[38;5;124m'\u001b[39m\u001b[38;5;124mC:\u001b[39m\u001b[38;5;124m\\\u001b[39m\u001b[38;5;124mUsers\u001b[39m\u001b[38;5;124m\\\u001b[39m\u001b[38;5;124mlager\u001b[39m\u001b[38;5;124m\\\u001b[39m\u001b[38;5;124mOneDrive\u001b[39m\u001b[38;5;124m\\\u001b[39m\u001b[38;5;124mDocuments\u001b[39m\u001b[38;5;124m\\\u001b[39m\u001b[38;5;124mGithub\u001b[39m\u001b[38;5;124m\\\u001b[39m\u001b[38;5;124mPython 1\u001b[39m\u001b[38;5;124m\\\u001b[39m\u001b[38;5;124mPython-Bjorn-Lagerblad-OPA23\u001b[39m\u001b[38;5;124m\\\u001b[39m\u001b[38;5;124mdata\u001b[39m\u001b[38;5;124m\\\u001b[39m\u001b[38;5;124mdata_processing\u001b[39m\u001b[38;5;124m'\u001b[39m\n\u001b[1;32m----> 5\u001b[0m df \u001b[38;5;241m=\u001b[39m \u001b[43mpd\u001b[49m\u001b[38;5;241;43m.\u001b[39;49m\u001b[43mread_excel\u001b[49m\u001b[43m(\u001b[49m\u001b[43mfile_path\u001b[49m\u001b[43m)\u001b[49m\n\u001b[0;32m      7\u001b[0m \u001b[38;5;66;03m# Beräkna totalbefolkningen för 2020\u001b[39;00m\n\u001b[0;32m      8\u001b[0m total_population_2020 \u001b[38;5;241m=\u001b[39m df[\u001b[38;5;124m'\u001b[39m\u001b[38;5;124mFolkmängd 2020\u001b[39m\u001b[38;5;124m'\u001b[39m]\u001b[38;5;241m.\u001b[39msum()\n",
      "File \u001b[1;32mc:\\Users\\lager\\OneDrive\\Documents\\Github\\Python 1\\Python-Bjorn-Lagerblad-OPA23\\venv\\Lib\\site-packages\\pandas\\io\\excel\\_base.py:495\u001b[0m, in \u001b[0;36mread_excel\u001b[1;34m(io, sheet_name, header, names, index_col, usecols, dtype, engine, converters, true_values, false_values, skiprows, nrows, na_values, keep_default_na, na_filter, verbose, parse_dates, date_parser, date_format, thousands, decimal, comment, skipfooter, storage_options, dtype_backend, engine_kwargs)\u001b[0m\n\u001b[0;32m    493\u001b[0m \u001b[38;5;28;01mif\u001b[39;00m \u001b[38;5;129;01mnot\u001b[39;00m \u001b[38;5;28misinstance\u001b[39m(io, ExcelFile):\n\u001b[0;32m    494\u001b[0m     should_close \u001b[38;5;241m=\u001b[39m \u001b[38;5;28;01mTrue\u001b[39;00m\n\u001b[1;32m--> 495\u001b[0m     io \u001b[38;5;241m=\u001b[39m \u001b[43mExcelFile\u001b[49m\u001b[43m(\u001b[49m\n\u001b[0;32m    496\u001b[0m \u001b[43m        \u001b[49m\u001b[43mio\u001b[49m\u001b[43m,\u001b[49m\n\u001b[0;32m    497\u001b[0m \u001b[43m        \u001b[49m\u001b[43mstorage_options\u001b[49m\u001b[38;5;241;43m=\u001b[39;49m\u001b[43mstorage_options\u001b[49m\u001b[43m,\u001b[49m\n\u001b[0;32m    498\u001b[0m \u001b[43m        \u001b[49m\u001b[43mengine\u001b[49m\u001b[38;5;241;43m=\u001b[39;49m\u001b[43mengine\u001b[49m\u001b[43m,\u001b[49m\n\u001b[0;32m    499\u001b[0m \u001b[43m        \u001b[49m\u001b[43mengine_kwargs\u001b[49m\u001b[38;5;241;43m=\u001b[39;49m\u001b[43mengine_kwargs\u001b[49m\u001b[43m,\u001b[49m\n\u001b[0;32m    500\u001b[0m \u001b[43m    \u001b[49m\u001b[43m)\u001b[49m\n\u001b[0;32m    501\u001b[0m \u001b[38;5;28;01melif\u001b[39;00m engine \u001b[38;5;129;01mand\u001b[39;00m engine \u001b[38;5;241m!=\u001b[39m io\u001b[38;5;241m.\u001b[39mengine:\n\u001b[0;32m    502\u001b[0m     \u001b[38;5;28;01mraise\u001b[39;00m \u001b[38;5;167;01mValueError\u001b[39;00m(\n\u001b[0;32m    503\u001b[0m         \u001b[38;5;124m\"\u001b[39m\u001b[38;5;124mEngine should not be specified when passing \u001b[39m\u001b[38;5;124m\"\u001b[39m\n\u001b[0;32m    504\u001b[0m         \u001b[38;5;124m\"\u001b[39m\u001b[38;5;124man ExcelFile - ExcelFile already has the engine set\u001b[39m\u001b[38;5;124m\"\u001b[39m\n\u001b[0;32m    505\u001b[0m     )\n",
      "File \u001b[1;32mc:\\Users\\lager\\OneDrive\\Documents\\Github\\Python 1\\Python-Bjorn-Lagerblad-OPA23\\venv\\Lib\\site-packages\\pandas\\io\\excel\\_base.py:1550\u001b[0m, in \u001b[0;36mExcelFile.__init__\u001b[1;34m(self, path_or_buffer, engine, storage_options, engine_kwargs)\u001b[0m\n\u001b[0;32m   1548\u001b[0m     ext \u001b[38;5;241m=\u001b[39m \u001b[38;5;124m\"\u001b[39m\u001b[38;5;124mxls\u001b[39m\u001b[38;5;124m\"\u001b[39m\n\u001b[0;32m   1549\u001b[0m \u001b[38;5;28;01melse\u001b[39;00m:\n\u001b[1;32m-> 1550\u001b[0m     ext \u001b[38;5;241m=\u001b[39m \u001b[43minspect_excel_format\u001b[49m\u001b[43m(\u001b[49m\n\u001b[0;32m   1551\u001b[0m \u001b[43m        \u001b[49m\u001b[43mcontent_or_path\u001b[49m\u001b[38;5;241;43m=\u001b[39;49m\u001b[43mpath_or_buffer\u001b[49m\u001b[43m,\u001b[49m\u001b[43m \u001b[49m\u001b[43mstorage_options\u001b[49m\u001b[38;5;241;43m=\u001b[39;49m\u001b[43mstorage_options\u001b[49m\n\u001b[0;32m   1552\u001b[0m \u001b[43m    \u001b[49m\u001b[43m)\u001b[49m\n\u001b[0;32m   1553\u001b[0m     \u001b[38;5;28;01mif\u001b[39;00m ext \u001b[38;5;129;01mis\u001b[39;00m \u001b[38;5;28;01mNone\u001b[39;00m:\n\u001b[0;32m   1554\u001b[0m         \u001b[38;5;28;01mraise\u001b[39;00m \u001b[38;5;167;01mValueError\u001b[39;00m(\n\u001b[0;32m   1555\u001b[0m             \u001b[38;5;124m\"\u001b[39m\u001b[38;5;124mExcel file format cannot be determined, you must specify \u001b[39m\u001b[38;5;124m\"\u001b[39m\n\u001b[0;32m   1556\u001b[0m             \u001b[38;5;124m\"\u001b[39m\u001b[38;5;124man engine manually.\u001b[39m\u001b[38;5;124m\"\u001b[39m\n\u001b[0;32m   1557\u001b[0m         )\n",
      "File \u001b[1;32mc:\\Users\\lager\\OneDrive\\Documents\\Github\\Python 1\\Python-Bjorn-Lagerblad-OPA23\\venv\\Lib\\site-packages\\pandas\\io\\excel\\_base.py:1402\u001b[0m, in \u001b[0;36minspect_excel_format\u001b[1;34m(content_or_path, storage_options)\u001b[0m\n\u001b[0;32m   1399\u001b[0m \u001b[38;5;28;01mif\u001b[39;00m \u001b[38;5;28misinstance\u001b[39m(content_or_path, \u001b[38;5;28mbytes\u001b[39m):\n\u001b[0;32m   1400\u001b[0m     content_or_path \u001b[38;5;241m=\u001b[39m BytesIO(content_or_path)\n\u001b[1;32m-> 1402\u001b[0m \u001b[38;5;28;01mwith\u001b[39;00m \u001b[43mget_handle\u001b[49m\u001b[43m(\u001b[49m\n\u001b[0;32m   1403\u001b[0m \u001b[43m    \u001b[49m\u001b[43mcontent_or_path\u001b[49m\u001b[43m,\u001b[49m\u001b[43m \u001b[49m\u001b[38;5;124;43m\"\u001b[39;49m\u001b[38;5;124;43mrb\u001b[39;49m\u001b[38;5;124;43m\"\u001b[39;49m\u001b[43m,\u001b[49m\u001b[43m \u001b[49m\u001b[43mstorage_options\u001b[49m\u001b[38;5;241;43m=\u001b[39;49m\u001b[43mstorage_options\u001b[49m\u001b[43m,\u001b[49m\u001b[43m \u001b[49m\u001b[43mis_text\u001b[49m\u001b[38;5;241;43m=\u001b[39;49m\u001b[38;5;28;43;01mFalse\u001b[39;49;00m\n\u001b[0;32m   1404\u001b[0m \u001b[43m\u001b[49m\u001b[43m)\u001b[49m \u001b[38;5;28;01mas\u001b[39;00m handle:\n\u001b[0;32m   1405\u001b[0m     stream \u001b[38;5;241m=\u001b[39m handle\u001b[38;5;241m.\u001b[39mhandle\n\u001b[0;32m   1406\u001b[0m     stream\u001b[38;5;241m.\u001b[39mseek(\u001b[38;5;241m0\u001b[39m)\n",
      "File \u001b[1;32mc:\\Users\\lager\\OneDrive\\Documents\\Github\\Python 1\\Python-Bjorn-Lagerblad-OPA23\\venv\\Lib\\site-packages\\pandas\\io\\common.py:882\u001b[0m, in \u001b[0;36mget_handle\u001b[1;34m(path_or_buf, mode, encoding, compression, memory_map, is_text, errors, storage_options)\u001b[0m\n\u001b[0;32m    873\u001b[0m         handle \u001b[38;5;241m=\u001b[39m \u001b[38;5;28mopen\u001b[39m(\n\u001b[0;32m    874\u001b[0m             handle,\n\u001b[0;32m    875\u001b[0m             ioargs\u001b[38;5;241m.\u001b[39mmode,\n\u001b[1;32m   (...)\u001b[0m\n\u001b[0;32m    878\u001b[0m             newline\u001b[38;5;241m=\u001b[39m\u001b[38;5;124m\"\u001b[39m\u001b[38;5;124m\"\u001b[39m,\n\u001b[0;32m    879\u001b[0m         )\n\u001b[0;32m    880\u001b[0m     \u001b[38;5;28;01melse\u001b[39;00m:\n\u001b[0;32m    881\u001b[0m         \u001b[38;5;66;03m# Binary mode\u001b[39;00m\n\u001b[1;32m--> 882\u001b[0m         handle \u001b[38;5;241m=\u001b[39m \u001b[38;5;28;43mopen\u001b[39;49m\u001b[43m(\u001b[49m\u001b[43mhandle\u001b[49m\u001b[43m,\u001b[49m\u001b[43m \u001b[49m\u001b[43mioargs\u001b[49m\u001b[38;5;241;43m.\u001b[39;49m\u001b[43mmode\u001b[49m\u001b[43m)\u001b[49m\n\u001b[0;32m    883\u001b[0m     handles\u001b[38;5;241m.\u001b[39mappend(handle)\n\u001b[0;32m    885\u001b[0m \u001b[38;5;66;03m# Convert BytesIO or file objects passed with an encoding\u001b[39;00m\n",
      "\u001b[1;31mPermissionError\u001b[0m: [Errno 13] Permission denied: 'C:\\\\Users\\\\lager\\\\OneDrive\\\\Documents\\\\Github\\\\Python 1\\\\Python-Bjorn-Lagerblad-OPA23\\\\data\\\\data_processing'"
     ]
    }
   ],
   "source": [
    "import pandas as pd\n",
    "\n",
    "file_path = r'C:\\Users\\lager\\OneDrive\\Documents\\Github\\Python 1\\Python-Bjorn-Lagerblad-OPA23\\data\\data_processing'\n",
    "df = pd.read_excel(file_path)\n",
    "\n",
    "total_population_2020 = df['Folkmängd 2020'].sum()\n",
    "\n",
    "print(\"Total population in 2020:\", total_population_2020)\n"
   ]
  },
  {
   "cell_type": "markdown",
   "metadata": {},
   "source": [
    "<div style=\"max-width:66ch;\">\n",
    "\n",
    "---\n",
    "\n",
    "## 2. Cities in Sweden - gender (\\*)\n",
    "\n",
    "We continue with the same Excel-file as in task 2, but now you should also read in the sheets \"Kvinnor\" and \"Män\" into two additional DataFrames. In this task, many operations are similar to all three datasets, try creating custom made functions to reuse as much code as possible.\n",
    "\n",
    "&nbsp; a) Clean your data so that the head looks like this: (\\*)\n",
    "\n",
    "Male:\n",
    "\n",
    "|     | Rang 2020 | Rang 2019 | Kommun   | Folkmängd 2020 | Folkmängd 2019 | Förändring | Kön |\n",
    "| --: | --------: | --------: | :------- | -------------: | -------------: | ---------: | :-- |\n",
    "|   0 |        81 |        83 | Ale      |          16256 |          16054 |    1.25825 | Man |\n",
    "|   1 |        64 |        64 | Alingsås |          20702 |          20646 |   0.271239 | Man |\n",
    "|   2 |       122 |       123 | Alvesta  |          10367 |          10339 |   0.270819 | Man |\n",
    "|   3 |       255 |       255 | Aneby    |           3503 |           3498 |   0.142939 | Man |\n",
    "|   4 |       169 |       168 | Arboga   |           7094 |           7114 |  -0.281136 | Man |\n",
    "\n",
    "Female:\n",
    "\n",
    "|     | Rang 2020 | Rang 2019 | Kommun   | Folkmängd 2020 | Folkmängd 2019 | Förändring | Kön    |\n",
    "| --: | --------: | --------: | :------- | -------------: | -------------: | ---------: | :----- |\n",
    "|   0 |        84 |        85 | Ale      |          15612 |          15348 |    1.72009 | Kvinna |\n",
    "|   1 |        64 |        64 | Alingsås |          20900 |          20774 |   0.606527 | Kvinna |\n",
    "|   2 |       123 |       123 | Alvesta  |           9857 |           9795 |   0.632976 | Kvinna |\n",
    "|   3 |       255 |       255 | Aneby    |           3318 |           3350 |  -0.955224 | Kvinna |\n",
    "|   4 |       165 |       164 | Arboga   |           6945 |           6973 |  -0.401549 | Kvinna |\n",
    "\n",
    "&nbsp; b) Merge the male and female DataFrames vertically and set index to \"Kommun\". Note that there now should be 580 rows now. (\\*)\n",
    "\n",
    "|     Kommun | Folkmängd 2020 | Folkmängd 2019 | Förändring |    Kön |\n",
    "| ---------: | :------------- | -------------: | ---------: | -----: |\n",
    "|        Ale | 16256          |          16054 |    1.25825 |    Man |\n",
    "|   Alingsås | 20702          |          20646 |   0.271239 |    Man |\n",
    "|        ... | ...            |            ... |        ... |    ... |\n",
    "|  Överkalix | 1559           |           1578 |   -1.20406 | Kvinna |\n",
    "| Övertorneå | 2027           |           2065 |   -1.84019 | Kvinna |\n",
    "\n",
    "&nbsp; c) Extract and change column name from the total DataFrame so that the head look like this: (\\*)\n",
    "\n",
    "|     | Kommun   | Total Pop 2020 | Total Pop 2019 | Total förändring |\n",
    "| --: | :------- | -------------: | -------------: | ---------------: |\n",
    "|   0 | Ale      |          31868 |          31402 |          1.48398 |\n",
    "|   1 | Alingsås |          41602 |          41420 |         0.439401 |\n",
    "|   2 | Alvesta  |          20224 |          20134 |         0.447005 |\n",
    "|   3 | Aneby    |           6821 |           6848 |        -0.394276 |\n",
    "|   4 | Arboga   |          14039 |          14087 |         -0.34074 |\n",
    "\n",
    "&nbsp; d) Merge this data with the data in b) so that the head look like this: (\\*)\n",
    "\n",
    "| Kommun    | Folkmängd 2020 | Folkmängd 2019 | Förändring | Kön    | Total Pop 2020 | Total Pop 2019 | Total förändring |\n",
    "| :-------- | -------------: | -------------: | ---------: | :----- | -------------: | -------------: | ---------------: |\n",
    "| Stockholm |         482982 |         482220 |   0.158019 | Man    |         975551 |         974073 |         0.151734 |\n",
    "| Stockholm |         492569 |         491853 |   0.145572 | Kvinna |         975551 |         974073 |         0.151734 |\n",
    "| Göteborg  |         292505 |         290308 |   0.756782 | Man    |         583056 |         579281 |          0.65167 |\n",
    "| Göteborg  |         290551 |         288973 |   0.546072 | Kvinna |         583056 |         579281 |          0.65167 |\n",
    "| Malmö     |         175411 |         173543 |    1.07639 | Kvinna |         347949 |         344166 |          1.09918 |\n",
    "\n",
    "&nbsp; e) Create barplots showing the gender populations of Swedens 10 largest and 10 smallest cities. (\\*)\n",
    "\n",
    "&nbsp; f) Create a pie chart showing the total male and female population in Sweden 2020. (\\*)\n",
    "\n",
    "&nbsp; g) Create a barplot showing the cities with the five largest percentual gender difference in 2020. (\\*\\*)\n",
    "\n",
    "&nbsp; h) Create a barplot showing the top 5 cities with largest populational growth from 2019 to 2020 (\\*\\*)\n",
    "\n",
    "&nbsp; i) Feel free to investigate other questions you are interested in using these datasets. (\\*), (\\*\\*)\n",
    "\n",
    "</div>\n"
   ]
  },
  {
   "cell_type": "markdown",
   "metadata": {},
   "source": [
    "<div style=\"width: 66ch;\">\n",
    "\n",
    "\n",
    "</div>"
   ]
  },
  {
   "cell_type": "code",
   "execution_count": null,
   "metadata": {},
   "outputs": [],
   "source": []
  },
  {
   "cell_type": "markdown",
   "metadata": {},
   "source": [
    "<div style=\"background-color: #FFF; color: #212121; border-radius: 20px; width:25ch; box-shadow: rgba(0, 0, 0, 0.16) 0px 1px 4px; display: flex; justify-content: center; align-items: center;\">\n",
    "<div style=\"padding: 1em; width: 60%;\">\n",
    "    <h2 style=\"font-size: 1.2rem;\">Kokchun Giang</h2>\n",
    "    <a href=\"https://www.linkedin.com/in/kokchungiang/\" target=\"_blank\" style=\"display: flex; align-items: center; gap: .4em; color:#0A66C2;\">\n",
    "        <img src=\"https://content.linkedin.com/content/dam/me/business/en-us/amp/brand-site/v2/bg/LI-Bug.svg.original.svg\" width=\"20\"> \n",
    "        LinkedIn profile\n",
    "    </a>\n",
    "    <a href=\"https://github.com/kokchun/Portfolio-Kokchun-Giang\" target=\"_blank\" style=\"display: flex; align-items: center; gap: .4em; margin: 1em 0; color:#0A66C2;\">\n",
    "        <img src=\"https://github.githubassets.com/images/modules/logos_page/GitHub-Mark.png\" width=\"20\"> \n",
    "        Github portfolio\n",
    "    </a>\n",
    "    <span>AIgineer AB</span>\n",
    "    <div>\n",
    "</div>"
   ]
  }
 ],
 "metadata": {
  "kernelspec": {
   "display_name": "Python 3.9.6 64-bit",
   "language": "python",
   "name": "python3"
  },
  "language_info": {
   "codemirror_mode": {
    "name": "ipython",
    "version": 3
   },
   "file_extension": ".py",
   "mimetype": "text/x-python",
   "name": "python",
   "nbconvert_exporter": "python",
   "pygments_lexer": "ipython3",
   "version": "3.11.7"
  },
  "orig_nbformat": 4,
  "vscode": {
   "interpreter": {
    "hash": "0da836a34428266995a795f1e1e27b816fa1c02f148d9728b3fbbbc5459afca6"
   }
  }
 },
 "nbformat": 4,
 "nbformat_minor": 2
}
